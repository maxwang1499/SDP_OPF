{
 "cells": [
  {
   "cell_type": "markdown",
   "id": "40741f1a-0624-4d67-a4ea-4bf17e7d6789",
   "metadata": {},
   "source": [
    "# 3 Bus Model for Debugging\n",
    "\n",
    "We will create a 3-bus model. Mkae sure that it is functional by running AC OPF, then use it to test our SDP OPF method.\n",
    "Update: We discovered that the cost constraint (constraint 6) is not producing the correct cost per bus. **Not sure why yet**\n",
    "Right now, we replaced Schur's complement constraint with just a simple quadratic equation to test if every else is correct. \n",
    "Only reactance: everything match, but rank = 6 (using quadratic directly instead of Schur's complement)\n",
    "\n",
    "Next step: add resistance and see if we can lower the rank\n",
    "\n",
    "alpha's Schur's complement has some problem"
   ]
  },
  {
   "cell_type": "code",
   "execution_count": 1,
   "id": "037c8cdb-07e2-411c-9367-451beaadc7bc",
   "metadata": {},
   "outputs": [],
   "source": [
    "import pandapower.networks as nw\n",
    "import pandapower as pp\n",
    "import pandas as pd\n",
    "import numpy as np\n",
    "import cvxpy as cp\n",
    "from scipy.sparse import csr_matrix\n",
    "import mosek\n",
    "import plotly.express as px\n",
    "import pandapower.plotting as plot\n",
    "import sys"
   ]
  },
  {
   "cell_type": "markdown",
   "id": "4e7eb95b-dd6e-481f-869e-8388786e2348",
   "metadata": {},
   "source": [
    "The grid will have three generators, each connected to a bus. \n",
    "The grid will have one load, connected to bus 1. \n",
    "\n",
    "| Parameters |   Value |\n",
    "| -------- | ------- |\n",
    "| external grid capacity  |  -150 to 150 MW   |\n",
    "| gas generator P capacity (gen 0 to 2)  | 0 to 150 MW  |\n",
    "|   load 0 demand           |    150 MW      |\n",
    "| cost of external grid | 75 (pound per MWh)     |\n",
    "| cost of gen 1 | 30 (pound per MWh)     |\n",
    "| cost of gen 2 | 40 (pound per MWh)     |"
   ]
  },
  {
   "cell_type": "code",
   "execution_count": 738,
   "id": "6e86b08c-9883-450a-b37e-9d183ac78419",
   "metadata": {},
   "outputs": [
    {
     "data": {
      "text/html": [
       "<div>\n",
       "<style scoped>\n",
       "    .dataframe tbody tr th:only-of-type {\n",
       "        vertical-align: middle;\n",
       "    }\n",
       "\n",
       "    .dataframe tbody tr th {\n",
       "        vertical-align: top;\n",
       "    }\n",
       "\n",
       "    .dataframe thead th {\n",
       "        text-align: right;\n",
       "    }\n",
       "</style>\n",
       "<table border=\"1\" class=\"dataframe\">\n",
       "  <thead>\n",
       "    <tr style=\"text-align: right;\">\n",
       "      <th></th>\n",
       "      <th>bus</th>\n",
       "      <th>name</th>\n",
       "      <th>q_mvar</th>\n",
       "      <th>p_mw</th>\n",
       "      <th>vn_kv</th>\n",
       "      <th>step</th>\n",
       "      <th>max_step</th>\n",
       "      <th>id_characteristic_table</th>\n",
       "      <th>step_dependency_table</th>\n",
       "      <th>in_service</th>\n",
       "    </tr>\n",
       "  </thead>\n",
       "  <tbody>\n",
       "  </tbody>\n",
       "</table>\n",
       "</div>"
      ],
      "text/plain": [
       "Empty DataFrame\n",
       "Columns: [bus, name, q_mvar, p_mw, vn_kv, step, max_step, id_characteristic_table, step_dependency_table, in_service]\n",
       "Index: []"
      ]
     },
     "execution_count": 738,
     "metadata": {},
     "output_type": "execute_result"
    }
   ],
   "source": [
    "# Create an empty network\n",
    "net = pp.create_empty_network()\n",
    "\n",
    "# Set base values for the per unit system\n",
    "Vbase = 110 # Base voltage in kV\n",
    "Sbase = 150 # Base apparent power in MVA\n",
    "Zbase = Vbase**2 / Sbase  # in Ohms\n",
    "Ibase = Sbase/Vbase # Base current in kA\n",
    "Ybase = 1 / Zbase # base admittance in Siemens\n",
    "# Line Impedances in Ohms\n",
    "r_ohm = 0.0005 # let's assume we have negligible resistance\n",
    "x_ohm = 0.005*Zbase\n",
    "length_km = 1  # nominal length\n",
    "min_vm_pu = 0.95\n",
    "max_vm_pu = 1.05\n",
    "shunt_q_var = 0\n",
    "\n",
    "#Convert line flow limits from MW to kA (approx)\n",
    "def mw_to_ka(p_mw, v_kv=Vbase):\n",
    "    return p_mw / (v_kv * (3)**0.5)\n",
    "\n",
    "#Create the buses\n",
    "b0 = pp.create_bus(net, vn_kv=Vbase, min_vm_pu=min_vm_pu, max_vm_pu=max_vm_pu, name=\"Bus 0\")\n",
    "b1 = pp.create_bus(net, vn_kv=Vbase, min_vm_pu=min_vm_pu, max_vm_pu=max_vm_pu, name=\"Bus 1\")\n",
    "b2 = pp.create_bus(net, vn_kv=Vbase, min_vm_pu=min_vm_pu, max_vm_pu=max_vm_pu, name=\"Bus 2\")\n",
    "\n",
    "# Create external grid (slack bus at Bus 0)\n",
    "ext = pp.create_ext_grid(net, bus=b0, vm_pu=1.0,  min_p_mw=-Sbase, max_p_mw=Sbase, min_q_mvar=-1/4*Sbase, max_q_mvar=Sbase,  name=\"Slack Bus\")\n",
    "\n",
    "#Create the generators \n",
    "#gen0 = pp.create_gen(net, bus=b0, p_mw=0, min_p_mw=0, max_p_mw=0.5*Sbase, min_q_mvar=-1/4*Sbase, max_q_mvar=Sbase, name=\"Generator 0\")\n",
    "gen1 = pp.create_gen(net, bus=b1, p_mw=0, min_p_mw=0, max_p_mw=0.5*Sbase, min_q_mvar=-1/4*Sbase, max_q_mvar=Sbase, controllable = True, name=\"Generator 1\")\n",
    "gen2 = pp.create_gen(net, bus=b2, p_mw=0, min_p_mw=0, max_p_mw=0.5*Sbase, min_q_mvar=-1/4*Sbase, max_q_mvar=Sbase,controllable = True, name=\"Generator 2\")\n",
    "\n",
    "# Add generator costs\n",
    "#pp.create_poly_cost(net, element=gen0, et='gen', cp1_eur_per_mw=20)\n",
    "pp.create_poly_cost(net, element=gen1, et='gen', cp1_eur_per_mw=30)\n",
    "pp.create_poly_cost(net, element=gen2, et='gen', cp1_eur_per_mw=40)\n",
    "pp.create_poly_cost(net, element=ext, et='ext_grid', cp1_eur_per_mw=75)\n",
    "\n",
    "#Create the loads\n",
    "pp.create_load(net, bus=b1, p_mw=Sbase, q_mvar=0.5*Sbase, name=\"L0\")\n",
    "\n",
    "#Add Shunt element\n",
    "# pp.create_shunt(net, bus=b2, q_mvar = shunt_q_var)  \n",
    "\n",
    "#Show buses\n",
    "net.shunt\n"
   ]
  },
  {
   "cell_type": "code",
   "execution_count": 740,
   "id": "e08e3585-ef23-4c3a-b796-a37d59882ad5",
   "metadata": {},
   "outputs": [
    {
     "name": "stderr",
     "output_type": "stream",
     "text": [
      "No or insufficient geodata available --> Creating artificial coordinates. This may take some time\n"
     ]
    },
    {
     "data": {
      "image/png": "[encoded data removed]",
      "text/plain": [
       "<Figure size 1000x800 with 1 Axes>"
      ]
     },
     "metadata": {},
     "output_type": "display_data"
    },
    {
     "data": {
      "text/plain": [
       "<Axes: >"
      ]
     },
     "execution_count": 740,
     "metadata": {},
     "output_type": "execute_result"
    }
   ],
   "source": [
    "# Add lines with limits\n",
    "pp.create_line_from_parameters(net, b0, b1, length_km=1,\n",
    "    r_ohm_per_km=r_ohm, x_ohm_per_km=x_ohm, c_nf_per_km=0,\n",
    "    max_i_ka=mw_to_ka(300), name=\"line01\")\n",
    "\n",
    "pp.create_line_from_parameters(net, b0, b2, length_km=1,\n",
    "    r_ohm_per_km=r_ohm, x_ohm_per_km=x_ohm, c_nf_per_km=0,\n",
    "    max_i_ka=mw_to_ka(200), name=\"line02\")\n",
    "\n",
    "pp.create_line_from_parameters(net, b1, b2, length_km=1,\n",
    "    r_ohm_per_km=r_ohm, x_ohm_per_km=x_ohm, c_nf_per_km=0,\n",
    "    max_i_ka=mw_to_ka(200), name=\"line12\")\n",
    "\n",
    "plot.simple_plot(net, show_plot=True, plot_loads=True, plot_gens=True, gen_size =5, load_size=3, line_width=4, bus_size=3)"
   ]
  },
  {
   "cell_type": "code",
   "execution_count": 742,
   "id": "a7d44109-cac9-46e9-acfa-82deb46fb10c",
   "metadata": {},
   "outputs": [
    {
     "name": "stdout",
     "output_type": "stream",
     "text": [
      "PYPOWER Version 5.1.4, 27-June-2018 -- AC Optimal Power Flow\n",
      "Python Interior Point Solver - PIPS, Version 1.0, 07-Feb-2011\n",
      "Converged!\n",
      "\n",
      "Converged in 0.33 seconds\n",
      "Objective Function Value = 5250.01 $/hr\n",
      "================================================================================\n",
      "| PyPower (ppci) System Summary - these are not valid for pandapower DataFrames|\n",
      "================================================================================\n",
      "\n",
      "How many?                How much?              P (MW)            Q (MVAr)\n",
      "---------------------    -------------------  -------------  -----------------\n",
      "Buses              3     Total Gen Capacity     300.0        -112.5 to 450.0\n",
      "Generators         3     On-line Capacity       300.0        -112.5 to 450.0\n",
      "Committed Gens     3     Generation (actual)    150.0              75.1\n",
      "Loads              1     Load                   150.0              75.0\n",
      "  Fixed            1       Fixed                150.0              75.0\n",
      "  Dispatchable     0       Dispatchable           0.0 of 0.0        0.0\n",
      "Shunts             0     Shunt (inj)              0.0               0.0\n",
      "Branches           3     Losses (I^2 * Z)         0.00              0.13\n",
      "Transformers       3     Branch Charging (inj)     -                0.0\n",
      "Inter-ties         0     Total Inter-tie Flow     0.0               0.0\n",
      "Areas              1\n",
      "\n",
      "                          Minimum                      Maximum\n",
      "                 -------------------------  --------------------------------\n",
      "Voltage Magnitude   1.000 p.u. @ bus 1          1.000 p.u. @ bus 2   \n",
      "Voltage Angle      -0.05 deg   @ bus 1          0.05 deg   @ bus 2   \n",
      "P Losses (I^2*R)             -                  0.00 MW    @ line 1-2\n",
      "Q Losses (I^2*X)             -                  0.08 MVAr  @ line 1-2\n",
      "Lambda P           75.00 $/MWh @ bus 2         75.00 $/MWh @ bus 1   \n",
      "Lambda Q           -0.00 $/MWh @ bus 0          0.00 $/MWh @ bus 1   \n",
      "\n",
      "================================================================================\n",
      "|     Area Summary                                                             |\n",
      "================================================================================\n",
      "Area  # of      # of Gens        # of Loads         # of    # of   # of   # of\n",
      " Num  Buses   Total  Online   Total  Fixed  Disp    Shunt   Brchs  Xfmrs   Ties\n",
      "----  -----   -----  ------   -----  -----  -----   -----   -----  -----  -----\n",
      "  1       3       3      3       1      1      0       0       3      3      0\n",
      "----  -----   -----  ------   -----  -----  -----   -----   -----  -----  -----\n",
      "Tot:      3       3      3       1      1      0       0       3      3      0\n",
      "\n",
      "Area      Total Gen Capacity           On-line Gen Capacity         Generation\n",
      " Num     MW           MVAr            MW           MVAr             MW    MVAr\n",
      "----   ------  ------------------   ------  ------------------    ------  ------\n",
      "  1     300.0   -112.5 to 450.0    300.0   -112.5 to 450.0       150.0    75.1\n",
      "----   ------  ------------------   ------  ------------------    ------  ------\n",
      "\n",
      "Area    Disp Load Cap       Disp Load         Fixed Load        Total Load\n",
      " Num      MW     MVAr       MW     MVAr       MW     MVAr       MW     MVAr\n",
      "----    ------  ------    ------  ------    ------  ------    ------  ------\n",
      "  1        0.0     0.0       0.0     0.0     150.0    75.0     150.0    75.0\n",
      "----    ------  ------    ------  ------    ------  ------    ------  ------\n",
      "Tot:       0.0     0.0       0.0     0.0     150.0    75.0     150.0    75.0\n",
      "\n",
      "Area      Shunt Inj        Branch      Series Losses      Net Export\n",
      " Num      MW     MVAr     Charging      MW     MVAr       MW     MVAr\n",
      "----    ------  ------    --------    ------  ------    ------  ------\n",
      "  1        0.0     0.0        0.0       0.00    0.13       0.0     0.0\n",
      "----    ------  ------    --------    ------  ------    ------  ------\n",
      "Tot:       0.0     0.0        0.0       0.00    0.13       -       -\n",
      "\n",
      "================================================================================\n",
      "|     Generator Data                                                           |\n",
      "================================================================================\n",
      " Gen   Bus   Status     Pg        Qg      Lambda ($/MVA-hr)\n",
      "  #     #              (MW)     (MVAr)      P         Q    \n",
      "----  -----  ------  --------  --------  --------  --------\n",
      "  0      0      1       0.00      0.01     75.00     -0.00\n",
      "  1      1      1      75.00     74.93     75.00      0.00\n",
      "  2      2      1      75.00      0.19     75.00     -0.00\n",
      "                     --------  --------\n",
      "            Total:    150.00     75.12\n",
      "\n",
      "================================================================================\n",
      "|     Bus Data                                                                 |\n",
      "================================================================================\n",
      " Bus      Voltage          Generation             Load          Lambda($/MVA-hr)\n",
      "  #   Mag(pu) Ang(deg)   P (MW)   Q (MVAr)   P (MW)   Q (MVAr)     P        Q   \n",
      "----- ------- --------  --------  --------  --------  --------  -------  -------\n",
      "    0  1.000   -0.000*     0.00      0.01       -         -      75.000     -\n",
      "    1  1.000   -0.048     75.00     74.93    150.00     75.00    75.000     -\n",
      "    2  1.000    0.048     75.00      0.19       -         -      75.000     -\n",
      "                        --------  --------  --------  --------\n",
      "               Total:    150.00     75.12    150.00     75.00\n",
      "\n",
      "================================================================================\n",
      "|     Branch Data                                                              |\n",
      "================================================================================\n",
      "Brnch   From   To    From Bus Injection   To Bus Injection     Loss (I^2 * Z)  \n",
      "  #     Bus    Bus    P (MW)   Q (MVAr)   P (MW)   Q (MVAr)   P (MW)   Q (MVAr)\n",
      "-----  -----  -----  --------  --------  --------  --------  --------  --------\n",
      "   0      0      1     25.00      0.05    -25.00     -0.03     0.000      0.02\n",
      "   1      0      2    -25.00     -0.04     25.00      0.06     0.000      0.02\n",
      "   2      1      2    -50.00     -0.05     50.00      0.13     0.000      0.08\n",
      "                                                             --------  --------\n",
      "                                                    Total:     0.000      0.13\n",
      "\n",
      "================================================================================\n",
      "|     Voltage Constraints                                                      |\n",
      "================================================================================\n",
      "Bus #  Vmin mu    Vmin    |V|   Vmax    Vmax mu\n",
      "-----  --------   -----  -----  -----   --------\n",
      "    0 91930.015   1.000  1.000  1.000 91930.038\n",
      "    1      -      0.950  1.000  1.050      -    \n",
      "    2      -      0.950  1.000  1.050      -    \n",
      "\n",
      "================================================================================\n",
      "|     Generation Constraints                                                   |\n",
      "================================================================================\n",
      " Gen   Bus                Active Power Limits\n",
      "  #     #    Pmin mu    Pmin       Pg       Pmax    Pmax mu\n",
      "----  -----  -------  --------  --------  --------  -------\n",
      "   0     0      -     -150.00      0.00    150.00      -  \n",
      "   1     1      -       -0.00     75.00     75.00   45.000\n",
      "   2     2      -       -0.00     75.00     75.00   35.000\n",
      "\n",
      "Gen  Bus              Reactive Power Limits\n",
      " #    #   Qmin mu    Qmin       Qg       Qmax    Qmax mu\n",
      "---  ---  -------  --------  --------  --------  -------\n",
      "  0    0     -      -37.50      0.01    150.00      -  \n",
      "  1    1     -      -37.50     74.93    150.00      -  \n",
      "  2    2     -      -37.50      0.19    150.00      -  \n",
      "\n",
      "================================================================================\n",
      "|     Dispatchable Load Constraints                                            |\n",
      "================================================================================\n",
      "Gen  Bus               Active Power Limits\n",
      " #    #   Pmin mu    Pmin       Pg       Pmax    Pmax mu\n",
      "---  ---  -------  --------  --------  --------  -------\n",
      "\n",
      "Gen  Bus              Reactive Power Limits\n",
      " #    #   Qmin mu    Qmin       Qg       Qmax    Qmax mu\n",
      "---  ---  -------  --------  --------  --------  -------\n",
      "\n",
      "================================================================================\n",
      "|     Branch Flow Constraints                                                  |\n",
      "================================================================================\n",
      "Branch   From     \"From\" End        Limit       \"To\" End        To\n",
      "  #     Bus   |If| mu    |If|     |Imax|     |It|    |It| mu   Bus\n",
      "-----  -----  -------  --------  --------  --------  -------  -----\n",
      "   0      0     0.000    25.00      0.00     25.00     0.000     1\n",
      "   1      0     0.000    25.00      0.00     25.00     0.000     2\n",
      "   2      1     0.000    50.00      0.00     50.00     0.000     2\n",
      "AC OPF\n",
      "      vm_pu     va_degree       p_mw    q_mvar      lam_p         lam_q\n",
      "0  1.000000 -8.693782e-23  -0.000155 -0.007610  75.000000 -4.001422e-07\n",
      "1  0.999998 -4.774664e-02  75.000000  0.072387  75.000155  1.518952e-07\n",
      "2  1.000003  4.774612e-02 -75.000000 -0.189660  74.999845 -3.891380e-07\n",
      "Optimal Cost is 5250.011629363133\n"
     ]
    }
   ],
   "source": [
    "# Run AC Optimal Power Flow\n",
    "pp.runopp(net, verbose=True)\n",
    "print(\"AC OPF\")\n",
    "print(net.res_bus)\n",
    "print(\"Optimal Cost is\", net.res_cost)"
   ]
  },
  {
   "cell_type": "markdown",
   "id": "a8b0a92d-3020-4c41-bab0-ed7f1b688183",
   "metadata": {},
   "source": [
    "## SDP OPF\n",
    "We need to construct the Ybus. Let's do it manually first.\n",
    "\n",
    "We assumed that there's no resistence in thsi grid, which means admittance is just B, susceptance, which is the inverse of reactance (x). \n",
    "$$\n",
    "\\begin{bmatrix}\n",
    "P_1\\\\\n",
    "P_2\\\\\n",
    "\\vdots\\\\\n",
    "P_N\n",
    "\\end{bmatrix}=\\textbf{B}\\begin{bmatrix}\n",
    "\\theta_1\\\\\n",
    "\\theta_2\\\\\n",
    "\\vdots\\\\\n",
    "\\theta_N\n",
    "\\end{bmatrix}=\n",
    "\\begin{bmatrix}\n",
    "B_{12} + B_{13} + \\dots + B_{1N} & -B_{12}                 & \\dots & -B_{1N}\\\\\n",
    "-B_{21}                          & B_{21} + B_{22} + \\dots + B_{2N} & \\dots & -B_{2N}\\\\\n",
    "\\vdots                           & \\vdots                           & \\ddots & \\vdots\\\\\n",
    "-B_{N1}                          & -B_{N2}                          & \\dots & B_{N1} + B_{N2} + \\dots\n",
    "\\end{bmatrix}\n",
    "\\begin{bmatrix}\n",
    "\\theta_1\\\\\n",
    "\\theta_2\\\\\n",
    "\\vdots\\\\\n",
    "\\theta_N\n",
    "\\end{bmatrix}\n",
    "$$\n",
    "\n",
    "where $B_{ij} = \\frac{1}{x_{ij}}$"
   ]
  },
  {
   "cell_type": "code",
   "execution_count": 745,
   "id": "bab9c89c-ce2e-4095-bcb3-b412c7ccc6c2",
   "metadata": {},
   "outputs": [
    {
     "name": "stdout",
     "output_type": "stream",
     "text": [
      "x_ohm: 0.4033333333333334\n",
      "r_ohm: 0.0005\n",
      "B_shunt: 0j\n",
      "Ybus (by hand): [[ 0.49586701-399.99938529j -0.2479335 +199.99969264j\n",
      "  -0.2479335 +199.99969264j]\n",
      " [-0.2479335 +199.99969264j  0.49586701-399.99938529j\n",
      "  -0.2479335 +199.99969264j]\n",
      " [-0.2479335 +199.99969264j -0.2479335 +199.99969264j\n",
      "   0.49586701-399.99938529j]]\n"
     ]
    }
   ],
   "source": [
    "print('x_ohm:', x_ohm)\n",
    "print('r_ohm:', r_ohm)\n",
    "B_shunt = 1j*shunt_q_var / (Vbase**2)  # in Siemens\n",
    "print('B_shunt:', B_shunt)\n",
    "Z = r_ohm + 1j*x_ohm\n",
    "Ybus_S = np.array([[1/Z + 1/Z + B_shunt, -1/Z, -1/Z], \n",
    "              [-1/Z, 1/Z + 1/Z + B_shunt,  -1/Z], \n",
    "              [-1/Z, -1/Z,  1/Z + 1/Z + B_shunt]])\n",
    "Ybus = np.divide(Ybus_S, Ybase)\n",
    "print('Ybus (by hand):', Ybus)"
   ]
  },
  {
   "cell_type": "markdown",
   "id": "4e880f27-685f-45f3-9ecf-9e985a84b45c",
   "metadata": {},
   "source": [
    "## Extract Network Information"
   ]
  },
  {
   "cell_type": "code",
   "execution_count": 748,
   "id": "7b420b03-7e74-436a-8685-ef4a8084a3ab",
   "metadata": {},
   "outputs": [],
   "source": [
    "\n",
    "n = len(net.bus)  # Number of buses\n",
    "\n",
    "#we need line information to add line flow constraints\n",
    "# Extract line connections as (from_bus, to_bus) tuples\n",
    "lines = list(zip(net.line['from_bus'].astype(int), net.line['to_bus'].astype(int)))\n",
    "\n",
    "#################### series admittance ##########################\n",
    "\n",
    "y_lines = {}\n",
    "for idx, row in net.line.iterrows():\n",
    "    l = int(row['from_bus'])\n",
    "    m = int(row['to_bus'])\n",
    "    y_lines[(l,m)]= -Ybus[l, m]\n",
    "\n",
    "###################### shunt admittance set to zero for now ######################\n",
    "\n",
    "# Note c_nf_per_km (float) - line capacitance in nano Farad per km\n",
    "y_shunt = {}\n",
    "f = 50  # System frequency (Hz); change to 60 if using US grid\n",
    "omega = 2 * np.pi * f  # Angular frequency (rad/s)\n",
    "\n",
    "for idx, row in net.line.iterrows():\n",
    "    l = int(row['from_bus'])\n",
    "    m = int(row['to_bus'])\n",
    "    C_per_km = row['c_nf_per_km']  # Capacitance in nF/km\n",
    "    length = row['length_km']      # Line length in km\n",
    "    C_total = C_per_km * 1e-9 * length  # Total capacitance (F)\n",
    "    B_total = omega * C_total      # Total susceptance (S)\n",
    "    y_shunt_lm = 1j * B_total / 2  # Half at each end (π-model)\n",
    "    y_shunt_pu = y_shunt_lm/Ybase\n",
    "    y_shunt[(l,m)]= 0\n",
    "    \n",
    "#y_shunt = np.zeros((n, n), dtype=complex)\n",
    "#for k in range(n):\n",
    "        #y_shunt[k, k] = 1/2 * (Ybus[k, k] + sum(Ybus[k, m] for m in range(n) if m != k))\n",
    "\n",
    "##################### Double check s_max ####################################\n",
    "\n",
    "# Define s_max for each line using max_i_ka and Vbase\n",
    "s_max = {}\n",
    "p_max = {}\n",
    "max_v_diff_lm = {}\n",
    "for idx, row in net.line.iterrows():\n",
    "    l = int(row['from_bus'])\n",
    "    m = int(row['to_bus'])\n",
    "    Imax = row['max_i_ka']  # in kA   # IS This phase current or line current? #################################\n",
    "    # Smax in MVA\n",
    "    s_max[(l, m)] = np.sqrt(3) * Vbase * Imax  \n",
    "    # Since we don't have info on P^max_lm, we will assume it is 95% of S^max_lm.\n",
    "    p_max[(l, m)] = 0.95 * s_max[(l, m)]\n",
    "    # Since we don't have the maximum voltage difference across a line, we will estimate it\n",
    "    v_max_l = net.bus.loc[l, \"max_vm_pu\"]\n",
    "    v_min_m = net.bus.loc[m, \"min_vm_pu\"]\n",
    "    v_max_m = net.bus.loc[m, \"max_vm_pu\"]\n",
    "    v_min_l = net.bus.loc[l, \"min_vm_pu\"]\n",
    "    max_v_diff_lm[(l,m)] = max(abs(v_max_l - v_min_m), abs(v_max_m - v_min_l))\n",
    "\n",
    "######################################################################\n",
    "\n",
    "# Extract generator information for generation constraints\n",
    "# Combine all generators, keep them separate\n",
    "all_gen = pd.concat([\n",
    "    net.gen.assign(type=\"gen\"),\n",
    "    net.sgen.assign(type=\"sgen\"),\n",
    "    net.ext_grid.assign(type=\"ext\")\n",
    "])\n",
    "all_gen.reset_index(inplace=True)\n",
    "gen_buses = all_gen[\"bus\"].values\n",
    "#all_gen = all_gen.groupby(\"bus\").sum(numeric_only=True).reset_index() #if multiple generators are present at a bus, combine them.\n",
    "\n",
    "# Extract load for generation constraints\n",
    "load_buses = net.load[\"bus\"].values #index of the load buses.\n",
    "#load active and reactive power for load\n",
    "p_load = np.zeros(n)\n",
    "q_load = np.zeros(n)\n",
    "all_load = net.load.groupby(\"bus\").sum(numeric_only=True).reset_index() #if multiple loads are present at a bus, combine them.\n",
    "for i,row in all_load.iterrows():\n",
    "    p_load[int(row['bus'])] = row['p_mw'] \n",
    "    q_load[int(row['bus'])] = row['q_mvar']\n",
    "    \n",
    "# Extract min and max power for generation constraints\n",
    "min_p = np.zeros(n)\n",
    "max_p = np.zeros(n)\n",
    "min_q = np.zeros(n)\n",
    "max_q = np.zeros(n)\n",
    "\n",
    "for i,row in all_gen.iterrows():\n",
    "    min_p[int(row['bus'])] = row['min_p_mw'] \n",
    "    max_p[int(row['bus'])] = row['max_p_mw']\n",
    "    min_q[int(row['bus'])] = row['min_q_mvar'] \n",
    "    max_q[int(row['bus'])] = row['max_q_mvar']  \n",
    "    \n",
    "# Voltage limits\n",
    "min_v_pu = net.bus[\"min_vm_pu\"].values ** 2  # Squared for SDP\n",
    "max_v_pu = net.bus[\"max_vm_pu\"].values ** 2\n",
    "\n",
    "# Slack bus voltage\n",
    "vm_slack = net.ext_grid['vm_pu'][0] #initial voltage of the slack\n",
    "\n",
    "# Slack bus\n",
    "slack_bus = int(net.ext_grid[\"bus\"].iloc[0])\n",
    "\n",
    "#######################################################################\n",
    "\n",
    "# Extract generator cost coefficients from net.poly_cost\n",
    "c2 = np.zeros(n)\n",
    "c1 = np.zeros(n)\n",
    "c0 = np.zeros(n)\n",
    "#all_cost = net.poly_cost.groupby(\"element\").sum(numeric_only=True).reset_index() #if multiple loads are present at a bus, combine them.\n",
    "\n",
    "gen_bus = net.gen[net.gen['controllable'] == True].copy()\n",
    "gen_bus = net.gen[[\"bus\"]].reset_index()\n",
    "gen_cost = net.poly_cost[net.poly_cost['et'] == 'gen'].copy()\n",
    "gen_combined = pd.merge(\n",
    "    gen_bus,       # reset index to merge by position\n",
    "    gen_cost,\n",
    "    left_on='index',             # gen index\n",
    "    right_on='element',        # matches the 'element' column in poly_cost\n",
    "    how='left'                   # in case some gens don't have cost\n",
    ")\n",
    "ext_grid_row = net.poly_cost[net.poly_cost[\"et\"] == \"ext_grid\"].copy()\n",
    "ext_grid_row[\"bus\"] = 0\n",
    "all_cost = pd.concat([ext_grid_row, gen_combined], ignore_index=True)\n",
    "\n",
    "for i,row in all_cost.iterrows():\n",
    "    c2[int(row['bus'])] = row['cp2_eur_per_mw2'] # Quadratic cost coefficients\n",
    "    c1[int(row['bus'])] = row['cp1_eur_per_mw']  # Linear cost coefficients\n",
    "    c0[int(row['bus'])] = row['cp0_eur']  # Constant cost coefficients"
   ]
  },
  {
   "cell_type": "code",
   "execution_count": 861,
   "id": "0d81e280-f15c-4c09-a310-4c2dcb0e10f6",
   "metadata": {},
   "outputs": [],
   "source": [
    "\n",
    "\n",
    "############################## Initialize ###################################\n",
    "# Define our problem matrix, W. It is 2n x 2n, where the first n rows and columns correspond to the real part of the voltage, and the second n rows and columns correspond to the imaginary part of the voltage.\n",
    "W = cp.Variable((2*n, 2*n), PSD=True)\n",
    "\n",
    "# Initialize the problem matrices\n",
    "Y_set = {} # Hermitian part of Y_j\n",
    "Y_bar_set = {} # Skewed Hermitian part of Y_j\n",
    "M_set = {}\n",
    "\n",
    "for k in range(n):\n",
    "    e_k = np.zeros((n, 1))\n",
    "    e_k[k] = 1\n",
    "    Yk = e_k @ e_k.T @ Ybus #Yk is the admittance matrix with only the (k,k) entry, everything else is zero\n",
    "    \n",
    "    #Y_k is the Hermitian part of Y_k\n",
    "    Y_k = 1/2 * np.block([\n",
    "        [np.real(Yk + Yk.T),     np.imag(Yk.T - Yk)],\n",
    "        [np.imag(Yk - Yk.T),     np.real(Yk + Yk.T)]\n",
    "    ])\n",
    "    #print('Size of Y_k', Y_k.shape)\n",
    "    #Y_kbar is the skewed Hermitian part of Y_k\n",
    "    Y_kbar = -1/2 * np.block([\n",
    "        [np.imag(Yk + Yk.T),    np.real(Yk - Yk.T)],\n",
    "        [np.real(Yk.T - Yk),    np.imag(Yk + Yk.T)]\n",
    "    ])\n",
    "    #print('Size of Y_kbar', Y_kbar.shape)\n",
    "    #M_k is the matrix that will be used to enforce the voltage constraints\n",
    "    M_k = np.block([\n",
    "        [e_k @ e_k.T,       np.zeros((n, n))],\n",
    "        [np.zeros((n, n)), e_k @ e_k.T]\n",
    "    ])\n",
    "    #print('Size of M_k', M_k.shape)\n",
    "    Y_set[k] = Y_k\n",
    "    Y_bar_set[k] = Y_kbar\n",
    "    M_set[k] = M_k\n",
    "\n",
    "# Create the matrices for the line constraints\n",
    "M_line_set = {}\n",
    "Y_line_set = {}\n",
    "Y_bar_line_set = {}\n",
    "\n",
    "for (l, m) in lines:  # lines is a list of (l, m) tuples\n",
    "\n",
    "    e_l = np.zeros((n, 1))\n",
    "    e_m = np.zeros((n, 1))\n",
    "    e_l[l] = 1\n",
    "    e_m[m] = 1\n",
    "    delta = e_l - e_m\n",
    "    M_lm = np.block([\n",
    "        [delta @ delta.T,          np.zeros((n, n))],\n",
    "        [np.zeros((n, n)), delta @ delta.T]\n",
    "    ])\n",
    "    M_line_set[(l, m)] = M_lm\n",
    "\n",
    "    # y_lm and y_shunt_lm from precious\n",
    "    y_lm = y_lines[(l, m)]         \n",
    "    y_shunt_lm = y_shunt[(l, m)]\n",
    "\n",
    "    Ylm = (y_shunt_lm + y_lm) * (e_l @ e_l.T) - y_lm * (e_l @ e_m.T)\n",
    "    #print('Size of Y_lm', Ylm.shape)\n",
    "\n",
    "    # Real-valued lifting\n",
    "    Re_Y = np.real(Ylm + Ylm.T)\n",
    "    Im_Y = np.imag(Ylm.T - Ylm)\n",
    "    Re_Y_skew = np.real(Ylm - Ylm.T)\n",
    "    Im_Y_sum = np.imag(Ylm + Ylm.T)\n",
    "\n",
    "    Y_lm = 1/2 * np.block([\n",
    "        [Re_Y,      Im_Y],\n",
    "        [-Im_Y,     Re_Y]\n",
    "    ])\n",
    "    #print('Size of Y_lm', Y_lm.shape)\n",
    "    Y_lmbar = -1/2 * np.block([\n",
    "        [Im_Y_sum,      Re_Y_skew],\n",
    "        [-Re_Y_skew,    Im_Y_sum]\n",
    "    ])\n",
    "    #print('Size of Y_lmbar', Y_lmbar.shape)\n",
    "    Y_line_set[(l, m)] = Y_lm\n",
    "    Y_bar_line_set[(l,m)] = Y_lmbar\n",
    "\n",
    "############################## Objective Function #############################\n",
    "\n",
    "# gamma = 1e3\n",
    "# norm_alpha = cp.sum(alpha) / 1000\n",
    "# norm_traceW = cp.trace(W)\n",
    "\n",
    "# alpha = cp.Variable(n)\n",
    "# objective = cp.Minimize(cp.sum(alpha))\n",
    "\n",
    "gamma = 1e-3\n",
    "# norm_alpha = cp.sum(alpha) / 1000\n",
    "# norm_traceW = cp.trace(W) / 1\n",
    "objective = cp.Minimize(cp.sum(alpha))\n",
    "\n",
    "    \n",
    "############################## Constraints ####################################\n",
    "constraints = []\n",
    "#P_G = cp.Variable(len(all_gen)) #Create a new active power variable for each generator (specifically for multiple generators at one bus)\n",
    "#Q_G = cp.Variable(len(all_gen)) ##Create a new reactive power variable for each generator\n",
    "Pin = {}\n",
    "Qin = {}\n",
    "S_alpha = {}\n",
    "for k in range(n):\n",
    "\n",
    "    ############################## Power Constraints ###################################\n",
    "    \n",
    "    Pin[k] = cp.trace(Y_set[k] @ W) * Sbase\n",
    "    Qin[k] = cp.trace(Y_bar_set[k] @ W) * Sbase\n",
    "    #print('Pin for bus', k, Pin[k])\n",
    "    #print('Qin for bus', k, Qin[k])\n",
    "    \n",
    "    constraints.append(min_p[k] - p_load[k] <= Pin[k]) #constraint 4a\n",
    "    constraints.append(Pin[k] <= max_p[k] - p_load[k]) #constraint 4a\n",
    "    constraints.append(min_q[k] - q_load[k] <= Qin[k]) #constraint 4b\n",
    "    constraints.append(Qin[k] <= max_q[k] - q_load[k]) #constraint 4b\n",
    "\n",
    "\n",
    "    ############################# Cost Constraint #######################################\n",
    "    \n",
    "    a_k = c0[k] + c1[k] * p_load[k]\n",
    "    b_k = float(np.sqrt(c2[k])) * p_load[k]\n",
    "\n",
    "    top_left = c1[k] * Pin[k] - alpha[k] + a_k\n",
    "    top_right = float(np.sqrt(c2[k])) * Pin[k] + b_k\n",
    "\n",
    "\n",
    "    S_alpha[k] = cp.bmat([\n",
    "        [top_left, top_right],\n",
    "        [top_right, -1]\n",
    "    ])\n",
    "    constraints.append( S_alpha[k] << 0) # constraint 6\n",
    "\n",
    "    # constraints.append(alpha[k] >= c1[k]*(Pin[k]+p_load[k]))\n",
    "    # print(k)\n",
    "    # print(p_load[k])\n",
    "    # print(c1[k])\n",
    "    \n",
    "    ############################## Voltage Constraints #####################################\n",
    "    # For the slack bus, we fix the voltage magnitude since it is not adjustable\n",
    "    if k == slack_bus:\n",
    "        constraints.append(cp.trace(M_set[k] @ W) == vm_slack**2)\n",
    "\n",
    "    else:\n",
    "\n",
    "        # Voltage constraints (except slack)\n",
    "        constraints.append(min_v_pu[k] <= cp.trace(M_set[k] @ W)) #constraint 4c, note that min_v_pu is already squared and in pu\n",
    "        constraints.append(cp.trace(M_set[k] @ W) <= max_v_pu[k]) #constraint 4c\n",
    "\n",
    "\n",
    "######################## Line Flow Constraints ####################################\n",
    "\n",
    "P_lm = {}\n",
    "Q_lm = {}\n",
    "S_line = {}\n",
    "for (l, m) in lines:\n",
    "    Plm = cp.trace(Y_line_set[(l, m)] @ W) * Sbase\n",
    "    Qlm = cp.trace(Y_bar_line_set[(l, m)] @ W) * Sbase\n",
    "    Smax = s_max[(l, m)]\n",
    "    \n",
    "    P_lm[(l, m)] = Plm\n",
    "    Q_lm[(l, m)] = Qlm\n",
    "\n",
    "    S_line[(l,m)] = cp.bmat([\n",
    "        [-Smax**2, Plm, Qlm],\n",
    "        [Plm, -1, 0],\n",
    "        [Qlm, 0, -1]\n",
    "    ])\n",
    "    #constraints.append(Plm <= p_max[(l,m)])  # constraint 4e\n",
    "    #constraints.append(cp.trace(M_line_set[(l,m)]@W) <= max_v_diff_lm[l,m]**2)  # constraint 4f\n",
    "    constraints.append(S_line[(l,m)] << 0) # constraint 5\n",
    "\n",
    "################# Positive semidefinite constraint   #####################################\n",
    "# W_vec = cp.Variable((2*n, 1))\n",
    "# constraints.append(W == W_vec @ W_vec.T)\n",
    "constraints.append(W >> 0) ##constraint 4g\n"
   ]
  },
  {
   "cell_type": "code",
   "execution_count": 863,
   "id": "913e1dec-1a98-4e6d-a951-ebf49a7425dc",
   "metadata": {},
   "outputs": [
    {
     "name": "stdout",
     "output_type": "stream",
     "text": [
      "======== BUS CONSTRAINTS CHECK ========\n",
      "Bus 0\n",
      "  P_gen ∈ [-150.0, 150.0], Load = 0.0\n",
      "    → Net injection must be in [-150.0, 150.0]\n",
      "  Q_gen ∈ [-37.5, 150.0], Load = 0.0\n",
      "    → Net injection must be in [-37.5, 150.0]\n",
      "  Voltage ∈ [0.9025, 1.1025]\n",
      "Bus 1\n",
      "  P_gen ∈ [0.0, 75.0], Load = 150.0\n",
      "    → Net injection must be in [-150.0, -75.0]\n",
      "  Q_gen ∈ [-37.5, 150.0], Load = 75.0\n",
      "    → Net injection must be in [-112.5, 75.0]\n",
      "  Voltage ∈ [0.9025, 1.1025]\n",
      "Bus 2\n",
      "  P_gen ∈ [0.0, 75.0], Load = 0.0\n",
      "    → Net injection must be in [0.0, 75.0]\n",
      "  Q_gen ∈ [-37.5, 150.0], Load = 0.0\n",
      "    → Net injection must be in [-37.5, 150.0]\n",
      "  Voltage ∈ [0.9025, 1.1025]\n"
     ]
    }
   ],
   "source": [
    "print(\"======== BUS CONSTRAINTS CHECK ========\")\n",
    "for k in range(n):\n",
    "    print(f\"Bus {k}\")\n",
    "    print(f\"  P_gen ∈ [{min_p[k]}, {max_p[k]}], Load = {p_load[k]}\")\n",
    "    print(f\"    → Net injection must be in [{min_p[k] - p_load[k]}, {max_p[k] - p_load[k]}]\")\n",
    "    print(f\"  Q_gen ∈ [{min_q[k]}, {max_q[k]}], Load = {q_load[k]}\")\n",
    "    print(f\"    → Net injection must be in [{min_q[k] - q_load[k]}, {max_q[k] - q_load[k]}]\")\n",
    "    print(f\"  Voltage ∈ [{min_v_pu[k]}, {max_v_pu[k]}]\")"
   ]
  },
  {
   "cell_type": "code",
   "execution_count": 865,
   "id": "bf1d04d0-fcfa-40e9-8e06-6c05fcbb51e7",
   "metadata": {},
   "outputs": [
    {
     "name": "stdout",
     "output_type": "stream",
     "text": [
      "\n",
      "Total real generation: [-150.0, 300.0]\n",
      "Total real load: 150.0\n"
     ]
    }
   ],
   "source": [
    "total_max_p = np.sum(max_p)\n",
    "total_min_p = np.sum(min_p)\n",
    "total_load = np.sum(p_load)\n",
    "\n",
    "print(f\"\\nTotal real generation: [{total_min_p}, {total_max_p}]\")\n",
    "print(f\"Total real load: {total_load}\")"
   ]
  },
  {
   "cell_type": "code",
   "execution_count": 867,
   "id": "8507787b-6ef9-49a2-83ba-c883aaf130e4",
   "metadata": {},
   "outputs": [
    {
     "name": "stdout",
     "output_type": "stream",
     "text": [
      "===============================================================================\n",
      "                                     CVXPY                                     \n",
      "                                     v1.6.5                                    \n",
      "===============================================================================\n",
      "(CVXPY) Jul 22 05:34:39 PM: Your problem has 39 variables, 92 constraints, and 0 parameters.\n",
      "(CVXPY) Jul 22 05:34:39 PM: It is compliant with the following grammars: DCP, DQCP\n",
      "(CVXPY) Jul 22 05:34:39 PM: (If you need to solve this problem multiple times, but with different data, consider using parameters.)\n",
      "(CVXPY) Jul 22 05:34:39 PM: CVXPY will first compile your problem; then, it will invoke a numerical solver to obtain a solution.\n",
      "(CVXPY) Jul 22 05:34:39 PM: Your problem is compiled with the CPP canonicalization backend.\n",
      "-------------------------------------------------------------------------------\n",
      "                                  Compilation                                  \n",
      "-------------------------------------------------------------------------------\n",
      "(CVXPY) Jul 22 05:34:39 PM: Compiling problem (target solver=MOSEK).\n",
      "(CVXPY) Jul 22 05:34:39 PM: Reduction chain: Dcp2Cone -> CvxAttr2Constr -> ConeMatrixStuffing -> MOSEK\n",
      "(CVXPY) Jul 22 05:34:39 PM: Applying reduction Dcp2Cone\n",
      "(CVXPY) Jul 22 05:34:39 PM: Applying reduction CvxAttr2Constr\n",
      "(CVXPY) Jul 22 05:34:39 PM: Applying reduction ConeMatrixStuffing\n",
      "(CVXPY) Jul 22 05:34:39 PM: Applying reduction MOSEK\n",
      "(CVXPY) Jul 22 05:34:39 PM: Finished problem compilation (took 1.412e-01 seconds).\n",
      "-------------------------------------------------------------------------------\n",
      "                                Numerical solver                               \n",
      "-------------------------------------------------------------------------------\n",
      "(CVXPY) Jul 22 05:34:39 PM: Invoking solver MOSEK  to obtain a solution.\n",
      "\n",
      "\n",
      "(CVXPY) Jul 22 05:34:39 PM: Problem\n",
      "(CVXPY) Jul 22 05:34:39 PM:   Name                   :                 \n",
      "(CVXPY) Jul 22 05:34:39 PM:   Objective sense        : maximize        \n",
      "(CVXPY) Jul 22 05:34:39 PM:   Type                   : CONIC (conic optimization problem)\n",
      "(CVXPY) Jul 22 05:34:39 PM:   Constraints            : 24              \n",
      "(CVXPY) Jul 22 05:34:39 PM:   Affine conic cons.     : 0               \n",
      "(CVXPY) Jul 22 05:34:39 PM:   Disjunctive cons.      : 0               \n",
      "(CVXPY) Jul 22 05:34:39 PM:   Cones                  : 0               \n",
      "(CVXPY) Jul 22 05:34:39 PM:   Scalar variables       : 17              \n",
      "(CVXPY) Jul 22 05:34:39 PM:   Matrix variables       : 8 (scalarized: 69)\n",
      "(CVXPY) Jul 22 05:34:39 PM:   Integer variables      : 0               \n",
      "(CVXPY) Jul 22 05:34:39 PM: \n",
      "(CVXPY) Jul 22 05:34:39 PM: Optimizer started.\n",
      "(CVXPY) Jul 22 05:34:39 PM: Presolve started.\n",
      "(CVXPY) Jul 22 05:34:39 PM: Linear dependency checker started.\n",
      "(CVXPY) Jul 22 05:34:39 PM: Linear dependency checker terminated.\n",
      "(CVXPY) Jul 22 05:34:39 PM: Eliminator started.\n",
      "(CVXPY) Jul 22 05:34:39 PM: Freed constraints in eliminator : 0\n",
      "(CVXPY) Jul 22 05:34:39 PM: Eliminator terminated.\n",
      "(CVXPY) Jul 22 05:34:39 PM: Eliminator - tries                  : 1                 time                   : 0.00            \n",
      "(CVXPY) Jul 22 05:34:39 PM: Lin. dep.  - tries                  : 1                 time                   : 0.00            \n",
      "(CVXPY) Jul 22 05:34:39 PM: Lin. dep.  - primal attempts        : 1                 successes              : 1               \n",
      "(CVXPY) Jul 22 05:34:39 PM: Lin. dep.  - dual attempts          : 0                 successes              : 0               \n",
      "(CVXPY) Jul 22 05:34:39 PM: Lin. dep.  - primal deps.           : 0                 dual deps.             : 0               \n",
      "(CVXPY) Jul 22 05:34:39 PM: Presolve terminated. Time: 0.01    \n",
      "(CVXPY) Jul 22 05:34:39 PM: Optimizer  - threads                : 12              \n",
      "(CVXPY) Jul 22 05:34:39 PM: Optimizer  - solved problem         : the primal      \n",
      "(CVXPY) Jul 22 05:34:39 PM: Optimizer  - Constraints            : 24              \n",
      "(CVXPY) Jul 22 05:34:39 PM: Optimizer  - Cones                  : 4               \n",
      "(CVXPY) Jul 22 05:34:39 PM: Optimizer  - Scalar variables       : 27                conic                  : 11              \n",
      "(CVXPY) Jul 22 05:34:39 PM: Optimizer  - Semi-definite variables: 5                 scalarized             : 60              \n",
      "(CVXPY) Jul 22 05:34:39 PM: Factor     - setup time             : 0.00            \n",
      "(CVXPY) Jul 22 05:34:39 PM: Factor     - dense det. time        : 0.00              GP order time          : 0.00            \n",
      "(CVXPY) Jul 22 05:34:39 PM: Factor     - nonzeros before factor : 264               after factor           : 264             \n",
      "(CVXPY) Jul 22 05:34:39 PM: Factor     - dense dim.             : 0                 flops                  : 9.46e+03        \n",
      "(CVXPY) Jul 22 05:34:39 PM: ITE PFEAS    DFEAS    GFEAS    PRSTATUS   POBJ              DOBJ              MU       TIME  \n",
      "(CVXPY) Jul 22 05:34:39 PM: 0   1.0e+00  9.0e+04  1.7e+05  0.00e+00   -1.668261408e+05  -0.000000000e+00  1.0e+00  0.02  \n",
      "(CVXPY) Jul 22 05:34:39 PM: 1   2.9e-01  2.6e+04  9.0e+04  -1.00e+00  -1.668065210e+05  5.498000846e+00   2.9e-01  0.05  \n",
      "(CVXPY) Jul 22 05:34:39 PM: 2   9.4e-02  8.4e+03  5.1e+04  -1.00e+00  -1.667249450e+05  2.335881934e+01   9.4e-02  0.05  \n",
      "(CVXPY) Jul 22 05:34:39 PM: 3   1.2e-02  1.1e+03  1.8e+04  -9.99e-01  -1.657614228e+05  2.139042851e+02   1.2e-02  0.05  \n",
      "(CVXPY) Jul 22 05:34:39 PM: 4   1.6e-03  1.4e+02  6.4e+03  -9.89e-01  -1.577082962e+05  1.591710629e+03   1.6e-03  0.05  \n",
      "(CVXPY) Jul 22 05:34:39 PM: 5   1.5e-04  1.4e+01  1.6e+03  -9.01e-01  -9.251438160e+04  1.060597646e+04   1.5e-04  0.05  \n",
      "(CVXPY) Jul 22 05:34:39 PM: 6   2.3e-05  2.1e+00  1.7e+02  -4.64e-02  -1.604954062e+04  8.646210693e+03   2.3e-05  0.05  \n",
      "(CVXPY) Jul 22 05:34:39 PM: 7   3.5e-06  3.2e-01  9.7e+00  8.42e-01   1.567536789e+03   5.597646432e+03   3.5e-06  0.06  \n",
      "(CVXPY) Jul 22 05:34:39 PM: 8   2.3e-07  2.1e-02  1.5e-01  9.85e-01   5.011673666e+03   5.280727378e+03   2.3e-07  0.06  \n",
      "(CVXPY) Jul 22 05:34:39 PM: 9   1.8e-08  1.6e-03  2.3e-03  1.10e+00   5.243655956e+03   5.263521269e+03   1.8e-08  0.06  \n",
      "(CVXPY) Jul 22 05:34:39 PM: 10  2.1e-09  1.9e-04  1.1e-04  1.02e+00   5.248026912e+03   5.250362224e+03   2.1e-09  0.06  \n",
      "(CVXPY) Jul 22 05:34:39 PM: 11  1.2e-10  1.0e-05  1.3e-06  1.00e+00   5.249907109e+03   5.250032976e+03   1.2e-10  0.07  \n",
      "(CVXPY) Jul 22 05:34:39 PM: 12  1.1e-11  9.8e-07  3.8e-08  1.00e+00   5.250001392e+03   5.250013213e+03   1.1e-11  0.07  \n",
      "(CVXPY) Jul 22 05:34:39 PM: 13  1.1e-12  1.0e-07  1.2e-09  1.00e+00   5.250010510e+03   5.250011713e+03   1.1e-12  0.07  \n",
      "(CVXPY) Jul 22 05:34:39 PM: 14  3.8e-13  1.0e-09  1.3e-12  1.00e+00   5.250011610e+03   5.250011623e+03   1.1e-14  0.07  \n",
      "(CVXPY) Jul 22 05:34:39 PM: Optimizer terminated. Time: 0.08    \n",
      "(CVXPY) Jul 22 05:34:39 PM: \n",
      "(CVXPY) Jul 22 05:34:39 PM: \n",
      "(CVXPY) Jul 22 05:34:39 PM: Interior-point solution summary\n",
      "(CVXPY) Jul 22 05:34:39 PM:   Problem status  : PRIMAL_AND_DUAL_FEASIBLE\n",
      "(CVXPY) Jul 22 05:34:39 PM:   Solution status : OPTIMAL\n",
      "(CVXPY) Jul 22 05:34:39 PM:   Primal.  obj: 5.2500116103e+03    nrm: 3e+03    Viol.  con: 8e-05    var: 8e-07    barvar: 0e+00  \n",
      "(CVXPY) Jul 22 05:34:39 PM:   Dual.    obj: 5.2500116226e+03    nrm: 9e+04    Viol.  con: 0e+00    var: 1e-08    barvar: 7e-06  \n",
      "-------------------------------------------------------------------------------\n",
      "                                    Summary                                    \n",
      "-------------------------------------------------------------------------------\n",
      "(CVXPY) Jul 22 05:34:39 PM: Problem status: optimal\n",
      "(CVXPY) Jul 22 05:34:39 PM: Optimal value: 5.250e+03\n",
      "(CVXPY) Jul 22 05:34:39 PM: Compilation took 1.412e-01 seconds\n",
      "(CVXPY) Jul 22 05:34:39 PM: Solver (including time spent in interface) took 1.152e-01 seconds\n",
      "Problem Status: optimal\n",
      "Optimal cost EUR: 5250.01162256162\n"
     ]
    }
   ],
   "source": [
    "# Solve the SDP\n",
    "prob = cp.Problem(objective, constraints)\n",
    "prob.solve(solver=cp.MOSEK, verbose=True)\n",
    "\n",
    "# Print results\n",
    "print(\"Problem Status:\", prob.status)\n",
    "print(\"Optimal cost EUR:\", prob.value)"
   ]
  },
  {
   "cell_type": "code",
   "execution_count": 869,
   "id": "d8af2791-4e62-4a63-9557-c58d3c273d4d",
   "metadata": {},
   "outputs": [
    {
     "data": {
      "text/plain": [
       "This pandapower network includes the following parameter tables:\n",
       "   - bus (3 elements)\n",
       "   - load (1 element)\n",
       "   - gen (2 elements)\n",
       "   - ext_grid (1 element)\n",
       "   - line (3 elements)\n",
       "   - poly_cost (3 elements)\n",
       " and the following results tables:\n",
       "   - res_bus (3 elements)\n",
       "   - res_line (3 elements)\n",
       "   - res_ext_grid (1 element)\n",
       "   - res_load (1 element)\n",
       "   - res_gen (2 elements)\n",
       " and the following result values:\n",
       "   - res_cost"
      ]
     },
     "execution_count": 869,
     "metadata": {},
     "output_type": "execute_result"
    }
   ],
   "source": [
    "net"
   ]
  },
  {
   "cell_type": "code",
   "execution_count": 871,
   "id": "4b934d4e-4a57-4520-b1a3-37a22b482e47",
   "metadata": {},
   "outputs": [
    {
     "name": "stdout",
     "output_type": "stream",
     "text": [
      "AC OPF Solution:\n",
      "   p_mw     q_mvar  va_degree     vm_pu\n",
      "0  75.0  74.927613  -0.047747  0.999998\n",
      "1  75.0   0.189660   0.047746  1.000003\n",
      "       p_mw   q_mvar\n",
      "0  0.000155  0.00761\n",
      "SDP OPF Solution:\n",
      "Generator at bus 0: P = 0.000 MW, Q = -0.075 MVAr\n",
      "Generator at bus 1: P = 75.000 MW, Q = 75.081 MVAr\n",
      "Generator at bus 2: P = 75.000 MW, Q = 0.119 MVAr\n"
     ]
    }
   ],
   "source": [
    "print(\"AC OPF Solution:\")\n",
    "print(net.res_gen)\n",
    "print(net.res_ext_grid)\n",
    "print(\"SDP OPF Solution:\")\n",
    "for k in range(n):\n",
    "    Pin_k = cp.trace(Y_set[k] @ W) * Sbase\n",
    "    Qin_k = cp.trace(Y_bar_set[k] @ W) * Sbase\n",
    "    print(f\"Generator at bus {k}: P = {Pin_k.value + p_load[k]:.3f} MW, Q = {Qin_k.value+q_load[k]:.3f} MVAr\")"
   ]
  },
  {
   "cell_type": "code",
   "execution_count": 873,
   "id": "13d90e8a-554b-43bc-80ce-de99a7ac9186",
   "metadata": {},
   "outputs": [
    {
     "data": {
      "text/plain": [
       "array([1.16230959e-02, 2.25000000e+03, 3.00000000e+03])"
      ]
     },
     "execution_count": 873,
     "metadata": {},
     "output_type": "execute_result"
    }
   ],
   "source": [
    "alpha.value"
   ]
  },
  {
   "cell_type": "code",
   "execution_count": 875,
   "id": "ae88dd3c-93a8-48e9-a21b-a6293f5a4c49",
   "metadata": {},
   "outputs": [
    {
     "data": {
      "text/plain": [
       "2550"
      ]
     },
     "execution_count": 875,
     "metadata": {},
     "output_type": "execute_result"
    }
   ],
   "source": [
    "-45*10 + 0*30 + 75*40"
   ]
  },
  {
   "cell_type": "code",
   "execution_count": 877,
   "id": "db733767-5441-4605-b0eb-9e62eabd9835",
   "metadata": {},
   "outputs": [
    {
     "data": {
      "text/plain": [
       "array([1.16230959e-02, 2.25000000e+03, 3.00000000e+03])"
      ]
     },
     "execution_count": 877,
     "metadata": {},
     "output_type": "execute_result"
    }
   ],
   "source": [
    "alpha.value"
   ]
  },
  {
   "cell_type": "code",
   "execution_count": 879,
   "id": "c21141e9-f3d9-4483-bc3d-e9c5c1e40e25",
   "metadata": {},
   "outputs": [
    {
     "data": {
      "text/plain": [
       "array([[ 4.99979704e-01,  4.99979707e-01,  4.99980957e-01,\n",
       "        -1.93225429e-06, -4.18583617e-04,  4.14714963e-04],\n",
       "       [ 4.99979707e-01,  4.99980057e-01,  4.99980612e-01,\n",
       "         4.14752868e-04, -1.89849324e-06,  8.31401168e-04],\n",
       "       [ 4.99980957e-01,  4.99980612e-01,  4.99982556e-01,\n",
       "        -4.18613245e-04, -8.35265693e-04, -1.96602617e-06],\n",
       "       [-1.93225429e-06,  4.14752868e-04, -4.18613245e-04,\n",
       "         5.00020296e-01,  5.00020302e-01,  5.00021545e-01],\n",
       "       [-4.18583617e-04, -1.89849324e-06, -8.35265693e-04,\n",
       "         5.00020302e-01,  5.00020655e-01,  5.00021203e-01],\n",
       "       [ 4.14714963e-04,  8.31401168e-04, -1.96602617e-06,\n",
       "         5.00021545e-01,  5.00021203e-01,  5.00023141e-01]])"
      ]
     },
     "execution_count": 879,
     "metadata": {},
     "output_type": "execute_result"
    }
   ],
   "source": [
    "W.value"
   ]
  },
  {
   "cell_type": "code",
   "execution_count": 883,
   "id": "54a5f75b-5092-4e79-80ca-3f8a91893ec1",
   "metadata": {},
   "outputs": [
    {
     "name": "stdout",
     "output_type": "stream",
     "text": [
      "Eigenvalues of W (SDP): [-5.10928320e-11 -5.10762166e-11  3.62448071e-11  3.62452163e-11\n",
      "  1.49994204e+00  1.50006437e+00]\n",
      "rank of W (SDP) 2\n"
     ]
    }
   ],
   "source": [
    "W_value = W.value\n",
    "W_value[np.abs(W_value)<= 1e-6] = 0\n",
    "#Check the rank of W\n",
    "eigvals = np.linalg.eigvalsh(W_value)\n",
    "rank_W = np.linalg.matrix_rank(W_value, tol=1e-7)  # numerical rank threshold\n",
    "print(\"Eigenvalues of W (SDP):\", eigvals)\n",
    "print(\"rank of W (SDP)\", rank_W)"
   ]
  },
  {
   "cell_type": "code",
   "execution_count": 827,
   "id": "f53dca0b-2ab2-4143-9dc7-34068ce88019",
   "metadata": {},
   "outputs": [
    {
     "data": {
      "text/plain": [
       "array([[ 4.99980292e-01,  4.99980121e-01,  4.99981358e-01,\n",
       "         4.03374973e-06, -4.12618090e-04,  4.20681809e-04],\n",
       "       [ 4.99980121e-01,  4.99980296e-01,  4.99980839e-01,\n",
       "         4.20718151e-04,  4.06630854e-06,  8.37366996e-04],\n",
       "       [ 4.99981358e-01,  4.99980839e-01,  4.99982771e-01,\n",
       "        -4.12647049e-04, -8.29299668e-04,  4.00100774e-06],\n",
       "       [ 4.03374973e-06,  4.20718151e-04, -4.12647049e-04,\n",
       "         5.00019707e-01,  5.00019529e-01,  5.00020780e-01],\n",
       "       [-4.12618090e-04,  4.06630854e-06, -8.29299668e-04,\n",
       "         5.00019529e-01,  5.00019698e-01,  5.00020254e-01],\n",
       "       [ 4.20681809e-04,  8.37366996e-04,  4.00100774e-06,\n",
       "         5.00020780e-01,  5.00020254e-01,  5.00022200e-01]])"
      ]
     },
     "execution_count": 827,
     "metadata": {},
     "output_type": "execute_result"
    }
   ],
   "source": [
    "W.value"
   ]
  },
  {
   "cell_type": "code",
   "execution_count": 831,
   "id": "77c967a5-3737-4b49-ba2f-463e9d9d3312",
   "metadata": {},
   "outputs": [
    {
     "data": {
      "text/plain": [
       "array(3.00000496)"
      ]
     },
     "execution_count": 831,
     "metadata": {},
     "output_type": "execute_result"
    }
   ],
   "source": [
    "cp.trace(W).value"
   ]
  },
  {
   "cell_type": "markdown",
   "id": "588a8b50-d192-477f-b977-df6159379d34",
   "metadata": {},
   "source": [
    "## Debug\n",
    "We will now construct W using our AC OPF solution and use this W to test if we can get the solution active and reactive power using the Y matrices we constructed for SDP OPF."
   ]
  },
  {
   "cell_type": "code",
   "execution_count": 784,
   "id": "05376db8-61c5-4b5e-af4f-04100a72c914",
   "metadata": {},
   "outputs": [
    {
     "data": {
      "text/plain": [
       "This pandapower network includes the following parameter tables:\n",
       "   - bus (3 elements)\n",
       "   - load (1 element)\n",
       "   - gen (2 elements)\n",
       "   - ext_grid (1 element)\n",
       "   - line (3 elements)\n",
       "   - poly_cost (3 elements)\n",
       " and the following results tables:\n",
       "   - res_bus (3 elements)\n",
       "   - res_line (3 elements)\n",
       "   - res_ext_grid (1 element)\n",
       "   - res_load (1 element)\n",
       "   - res_gen (2 elements)\n",
       " and the following result values:\n",
       "   - res_cost"
      ]
     },
     "execution_count": 784,
     "metadata": {},
     "output_type": "execute_result"
    }
   ],
   "source": [
    "net"
   ]
  },
  {
   "cell_type": "code",
   "execution_count": 792,
   "id": "a76cf508-393f-4263-b5ea-37008a23fccc",
   "metadata": {},
   "outputs": [
    {
     "data": {
      "text/html": [
       "<div>\n",
       "<style scoped>\n",
       "    .dataframe tbody tr th:only-of-type {\n",
       "        vertical-align: middle;\n",
       "    }\n",
       "\n",
       "    .dataframe tbody tr th {\n",
       "        vertical-align: top;\n",
       "    }\n",
       "\n",
       "    .dataframe thead th {\n",
       "        text-align: right;\n",
       "    }\n",
       "</style>\n",
       "<table border=\"1\" class=\"dataframe\">\n",
       "  <thead>\n",
       "    <tr style=\"text-align: right;\">\n",
       "      <th></th>\n",
       "      <th>vm_pu</th>\n",
       "      <th>va_degree</th>\n",
       "      <th>p_mw</th>\n",
       "      <th>q_mvar</th>\n",
       "      <th>lam_p</th>\n",
       "      <th>lam_q</th>\n",
       "    </tr>\n",
       "  </thead>\n",
       "  <tbody>\n",
       "    <tr>\n",
       "      <th>0</th>\n",
       "      <td>1.000000</td>\n",
       "      <td>-8.693782e-23</td>\n",
       "      <td>-0.000155</td>\n",
       "      <td>-0.007610</td>\n",
       "      <td>75.000000</td>\n",
       "      <td>-4.001422e-07</td>\n",
       "    </tr>\n",
       "    <tr>\n",
       "      <th>1</th>\n",
       "      <td>0.999998</td>\n",
       "      <td>-4.774664e-02</td>\n",
       "      <td>75.000000</td>\n",
       "      <td>0.072387</td>\n",
       "      <td>75.000155</td>\n",
       "      <td>1.518952e-07</td>\n",
       "    </tr>\n",
       "    <tr>\n",
       "      <th>2</th>\n",
       "      <td>1.000003</td>\n",
       "      <td>4.774612e-02</td>\n",
       "      <td>-75.000000</td>\n",
       "      <td>-0.189660</td>\n",
       "      <td>74.999845</td>\n",
       "      <td>-3.891380e-07</td>\n",
       "    </tr>\n",
       "  </tbody>\n",
       "</table>\n",
       "</div>"
      ],
      "text/plain": [
       "      vm_pu     va_degree       p_mw    q_mvar      lam_p         lam_q\n",
       "0  1.000000 -8.693782e-23  -0.000155 -0.007610  75.000000 -4.001422e-07\n",
       "1  0.999998 -4.774664e-02  75.000000  0.072387  75.000155  1.518952e-07\n",
       "2  1.000003  4.774612e-02 -75.000000 -0.189660  74.999845 -3.891380e-07"
      ]
     },
     "execution_count": 792,
     "metadata": {},
     "output_type": "execute_result"
    }
   ],
   "source": [
    "net.res_bus"
   ]
  },
  {
   "cell_type": "code",
   "execution_count": 833,
   "id": "949d9b24-a897-4efd-be21-8b774340aabd",
   "metadata": {},
   "outputs": [
    {
     "name": "stdout",
     "output_type": "stream",
     "text": [
      "Eigenvalues of W (AC OPF): [ 3.00000088e+00 -1.98287574e-16  7.62117882e-17  6.96975795e-23\n",
      " -2.11005042e-22 -5.12182272e-39]\n",
      "rank of W (AC OPF) 1\n"
     ]
    }
   ],
   "source": [
    "#AC OPF Solution\n",
    "vm_pu = net.res_bus['vm_pu'].values\n",
    "va_deg = net.res_bus['va_degree'].values\n",
    "va_rad = np.radians(va_deg)\n",
    "\n",
    "# Reconstruct W\n",
    "v = vm_pu * np.exp(1j * va_rad)\n",
    "x = np.concatenate([np.real(v), np.imag(v)])\n",
    "W = x[...,None] @ x[None,...]\n",
    "\n",
    "eigs = np.linalg.eigvals(W)\n",
    "print(\"Eigenvalues of W (AC OPF):\", eigs)  # Should be non-negative for constraint 4g\n",
    "rank_W = np.linalg.matrix_rank(W)  # numerical rank threshold\n",
    "print(\"rank of W (AC OPF)\", rank_W)"
   ]
  },
  {
   "cell_type": "code",
   "execution_count": 835,
   "id": "d76e26ba-3bfb-447f-ac89-7ff3df06d4ce",
   "metadata": {},
   "outputs": [
    {
     "data": {
      "text/plain": [
       "array(3.00000088)"
      ]
     },
     "execution_count": 835,
     "metadata": {},
     "output_type": "execute_result"
    }
   ],
   "source": [
    "cp.trace(W).value"
   ]
  },
  {
   "cell_type": "markdown",
   "id": "c62e443b-d5fb-4241-8182-4a0b1c853591",
   "metadata": {},
   "source": [
    "**Constraint 4g is satisfied.**\n",
    "The W from AC OPF is rank 1, signifying that our reconstruction of W from the AC OPF solution is a feasible solution. "
   ]
  },
  {
   "cell_type": "code",
   "execution_count": 803,
   "id": "7c0cd69f-ba3d-4faa-a99d-a1841fece72e",
   "metadata": {},
   "outputs": [
    {
     "name": "stdout",
     "output_type": "stream",
     "text": [
      "P_min = -150.0, P_max = 150.0, Q_min = -37.5, Q_max = 150.0\n",
      "Bus 1 Power: SDP = 0.00, Q = 0.01\n"
     ]
    }
   ],
   "source": [
    "k = 0\n",
    "Pgen = np.trace(Y_set[k] @ W) * Sbase + p_load[k]\n",
    "Qgen = np.trace(Y_bar_set[k] @ W) * Sbase + q_load[k]\n",
    "print(f\"P_min = {min_p[k]}, P_max = {max_p[k]}, Q_min = {min_q[k]}, Q_max = {max_q[k]}\")\n",
    "print(f\"Bus 1 Power: SDP = {Pgen:.2f}, Q = {Qgen:.2f}\")"
   ]
  },
  {
   "cell_type": "code",
   "execution_count": 799,
   "id": "d49dee94-c0fd-4fac-adb0-b3e47934a76a",
   "metadata": {},
   "outputs": [
    {
     "data": {
      "text/plain": [
       "{0: array([[  0.49586701,  -0.12396675,  -0.12396675,   0.        ,\n",
       "         -99.99984632, -99.99984632],\n",
       "        [ -0.12396675,   0.        ,   0.        ,  99.99984632,\n",
       "           0.        ,   0.        ],\n",
       "        [ -0.12396675,   0.        ,   0.        ,  99.99984632,\n",
       "           0.        ,   0.        ],\n",
       "        [  0.        ,  99.99984632,  99.99984632,   0.49586701,\n",
       "          -0.12396675,  -0.12396675],\n",
       "        [-99.99984632,   0.        ,   0.        ,  -0.12396675,\n",
       "           0.        ,   0.        ],\n",
       "        [-99.99984632,   0.        ,   0.        ,  -0.12396675,\n",
       "           0.        ,   0.        ]]),\n",
       " 1: array([[  0.        ,  -0.12396675,   0.        ,   0.        ,\n",
       "          99.99984632,   0.        ],\n",
       "        [ -0.12396675,   0.49586701,  -0.12396675, -99.99984632,\n",
       "           0.        , -99.99984632],\n",
       "        [  0.        ,  -0.12396675,   0.        ,   0.        ,\n",
       "          99.99984632,   0.        ],\n",
       "        [  0.        , -99.99984632,   0.        ,   0.        ,\n",
       "          -0.12396675,   0.        ],\n",
       "        [ 99.99984632,   0.        ,  99.99984632,  -0.12396675,\n",
       "           0.49586701,  -0.12396675],\n",
       "        [  0.        , -99.99984632,   0.        ,   0.        ,\n",
       "          -0.12396675,   0.        ]]),\n",
       " 2: array([[  0.        ,   0.        ,  -0.12396675,   0.        ,\n",
       "           0.        ,  99.99984632],\n",
       "        [  0.        ,   0.        ,  -0.12396675,   0.        ,\n",
       "           0.        ,  99.99984632],\n",
       "        [ -0.12396675,  -0.12396675,   0.49586701, -99.99984632,\n",
       "         -99.99984632,   0.        ],\n",
       "        [  0.        ,   0.        , -99.99984632,   0.        ,\n",
       "           0.        ,  -0.12396675],\n",
       "        [  0.        ,   0.        , -99.99984632,   0.        ,\n",
       "           0.        ,  -0.12396675],\n",
       "        [ 99.99984632,  99.99984632,   0.        ,  -0.12396675,\n",
       "          -0.12396675,   0.49586701]])}"
      ]
     },
     "execution_count": 799,
     "metadata": {},
     "output_type": "execute_result"
    }
   ],
   "source": [
    "Y_set"
   ]
  },
  {
   "cell_type": "code",
   "execution_count": 691,
   "id": "59f40e24-c613-4253-94fa-deb4b675f984",
   "metadata": {},
   "outputs": [
    {
     "data": {
      "text/plain": [
       "array([1.16245742e-02, 2.25000000e+03, 3.00000000e+03])"
      ]
     },
     "execution_count": 691,
     "metadata": {},
     "output_type": "execute_result"
    }
   ],
   "source": [
    "alpha.value"
   ]
  },
  {
   "cell_type": "markdown",
   "id": "46c0f230-af8d-4c25-a740-dcc05837ce84",
   "metadata": {},
   "source": [
    "**Constraint 4a and 4b are satisfied.**"
   ]
  },
  {
   "cell_type": "markdown",
   "id": "fc59c7ea-a9b3-465f-ae5f-d79c50eab0c9",
   "metadata": {},
   "source": [
    "Using the W from AC OPF, we are able to recreate the active and reactive power of each generator in the AC OPF solution, indicating that **our Yk and Y_bar_k matrices are correct**."
   ]
  },
  {
   "cell_type": "code",
   "execution_count": 274,
   "id": "4bd8a2aa-ace4-4df3-a897-ca2ac3c8e7ff",
   "metadata": {},
   "outputs": [
    {
     "name": "stdout",
     "output_type": "stream",
     "text": [
      "min_v_pu=0.9025, max_v_pu=1.1025\n",
      "Bus 1 Voltage: SDP=0.953 (AC: 0.953)\n"
     ]
    }
   ],
   "source": [
    "V1_sdp = np.trace(M_set[k] @ W)\n",
    "print(f\"min_v_pu={min_v_pu[k]}, max_v_pu={max_v_pu[k]}\")\n",
    "print(f\"Bus 1 Voltage: SDP={V1_sdp:.3f} (AC: 0.953)\")"
   ]
  },
  {
   "cell_type": "markdown",
   "id": "84f22a84-6679-4a22-8ac8-a5a328ebcfe7",
   "metadata": {},
   "source": [
    "**Constraint 4c is satisfied.**"
   ]
  },
  {
   "cell_type": "markdown",
   "id": "37bf16bc-9841-4cd4-be0f-7dd53549c2c7",
   "metadata": {},
   "source": [
    "Using the W from AC OPF, we are able to recreate the voltage magnitude of each generator in the AC OPF solution, indicating that **our M_k matrices are correct**."
   ]
  },
  {
   "cell_type": "code",
   "execution_count": 277,
   "id": "a9cb64f9-5f62-4d81-b719-f52b8d6f8ffe",
   "metadata": {},
   "outputs": [
    {
     "name": "stdout",
     "output_type": "stream",
     "text": [
      "Line (0, 1) Flow: SDP P=25.26 MW (AC: 25.26), Q=8.25 MVAr (AC: 8.25)\n"
     ]
    }
   ],
   "source": [
    "l = 0\n",
    "m = 1\n",
    "Plm = np.trace(Y_line_set[(l,m)] @ W) * Sbase\n",
    "Qlm = np.trace(Y_bar_line_set[(l,m)] @ W) * Sbase\n",
    "print(f\"Line {l, m} Flow: SDP P={Plm:.2f} MW (AC: 25.26), Q={Qlm:.2f} MVAr (AC: 8.25)\")"
   ]
  },
  {
   "cell_type": "markdown",
   "id": "5b81b9dc-4e51-426d-96a2-223101fa681a",
   "metadata": {},
   "source": [
    "Using the W from AC OPF, we are able to recreate the line flow in the AC OPF solution, indicating that **our Y_lm and Y_bar_lm matrices are correct**."
   ]
  },
  {
   "cell_type": "code",
   "execution_count": 279,
   "id": "050871f3-e9a3-4830-be03-da294532f607",
   "metadata": {},
   "outputs": [
    {
     "name": "stdout",
     "output_type": "stream",
     "text": [
      "Schur eigenvalues: [-9.00000078e+04 -9.92156604e-01 -1.00000000e+00]\n"
     ]
    }
   ],
   "source": [
    "\n",
    "Smax = s_max[(l, m)]    \n",
    "S_line = cp.bmat([\n",
    "        [-Smax**2, Plm, Qlm],\n",
    "        [Plm, -1, 0],\n",
    "        [Qlm, 0, -1]\n",
    "    ])\n",
    "eigs = np.linalg.eigvals(S_line.value)\n",
    "print(\"Schur eigenvalues:\", eigs)  # Should be ≤ 0 for constraint 5"
   ]
  },
  {
   "cell_type": "markdown",
   "id": "7c84e8e9-082e-464f-a177-a9ab5f287e5d",
   "metadata": {},
   "source": [
    "**Constraint 5 is satisfied.**"
   ]
  },
  {
   "cell_type": "code",
   "execution_count": 281,
   "id": "6cd74037-7918-477e-aaaf-ec1f7c59cde7",
   "metadata": {},
   "outputs": [
    {
     "name": "stdout",
     "output_type": "stream",
     "text": [
      "Schur eigenvalues: [ 0. -1.]\n",
      "Schur eigenvalues: [ 0. -1.]\n",
      "Schur eigenvalues: [ 0. -1.]\n"
     ]
    }
   ],
   "source": [
    "for k in range(n):\n",
    "    Pin = np.trace(Y_set[k] @ W) * Sbase\n",
    "    Pgen = np.trace(Y_set[k] @ W) * Sbase + p_load[k]\n",
    "    alpha = Pgen*c2[k]**2 + Pgen*c1[k] + c0[k] \n",
    "    a_k = c0[k] + c1[k] * p_load[k] \n",
    "    b_k = float(np.sqrt(c2[k])) * p_load[k]\n",
    "    \n",
    "    top_left = c1[k] * Pin - alpha + a_k\n",
    "    top_right = float(np.sqrt(c2[k])) * Pin + b_k\n",
    "    \n",
    "    \n",
    "    S_alpha = cp.bmat([\n",
    "            [top_left, top_right],\n",
    "            [top_right, -1]\n",
    "        ])\n",
    "    eigs = np.linalg.eigvals(S_alpha.value)\n",
    "    print(\"Schur eigenvalues:\", eigs)  # Should be ≤ 0 to satisfy constraint 6"
   ]
  },
  {
   "cell_type": "code",
   "execution_count": 282,
   "id": "d3c7cc61-4c89-4a59-ba13-8380e8e032a5",
   "metadata": {},
   "outputs": [
    {
     "name": "stdout",
     "output_type": "stream",
     "text": [
      "Pgen = -0.00\n",
      "alpha of 0 = -0.005590578001368751\n",
      "Pgen = 75.00\n",
      "alpha of 1 = 2250.004063862244\n",
      "Pgen = 75.00\n",
      "alpha of 2 = 2999.996935444588\n",
      "alpha_total = 5250.00\n"
     ]
    }
   ],
   "source": [
    "alpha_total = 0\n",
    "for k in range(n):\n",
    "    Pgen = np.trace(Y_set[k] @ W) * Sbase + p_load[k]\n",
    "    print(f\"Pgen = {Pgen:.2f}\")\n",
    "    alpha = Pgen*c2[k]**2 + Pgen*c1[k] + c0[k] \n",
    "    print(f\"alpha of {k} = {alpha}\")\n",
    "    alpha_total += alpha\n",
    "print(f\"alpha_total = {alpha_total:.2f}\")"
   ]
  },
  {
   "cell_type": "markdown",
   "id": "82592ab2-c2e9-473d-9d91-a0b499d6ab8e",
   "metadata": {},
   "source": [
    "## Constraint 6 is violated"
   ]
  },
  {
   "cell_type": "code",
   "execution_count": null,
   "id": "ec31bc77-1f2e-4a04-b870-f253b2562b61",
   "metadata": {},
   "outputs": [],
   "source": []
  },
  {
   "cell_type": "code",
   "execution_count": null,
   "id": "406bffaf-ab0a-4714-83fd-c308773a796b",
   "metadata": {},
   "outputs": [],
   "source": []
  }
 ],
 "metadata": {
  "kernelspec": {
   "display_name": "Python 3 (ipykernel)",
   "language": "python",
   "name": "python3"
  },
  "language_info": {
   "codemirror_mode": {
    "name": "ipython",
    "version": 3
   },
   "file_extension": ".py",
   "mimetype": "text/x-python",
   "name": "python",
   "nbconvert_exporter": "python",
   "pygments_lexer": "ipython3",
   "version": "3.12.7"
  }
 },
 "nbformat": 4,
 "nbformat_minor": 5
}
