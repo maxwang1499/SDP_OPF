{
 "cells": [
  {
   "cell_type": "markdown",
   "metadata": {},
   "source": [
    "## Classical SDP relaxation of OPF\n",
    "As a first step, we present a simple implementation of the classical SDP formulation of the Optimnal Power Flow problem using CVXPY."
   ]
  },
  {
   "cell_type": "markdown",
   "metadata": {},
   "source": [
    "### Setup\n",
    "We start by importing pandapower for the test cases;\n",
    "CVXPY, an open source Python-embedded modeling language for convex optimization problems;\n",
    "MOSEK, a large scale optimization software. "
   ]
  },
  {
   "cell_type": "code",
   "execution_count": 1,
   "metadata": {},
   "outputs": [],
   "source": [
    "import pandapower.networks as nw\n",
    "import pandapower as pp\n",
    "import numpy as np\n",
    "import cvxpy as cp\n",
    "from scipy.sparse import csr_matrix\n",
    "import mosek\n",
    "import plotly.express as px"
   ]
  },
  {
   "cell_type": "markdown",
   "metadata": {},
   "source": [
    "### Load Network Data\n",
    "Now,let's make a function that loads the IEEE test cases from Pandapower."
   ]
  },
  {
   "cell_type": "code",
   "execution_count": 33,
   "metadata": {},
   "outputs": [],
   "source": [
    "# Select IEEE test case\n",
    "def load_network(case):\n",
    "    if case == 14:\n",
    "        return nw.case14()\n",
    "    elif case == 30:\n",
    "        return nw.case30()\n",
    "    elif case == 57:\n",
    "        return nw.case57()\n",
    "    elif case == 118:\n",
    "        return nw.case118()\n",
    "    elif case == 300:\n",
    "        return nw.case300()\n",
    "    elif case == 'GB':\n",
    "        return nw.GBnetwork()\n",
    "    else:\n",
    "        raise ValueError(\"Unsupported test case\")"
   ]
  },
  {
   "cell_type": "code",
   "execution_count": 34,
   "metadata": {},
   "outputs": [],
   "source": [
    "# Load the chosen IEEE test case\n",
    "case_number = 'GB' # Change to 30, 57, or 118 for larger cases\n",
    "net = load_network(case_number)\n",
    "\n",
    "pp.runpp(net)  # Run power flow to initialize values"
   ]
  },
  {
   "cell_type": "markdown",
   "metadata": {},
   "source": [
    "When a power flow is carried out, the element based grid model is translated into a bus-branch model. That bus-branch model is stored in a data structure that is based on the PYPOWER/MATPOWER casefile (with some extensions). This ppc can be accessed after power flow using net._ppc\n",
    "We will get the bus admittance matrix using exactly that and extract all the parameters we need."
   ]
  },
  {
   "cell_type": "code",
   "execution_count": 35,
   "metadata": {},
   "outputs": [
    {
     "name": "stdout",
     "output_type": "stream",
     "text": [
      "The number of generators matches the number of cost coefficients\n"
     ]
    }
   ],
   "source": [
    "\n",
    "#make sure all units are consistent (convert everything to per unit)\n",
    "Sbase = net.sn_mva # unit value for power MVA\n",
    "Vbase = 135 # unit value for voltage kV\n",
    "Zbase = Vbase**2 / Sbase # base impedance in Ohms\n",
    "Ybase = 1 / Zbase # base admittance in S\n",
    "\n",
    "#Now, we extract network parameters\n",
    "Ybus = net._ppc[\"internal\"][\"Ybus\"].todense() # Bus admittance matrix (Already in per unit. We need todense since the matrices are stored as sparcse matrices, but dense are easier to work with)\n",
    "n = len(net.bus)  # Number of buses\n",
    "# slack_bus = net.gen.bus.values[0]  # Index of the slack bus\n",
    "branch = net.line  # Get each transmission line's specification for line constraints\n",
    "#we need to add line flow constraints\n",
    "\n",
    "# Extract generator information for generation constraints\n",
    "gen_buses = net.gen[\"bus\"].values #index of the generators.\n",
    "min_p_mw = net.gen[\"min_p_mw\"].values #minimal real power\n",
    "max_p_mw = net.gen[\"max_p_mw\"].values\n",
    "min_q_mw = net.gen[\"min_q_mvar\"].values #minimal reactive power\n",
    "max_q_mw = net.gen[\"max_q_mvar\"].values\n",
    "\n",
    "# Extract load buses for generation constraints\n",
    "load_buses = net.load[\"bus\"].values #index of the load buses.\n",
    "#load active and reactive power for load\n",
    "p_load = np.zeros(n)\n",
    "q_load = np.zeros(n)\n",
    "for i,row in net.load.iterrows():\n",
    "    p_load[row['bus']] = -row['p_mw'] #negative sign because pandapower defines load as positive, but we need it as negative for consumption\n",
    "    q_load[row['bus']] = -row['q_mvar']\n",
    "\n",
    "# Voltage limits\n",
    "min_v_pu = net.bus[\"min_vm_pu\"].values ** 2  # Squared for SDP\n",
    "max_v_pu = net.bus[\"max_vm_pu\"].values ** 2\n",
    "\n",
    "# Slack bus voltage\n",
    "vm_slack = net.ext_grid['vm_pu'][0] #initial voltage of the slack\n",
    "\n",
    "# Extract generator cost coefficients from net.poly_cost\n",
    "cost = net.poly_cost.drop([0])\n",
    "c2 = cost[\"cp2_eur_per_mw2\"].values   # Quadratic cost coefficients\n",
    "c1 = cost[\"cp1_eur_per_mw\"].values   # Linear cost coefficients\n",
    "c0 = cost[\"cp0_eur\"].values         # Constant cost coefficients\n",
    "\n",
    "# Ensure the cost coefficients have the correct size\n",
    "if len(c2) != len(gen_buses):\n",
    "    print(\"The number of generators does not match the number of cost coefficients\")\n",
    "elif len(c1) != len(gen_buses):\n",
    "    print(\"The number of generators does not match the number of cost coefficients\")\n",
    "elif len(c0) != len(gen_buses):\n",
    "    print(\"The number of generators does not match the number of cost coefficients\")\n",
    "else:\n",
    "    print(\"The number of generators matches the number of cost coefficients\")\n",
    "\n",
    "\n",
    "# # Make the cost matrix\n",
    "# C = np.zeros((n, n))\n",
    "# for i, gen_bus in enumerate(gen_buses):\n",
    "#     C[gen_bus, gen_bus] = c2[i]\n",
    "\n",
    "# # Print the cost matrix\n",
    "# np.set_printoptions(precision=10, suppress=True)\n",
    "# print(C)"
   ]
  },
  {
   "cell_type": "markdown",
   "metadata": {},
   "source": [
    "### Define Variables and the objective function\n",
    "\n",
    "The objective function of standard Optimal Power Flow (OPF) problem is:\n",
    "$$\\min \\space \\sum_{j \\in G} f_j(P_{j})$$\n",
    "where $f_j(P_{j})$ is the cost function of choice. Traditionally, the following cost function has been used:\n",
    "$$\\min \\space \\sum_{j \\in G}( c_{j2}P_j^2 + c_{j1}P_j + c_{jo})$$\n",
    "For each bus $j$ in the grid $G$:\n",
    "$P_j = power \\space generation, \\space c_{j2} = quadratic \\space cost \\space  coefficient, \\space c_{j1} = linear \\space cost \\space  coefficient, \\space c_{j0} = constant \\space cost.$\n",
    "\n",
    "The objective function is then subjected to a set of constraints.\n",
    "\n",
    "Semidefinite Programming (SDP) is one of the conic form problems, which all have a linear objective function and convex inequality/equality constraints (that could be quadratic). SDP in particular tackles the cone of positive semidefinite n x n matrices, W. The SDP Standard Form objective function is as follows:\n",
    "\n",
    "$$min \\space \\space tr(CW)$$\n",
    "subjected to $W \\succcurlyeq 0$ and other linear constraints, which are\n",
    "\n",
    "**Semidefinite positivity**\n",
    "$$W\\succcurlyeq 0$$\n",
    "\n",
    "**Active Power Flow**\n",
    "$$p_{min, j} \\le tr (\\Phi_jW_B) \\le p_{max, j}$$\n",
    "where $\\Phi_j = \\frac{1}{2}(Y^H_j + Y_j)$\n",
    "\n",
    "**Reactive Power Flow**\n",
    "$$q_{min, j} \\le tr (\\Psi_jW_B) \\le q_{max, j}$$\n",
    "where $\\Psi_j = \\frac{1}{2i}(Y^H_j + Y_j)$\n",
    "\n",
    "**Voltage Magnitude Constraints**\n",
    "$$v_{min, j} \\le tr (J_jW_B) \\le v_{max, j}$$\n",
    "where J is the Hermitian matrix with a single 1 in the (j,j)th entry and zero everywhere else.\n",
    "\n",
    "To transform the quadratic objective function into SDP, we can do the following:\n",
    "\n",
    "#### Attempt 1\n",
    "\n",
    "Let $$C_j := \\begin{bmatrix}c_{j2} & c_{j1}/2 \\\\c_{j1}/2 & c_{j0}\\end{bmatrix},\\space X_j := \\begin{bmatrix}a_j & P_j \\\\P_j & 1\\end{bmatrix}$$\n",
    "where $a_j$ is a new variable meant to represent $P_j^2$. Instead of enforcing an equality, we will relax it into a matrix inequality. We add the following constraint:\n",
    "$$\\begin{bmatrix}a_j & P_j \\\\P_j & 1\\end{bmatrix} \\succcurlyeq 0 $$\n",
    "By Schur’s complement condition, the constraint above is equivalent to\n",
    "$$P^2_j \\le a_j$$\n",
    "As we optimize, the solver will push the above inequality toward equality. Now, we can formulate the objective function as:\n",
    "$$min \\space \\sum_{j \\in G} tr(C_jX_j) $$\n",
    "which is equivalent to $$\\min \\space \\sum_{j \\in G}( c_{j2}P_j^2 + c_{j1}P_j + c_{jo})$$"
   ]
  },
  {
   "cell_type": "code",
   "execution_count": null,
   "metadata": {},
   "outputs": [],
   "source": [
    "# Define an arbitrary n x n Hermitian W (Directly enforcing W= V V^+ will require X to be rank-1, which is too strict. We use the power balance, PSD and voltage constraints to guide this arbitrary X to X = VV^+)\n",
    "W = cp.Variable((n, n), hermitian=True)\n",
    "\n",
    "# Define phi and psi matrices for each bus as the constraints\n",
    "Phi = [] # Hermitian part of Y_j\n",
    "Psi = [] # Skewed Hermitian part of Y_j\n",
    "J = [] # Hermitian matrix with a single 1 in the (j,j)th entry and zero everywhere else.\n",
    "for j in range(n):\n",
    "    Y_j = np.zeros_like(Ybus,dtype=complex) #Y_j is the admittance matrix with only the j-th row, everything else is zero\n",
    "    Y_j[j,:] = Ybus[j,:]\n",
    "    Y_j_H = np.conj(Y_j).T #Hermitian of Y_j\n",
    "    \n",
    "    J_j= np.zeros_like(Ybus,dtype=complex)\n",
    "    J_j[j,j] = 1\n",
    "\n",
    "    Phi_j = 1/2 * (Y_j_H + Y_j) \n",
    "    Psi_j = 1/(2j) * (Y_j_H - Y_j)\n",
    "\n",
    "    Phi.append(Phi_j) \n",
    "    Psi.append(Psi_j)\n",
    "    J.append(J_j)\n",
    "\n",
    "# Objective Function Formulation in Standard SDP Form\n",
    "################################################################################\n",
    "# # Attempt 0\n",
    "# # Initialize \n",
    "# C = []\n",
    "# X = []\n",
    "\n",
    "# for i in range(len(gen_buses)):\n",
    "#     # Real power generation at generator i\n",
    "#     a = cp.real(cp.trace(Phi[gen_buses[i]] @ W)) * Sbase\n",
    "\n",
    "#     # Define the cost matrix for generator i\n",
    "#     C_i = cp.Constant(np.array([[c2[i], 0], [0, c1[i]]]))\n",
    "#     C.append(C_i)\n",
    "\n",
    "#     # Define the variable matrix for generator i\n",
    "#     X_i = cp.vstack([\n",
    "#         cp.hstack([a**2, 0]),\n",
    "#         cp.hstack([0, a])\n",
    "#     ])\n",
    "#     X.append(X_i)\n",
    "\n",
    "# objective_terms = cp.sum([\n",
    "#     cp.trace(C[i] @ X[i]) for i in range(len(gen_buses))\n",
    "# ])\n",
    "\n",
    "# objective = cp.Minimize(objective_terms)\n",
    "\n",
    "# ############################################################################\n",
    "\n",
    "# Attempt 1\n",
    "# Initialize \n",
    "C = []\n",
    "X = []\n",
    "\n",
    "for i in range(len(gen_buses)):\n",
    "    # Real power generation at generator i\n",
    "    P_j = cp.real(cp.trace(Phi[gen_buses[i]] @ W)) * Sbase\n",
    "    # We want a = P^2, and we will add a psd constraint later to make it happen\n",
    "    a = cp.Variable()\n",
    "\n",
    "    # Define the cost matrix for generator i\n",
    "    C_i = cp.Constant(np.array([[c2[i], c1[i]/2], [c1[i]/2, c0[i]]]))\n",
    "    C.append(C_i)\n",
    "\n",
    "    # Define the variable matrix for generator i\n",
    "    X_i = cp.vstack([\n",
    "        cp.hstack([a, P_j]),\n",
    "        cp.hstack([P_j, 1])\n",
    "    ])\n",
    "    X.append(X_i)\n",
    "\n",
    "objective_terms = cp.sum([\n",
    "    cp.trace(C[i] @ X[i]) for i in range(len(gen_buses))\n",
    "])\n",
    "\n",
    "objective = cp.Minimize(objective_terms)\n",
    "\n",
    "\n",
    "\n",
    "##############################################################################\n",
    "\n",
    "# Constraints\n",
    "constraints = []\n",
    "\n",
    "for j in range(n):\n",
    "    if j == 0:\n",
    "        # For the slack bus, we fix the voltage magnitude\n",
    "        constraints.append(cp.abs(cp.real(cp.trace(J[j] @ W))-(vm_slack)**2) <= 1e-5)\n",
    "    else:\n",
    "\n",
    "        # Voltage magnitude constraints\n",
    "        constraints.append(min_v_pu[j]<=cp.real(cp.trace(J[j] @ W)))\n",
    "        constraints.append(cp.real(cp.trace(J[j] @ W))<=max_v_pu[j])\n",
    "    \n",
    "    # #Change of variables\n",
    "    # constraints.append(a[j] == cp.real(cp.trace(Phi[j] @ W)))*Sbase\n",
    "\n",
    "    # Power balance equations (real and reactive)\n",
    "    Pin_j = cp.trace(Phi[j]@W)*Sbase\n",
    "    Qin_j = cp.trace(Psi[j]@W)*Sbase\n",
    "\n",
    "    # If bus is a generator bus, enforce generation limits\n",
    "    if j in gen_buses:\n",
    "        idx = np.where(gen_buses == j)[0][0]  # Get generator index\n",
    "        constraints.append(min_p_mw[idx] <= cp.real(Pin_j))\n",
    "        constraints.append(cp.real(Pin_j) <= max_p_mw[idx])\n",
    "        constraints.append(min_q_mw[idx] <= cp.real(Qin_j))\n",
    "        constraints.append(cp.real(Qin_j) <= max_q_mw[idx])\n",
    "        #add psd constraint to make a = P^2\n",
    "        constraints.append(X[idx] >> 0)\n",
    "    else:\n",
    "        # For non-generator buses, enforce power balance constraints\n",
    "        constraints.append(cp.real(Pin_j) == p_load[j])\n",
    "        constraints.append(cp.real(Qin_j) == q_load[j])\n",
    "\n",
    "# Positive semidefinite constraint\n",
    "constraints.append(W >> 0)"
   ]
  },
  {
   "cell_type": "markdown",
   "metadata": {},
   "source": [
    "### Solve using cvxpy's SDP solver"
   ]
  },
  {
   "cell_type": "code",
   "execution_count": null,
   "metadata": {},
   "outputs": [
    {
     "name": "stderr",
     "output_type": "stream",
     "text": [
      "/home/catz0449/VSDP/env/lib/python3.12/site-packages/mosek/__init__.py:18617: UserWarning:\n",
      "\n",
      "Argument sub in putvarboundlist: Incorrect array format causing data to be copied\n",
      "\n",
      "/home/catz0449/VSDP/env/lib/python3.12/site-packages/mosek/__init__.py:18925: UserWarning:\n",
      "\n",
      "Argument subj in putclist: Incorrect array format causing data to be copied\n",
      "\n",
      "/home/catz0449/VSDP/env/lib/python3.12/site-packages/mosek/__init__.py:18349: UserWarning:\n",
      "\n",
      "Argument sub in putconboundlist: Incorrect array format causing data to be copied\n",
      "\n"
     ]
    },
    {
     "name": "stdout",
     "output_type": "stream",
     "text": [
      "p min (MW): [0. 0. 0. 0. 0. 0. 0. 0. 0. 0. 0. 0. 0. 0. 0. 0. 0. 0. 0. 0. 0. 0. 0. 0.\n",
      " 0. 0. 0. 0. 0. 0. 0. 0. 0. 0. 0. 0. 0. 0. 0. 0. 0. 0. 0. 0. 0. 0. 0. 0.\n",
      " 0. 0. 0. 0. 0.]\n",
      "p max:(MW) [100. 100. 100. 100. 550. 185. 100. 100. 100. 100. 320. 414. 100. 107.\n",
      " 100. 100. 100. 100. 100. 119. 304. 148. 100. 100. 255. 260. 100. 491.\n",
      " 492. 100. 100. 100. 100. 100. 100. 577. 100. 104. 707. 100. 100. 100.\n",
      " 100. 352. 140. 100. 100. 100. 100. 136. 100. 100. 100.]\n",
      "q min (MW): [   -5.  -300.   -13.  -300.  -147.   -35.   -10.   -16.    -8.  -300.\n",
      "   -47. -1000.  -300.  -300.   -14.    -8.    -8.  -300.  -300.  -100.\n",
      "   -85.  -300.    -8.    -8.   -60.  -100.   -20.   -67.   -67.   -10.\n",
      "  -100.  -100.    -6.    -8.   -20.  -165.    -8.  -100.  -210.  -300.\n",
      "  -100.    -3.  -100.   -50.   -15.    -8.    -8.  -200.    -8.  -100.\n",
      "  -100.  -100. -1000.]\n",
      "q max (MW): [  15.  300.   50.  300.  200.  120.   30.   50.   24.  300.  140. 1000.\n",
      "  300.  300.   42.   24.   24.  300.  300.  100.  210.  300.   23.   15.\n",
      "  180.  300.   20.  200.  200.   32.  100.  100.    9.   23.   70.  280.\n",
      "   23. 1000.  300.  300.  100.    9.  100.  155.   40.   23.   23.  200.\n",
      "   23. 1000. 1000.  200. 1000.]\n",
      "Problem Status: optimal\n",
      "Optimal cost EUR: 34717.45018787363\n",
      "Real power generation in MW (SDP OPF): [4.750276207943216e-05, 99.99943765633148, 99.99986311530158, 4.4834948287331144e-05, 3.4853717734909972, 4.680502351250837e-05, 4.584113062477968e-05, 4.546133025584709e-05, 4.5765616807358356e-05, 4.252562270101734e-05, 9.195444081746729, 4.3797929993871776e-05, 95.25994251314702, 23.209208108108825, 4.320091382403746e-05, 4.4350933414705196e-05, 75.43672634014848, 75.45841798128166, 4.252290871642472e-05, 118.99980625979806, 181.74288831479873, 147.9998564455546, 4.187431398294805e-05, 4.178800967480356e-05, 4.429670634742422e-05, 4.517509886170501e-05, 4.526737638066436e-05, 4.478800077478695e-05, 4.42458632399223e-05, 99.9998953361014, 4.141870543206139e-05, 1.7786111049858722, 99.99990702830321, 99.99989256177848, 4.790023915290931e-05, 4.8046000866719396e-05, 5.220100360858737e-05, 5.508277425292363e-05, 136.26065355521345, 21.400195473148244, 4.902395456252151e-05, 5.0182997224368364e-05, 5.02857526507583e-05, 5.124897697328379e-05, 46.90158442267993, 20.168086631575566, 5.1895772656962436e-05, 5.264840492458234e-05, 5.122069524077233e-05, 5.121708719357798e-05, 5.1210993268213656e-05, 4.485710229928941e-05, 4.528152484084558e-05]\n",
      "Reactive power generation in MW (SDP OPF): [0.0, 0.0, 0.0, 0.0, 0.0, 3.4416913763379853e-13, 8.881784197001252e-14, 0.0, 0.0, 5.551115123125783e-14, 0.0, 0.0, 4.440892098500626e-14, 8.881784197001252e-14, 4.440892098500626e-14, 1.7763568394002505e-13, 2.6645352591003757e-13, 0.0, -1.1102230246251565e-14, 0.0, -8.881784197001252e-14, -3.3306690738754696e-14, 1.6653345369377348e-13, -1.7763568394002505e-13, -4.440892098500626e-14, 0.0, 4.440892098500626e-14, 0.0, 0.0, -1.1171619185290638e-13, -1.1102230246251565e-14, 0.0, -4.440892098500626e-14, 4.440892098500626e-14, 0.0, 8.881784197001252e-14, 8.881784197001252e-14, 0.0, 4.440892098500626e-14, 4.440892098500626e-14, -2.220446049250313e-14, 8.881784197001252e-14, 0.0, 0.0, 0.0, -8.881784197001252e-14, -1.7763568394002505e-13, 0.0, 8.881784197001252e-14, 0.0, 0.0, -8.881784197001252e-14, 0.0]\n",
      "Voltage magnitudes in pu(SDP OPF): [1.0349999465307023, 1.0321549577160312, 1.0330518737832486, 1.0451298784519658, 1.0407832804710477, 1.0469171047921824, 1.0430153090540817, 1.0360126852218712, 1.0555209817861049, 1.035470907644547, 1.0331149500008796, 1.0381393223183528, 1.023254545710999, 1.0387834024475688, 1.0436862956255435, 1.0337785320181787, 1.046866436676062, 1.045183401209083, 1.0440736835758448, 1.034635924897556, 1.031294796231758, 1.035616081102802, 1.0491043709997137, 1.0483506991186484, 1.047912562215973, 1.0262814541654772, 1.0566172385750319, 1.0492117498661273, 1.0485423228995072, 1.021915103989197, 1.0512789664122628, 1.0518225713649259, 1.0391760113325403, 1.0521310171692972, 1.0527481711797895, 1.0546250578124063, 1.0508961690916971, 1.0017927288998187, 1.049701202524583, 1.0589244761186656, 1.0520262941292364, 1.0568974539810265, 1.042670951761589, 1.0429470458677745, 1.0403356531927601, 1.0599911088763263, 1.0531163796306617, 1.0569008007398044, 1.0549612592924975, 1.0507244734865628, 1.0420167290862472, 1.0388556365722306, 1.0423306603646671, 1.059332699833111, 1.0570873389282704, 1.0574617897461014, 1.0524219451588195, 1.046566357771161, 1.0459872563417951, 1.038448345820555, 1.0395076370682412, 1.0397437774502472, 0.9976386316243753, 1.0011214848435905, 0.9924148782900606, 1.0456479244127226, 1.0374627872311661, 0.9851311698943686, 1.0431224849393828, 1.053441986812565, 1.0473949544509842, 1.0445802814625589, 1.0388369335190495, 1.0599993802100771, 1.0472562516655721, 1.049432645273813, 1.0346026348306854, 1.0283752610827324, 1.0277344812880687, 1.0384629050761573, 0.9764569634653221, 1.0187509814886004, 1.0211168566981497, 1.0227118194214027, 1.0298869402844713, 1.019366062707768, 1.0269735953442938, 1.0293623141825061, 1.0414382089821759, 1.0432769960031687, 1.0407605339222143, 1.0366130201466368, 1.0229505329978543, 1.017434040051401, 1.0061858002400188, 1.015241844885962, 1.0220484982475655, 1.0283587893861326, 1.0344540735999916, 1.0326061707759444, 1.0221059775582753, 1.031082549678485, 1.0365003791371206, 1.035716989118626, 1.035174029275154, 1.0263626138942066, 1.0293810584214873, 1.0339396852692293, 1.0335322841654042, 1.0357389298502873, 1.0338375153566493, 1.0343029615656907, 1.0471787448872225, 1.0493493361423785, 1.0492978910603206, 0.9851203712101312, 1.0230121508817456, 1.04246879302778]\n"
     ]
    }
   ],
   "source": [
    "# Solve the SDP\n",
    "prob = cp.Problem(objective, constraints)\n",
    "prob.solve(solver=cp.MOSEK)\n",
    "\n",
    "# Print constraints\n",
    "print(\"p min (MW):\", min_p_mw)\n",
    "print(\"p max:(MW)\", max_p_mw)\n",
    "print(\"q min (MW):\", min_q_mw)\n",
    "print(\"q max (MW):\", max_q_mw)\n",
    "\n",
    "# Print results\n",
    "print(\"Problem Status:\", prob.status)\n",
    "print(\"Optimal cost EUR:\", prob.value)\n",
    "P_g_sdp = [cp.real(cp.trace(Phi[j] @ W)).value * Sbase for j in gen_buses]\n",
    "print(\"Real power generation in MW (SDP OPF):\", P_g_sdp)\n",
    "Q_g_sdp = [cp.imag(cp.trace(Psi[j] @ W)).value * Sbase for j in gen_buses]\n",
    "print(\"Reactive power generation in MW (SDP OPF):\", Q_g_sdp)\n",
    "V_sdp = [np.sqrt(cp.real(W[j, j]).value) for j in range(n)]\n",
    "print(\"Voltage magnitudes in pu(SDP OPF):\", V_sdp)"
   ]
  },
  {
   "cell_type": "markdown",
   "metadata": {},
   "source": [
    "### Check whether the solution is physically feasible\n",
    "The semidefinite relaxation makes OPF convex, but also opens the door to:\n",
    "\n",
    "1. Inexact solutions (i.e., WW is not rank-1)\n",
    "\n",
    "2. Unrealistically cheap solutions that cannot occur in real networks.\n",
    "\n",
    "Let's check our solution."
   ]
  },
  {
   "cell_type": "code",
   "execution_count": 28,
   "metadata": {},
   "outputs": [
    {
     "name": "stdout",
     "output_type": "stream",
     "text": [
      "Rank of W: 7\n"
     ]
    }
   ],
   "source": [
    "#Check the rank of W\n",
    "eigvals = np.linalg.eigvalsh(W.value)\n",
    "rank_W = np.sum(eigvals > 1e-6)  # numerical rank threshold\n",
    "print(\"Rank of W:\", rank_W)\n",
    "\n",
    "# Check if the solution is feasible\n",
    "for i in range(len(P_g_sdp)):\n",
    "    if P_g_sdp[i] < min_p_mw[i]:\n",
    "        print(f\"Generation at bus {i} is below the minimum limit.\")\n",
    "    elif i > max_p_mw[i]:\n",
    "        print(f\"Generation at bus {i} is above the maximum limit.\")\n",
    "\n",
    "# Check if the voltage magnitudes are within limits\n",
    "for i in range(n):\n",
    "    if V_sdp[i]**2 < min_v_pu[i]:\n",
    "        print(f\"Voltage at bus {i} is below the minimum limit.\")\n",
    "    elif V_sdp[i]**2 > max_v_pu[i]:\n",
    "        print(f\"Voltage at bus {i} is above the maximum limit.\")\n",
    "\n",
    "# Check if the power balance equations are satisfied\n",
    "for j in range(n):\n",
    "    Pin_j = cp.trace(Phi[j] @ W).value * Sbase\n",
    "    Qin_j = cp.trace(Psi[j] @ W).value * Sbase\n",
    "    if j in gen_buses:\n",
    "        idx = np.where(gen_buses == j)[0][0]  # Get generator index\n",
    "        if Pin_j < min_p_mw[idx]:\n",
    "            print(f\"Power balance at bus {j} is below the minimum limit.\")\n",
    "        elif Pin_j > max_p_mw[idx]:\n",
    "            print(f\"Power balance at bus {j} is above the maximum limit.\")\n",
    "    # If bus is a load bus, check if the power balance is approximately equal to the load\n",
    "    elif abs(Pin_j - p_load[j]) > 1e-5:\n",
    "            print(f\"Power balance at bus {j} does not match load.\")\n",
    "\n"
   ]
  },
  {
   "cell_type": "markdown",
   "metadata": {},
   "source": [
    "### Benchmark using Classical OPF"
   ]
  },
  {
   "cell_type": "code",
   "execution_count": 29,
   "metadata": {},
   "outputs": [
    {
     "name": "stdout",
     "output_type": "stream",
     "text": [
      "OPF Cost ($/hr): 129695.10150252415\n",
      "OPF Real power generation (OPF): [2.64353041e+01 2.19743883e-05 4.49970318e-02 1.89600639e-05\n",
      " 4.01839324e+02 8.57867413e+01 2.08390182e+01 1.31945571e+01\n",
      " 2.15588758e+01 2.07195881e-05 1.93855161e+02 2.79800980e+02\n",
      " 1.00275054e+01 7.24886947e+00 1.49659279e+01 4.72709100e+00\n",
      " 1.05172891e+01 4.92773379e+01 4.10038604e+01 1.90408632e+01\n",
      " 1.93268724e+02 4.95340169e+01 3.19518183e+01 3.23860854e+01\n",
      " 1.49587532e+02 1.48281257e+02 1.13750085e-05 3.51883563e+02\n",
      " 3.48622729e+02 5.83914033e-05 6.54044608e-05 1.01401090e-04\n",
      " 1.82694998e+01 2.40492705e+01 1.37048240e-05 4.30696079e+02\n",
      " 6.53422594e-06 3.62960551e+00 5.02344896e+02 8.51876943e-06\n",
      " 7.76958763e-06 6.07311431e-06 1.07192905e-05 2.31308301e+02\n",
      " 3.82505372e+01 2.47999255e-04 5.44353369e+00 2.92709132e+01\n",
      " 7.16511856e+00 3.52388596e+01 3.66689560e+01 7.22985703e-05\n",
      " 7.09311838e-06]\n",
      "OPF Reactive power generation (OPF): [  14.99994863   71.22792003   33.25270819  -78.25405012 -100.03304894\n",
      "   54.43273066   23.96039579   30.56603405   23.96632999   -3.48633266\n",
      "  -46.99988975  -23.89900321   25.46131088   27.21558697   21.77226656\n",
      "   -7.86944216   20.13692503   28.92141541   22.46646276   -3.74473042\n",
      "   22.22031047   34.88510417   19.91299525   14.91318995   93.45141099\n",
      "   33.12294577    3.51380129  -35.52184035  -66.99991556   27.16386777\n",
      "   -5.07226991   -2.14837014    8.99994148   22.99996907   69.9991316\n",
      "   -2.6179919    22.99983491    3.18448528  -14.97000313   47.08532955\n",
      "    1.42632556    8.99986328   -3.11975932   45.79631635   11.77934046\n",
      "   22.89132774    9.57159105    3.34896737   19.79028673   -0.23326657\n",
      "   10.30323353  -10.16652547   63.24138861]\n",
      "OPF Voltage magnitudes (OPF): [1.03316654 1.03879492 1.03800694 1.05999975 1.0574738  1.05269884\n",
      " 1.05101986 1.0410977  1.05999998 1.05286365 1.04600687 1.04995411\n",
      " 1.03446825 1.04879506 1.04852146 1.04613634 1.05999961 1.05028006\n",
      " 1.04765304 1.03557919 1.03038211 1.03325109 1.04683326 1.04246644\n",
      " 1.05999999 1.02777898 1.04075328 1.03429846 1.03489616 1.03146924\n",
      " 1.03804639 1.04023593 1.04613105 1.05587288 1.05399769 1.05427617\n",
      " 1.05999966 1.0154146  1.04202494 1.04182367 1.03457416 1.03913201\n",
      " 1.03860131 1.02765965 1.02141082 1.0329044  1.03829501 1.0435656\n",
      " 1.04618407 1.036192   1.01962894 1.01416692 1.01415348 1.02940136\n",
      " 1.02942968 1.02909286 1.02942493 1.02159545 1.04650839 1.0469781\n",
      " 1.04942132 1.04537781 1.01633962 1.02392066 1.01754344 1.05999999\n",
      " 1.0472742  1.01331934 1.035      1.02043802 1.0219104  1.02884654\n",
      " 1.02071558 1.00304804 1.00546026 0.99613647 1.0362041  1.03194559\n",
      " 1.03419046 1.0535905  1.00762908 1.03084326 1.03425516 1.03878807\n",
      " 1.04745751 1.04080297 1.05287558 1.04688674 1.05999999 1.0412769\n",
      " 1.04461387 1.04832642 1.03694592 1.03365057 1.02181315 1.02973977\n",
      " 1.03704391 1.04631793 1.0492724  1.05434687 1.03968468 1.04468635\n",
      " 1.04732673 1.03852189 1.03627827 1.03016102 1.03012784 1.03525626\n",
      " 1.03495116 1.03740846 1.0451388  1.03007848 1.05529058 1.03592098\n",
      " 1.03556595 1.01553413 1.03506992 0.99495121]\n"
     ]
    }
   ],
   "source": [
    "pp.runopp(net)\n",
    "\n",
    "#Print results\n",
    "opf_cost = net.res_cost\n",
    "print(\"OPF Cost ($/hr):\", opf_cost)\n",
    "P_g_opf = net.res_gen[\"p_mw\"].values\n",
    "print(\"OPF Real power generation (OPF):\", P_g_opf)\n",
    "Q_g_opf = net.res_gen[\"q_mvar\"].values\n",
    "print(\"OPF Reactive power generation (OPF):\", Q_g_opf)\n",
    "V_opf = net.res_bus[\"vm_pu\"].values\n",
    "print(\"OPF Voltage magnitudes (OPF):\", V_opf)"
   ]
  },
  {
   "cell_type": "markdown",
   "metadata": {},
   "source": [
    "### Comparison"
   ]
  },
  {
   "cell_type": "code",
   "execution_count": 30,
   "metadata": {},
   "outputs": [
    {
     "name": "stdout",
     "output_type": "stream",
     "text": [
      "SDP OPF Optimal cost (EUR): 34717.45018787363\n",
      "OPF Cost (EUR): 112834.738307196\n"
     ]
    }
   ],
   "source": [
    "print(\"SDP OPF Optimal cost (EUR):\", prob.value)\n",
    "print(\"OPF Cost (EUR):\", opf_cost*0.87)"
   ]
  },
  {
   "cell_type": "code",
   "execution_count": 31,
   "metadata": {},
   "outputs": [
    {
     "data": {
      "application/vnd.plotly.v1+json": {
       "config": {
        "plotlyServerURL": "https://plot.ly"
       },
       "data": [
        {
         "mode": "markers+lines",
         "name": "SDP OPF Gen (MW)",
         "type": "scatter",
         "x": {
          "bdata": "AAAAAAMAAAAFAAAABwAAAAkAAAALAAAADgAAABEAAAASAAAAFwAAABgAAAAZAAAAGgAAAB4AAAAfAAAAIQAAACMAAAAnAAAAKQAAAC0AAAAwAAAANQAAADYAAAA3AAAAOgAAADwAAAA9AAAAQAAAAEEAAABFAAAARwAAAEgAAABJAAAASwAAAEwAAABPAAAAVAAAAFYAAABYAAAAWQAAAFoAAABbAAAAYgAAAGMAAABmAAAAZwAAAGgAAABqAAAAbQAAAG4AAABvAAAAcAAAAHMAAAA=",
          "dtype": "u4"
         },
         "y": [
          0.00004750276207943216,
          99.99943765633148,
          99.99986311530158,
          0.000044834948287331144,
          3.4853717734909972,
          0.00004680502351250837,
          0.00004584113062477968,
          0.00004546133025584709,
          0.000045765616807358356,
          0.00004252562270101734,
          9.195444081746729,
          0.000043797929993871776,
          95.25994251314702,
          23.209208108108825,
          0.00004320091382403746,
          0.000044350933414705196,
          75.43672634014848,
          75.45841798128166,
          0.00004252290871642472,
          118.99980625979806,
          181.74288831479873,
          147.9998564455546,
          0.00004187431398294805,
          0.00004178800967480356,
          0.00004429670634742422,
          0.00004517509886170501,
          0.00004526737638066436,
          0.00004478800077478695,
          0.0000442458632399223,
          99.9998953361014,
          0.00004141870543206139,
          1.7786111049858722,
          99.99990702830321,
          99.99989256177848,
          0.00004790023915290931,
          0.000048046000866719396,
          0.00005220100360858737,
          0.00005508277425292363,
          136.26065355521345,
          21.400195473148244,
          0.00004902395456252151,
          0.000050182997224368364,
          0.0000502857526507583,
          0.00005124897697328379,
          46.90158442267993,
          20.168086631575566,
          0.000051895772656962436,
          0.00005264840492458234,
          0.00005122069524077233,
          0.00005121708719357798,
          0.000051210993268213656,
          0.00004485710229928941,
          0.00004528152484084558
         ]
        },
        {
         "mode": "markers+lines",
         "name": "OPF Gen (MW)",
         "type": "scatter",
         "x": {
          "bdata": "AAAAAAMAAAAFAAAABwAAAAkAAAALAAAADgAAABEAAAASAAAAFwAAABgAAAAZAAAAGgAAAB4AAAAfAAAAIQAAACMAAAAnAAAAKQAAAC0AAAAwAAAANQAAADYAAAA3AAAAOgAAADwAAAA9AAAAQAAAAEEAAABFAAAARwAAAEgAAABJAAAASwAAAEwAAABPAAAAVAAAAFYAAABYAAAAWQAAAFoAAABbAAAAYgAAAGMAAABmAAAAZwAAAGgAAABqAAAAbQAAAG4AAABvAAAAcAAAAHMAAAA=",
          "dtype": "u4"
         },
         "y": {
          "bdata": "uAy/FnBvOkAG5MR3tAr3PtKlPdjZCac/BtdnrI3h8z5rivbebR15QHFVUPhZclVAeeWq5cnWNEAr5nr9nGMqQBemVnwSjzVAklZRQd+59T4lDfN6XTtoQOu9FNDQfHFABAuaMRUOJEBwNRmj1/4cQDWLjxuO7i1APRLSioroEkDuyLwe2gglQHCds85/o0hAL9gNf36AREBO+4ACdgozQMqZCmSZKGhAxpddqlrESEATf49cqvM/QIRAHj9rMUBAnIXuD82yYkCEAPAOAIliQLA0LULp2uc+QdJMEyP+dUBAYN2y9sl1QLEXLVcpnQ4/ijx6FDglET+wUMh16ZQaP93uqe/9RDJAEVUc/pwMOEAAl4CsuL3sPhmoRyMj63pAADVGWRJo2z7sdRCdbgkNQOG7MbGEZX9AefpLwXrd4T5Y6Dj+Q0vgPnTOWfP0eNk+9KBCEOB65j5Ok5Ga3elsQOTNxpoRIENAVvWRsLxAMD+r/jOyLcYVQFX4kJBaRT1AxND41hSpHECHT2bzkp5BQCwvhlmgVUJA0vnZ+t/zEj88xGOILcDdPg==",
          "dtype": "f8"
         }
        }
       ],
       "layout": {
        "template": {
         "data": {
          "bar": [
           {
            "error_x": {
             "color": "#2a3f5f"
            },
            "error_y": {
             "color": "#2a3f5f"
            },
            "marker": {
             "line": {
              "color": "#E5ECF6",
              "width": 0.5
             },
             "pattern": {
              "fillmode": "overlay",
              "size": 10,
              "solidity": 0.2
             }
            },
            "type": "bar"
           }
          ],
          "barpolar": [
           {
            "marker": {
             "line": {
              "color": "#E5ECF6",
              "width": 0.5
             },
             "pattern": {
              "fillmode": "overlay",
              "size": 10,
              "solidity": 0.2
             }
            },
            "type": "barpolar"
           }
          ],
          "carpet": [
           {
            "aaxis": {
             "endlinecolor": "#2a3f5f",
             "gridcolor": "white",
             "linecolor": "white",
             "minorgridcolor": "white",
             "startlinecolor": "#2a3f5f"
            },
            "baxis": {
             "endlinecolor": "#2a3f5f",
             "gridcolor": "white",
             "linecolor": "white",
             "minorgridcolor": "white",
             "startlinecolor": "#2a3f5f"
            },
            "type": "carpet"
           }
          ],
          "choropleth": [
           {
            "colorbar": {
             "outlinewidth": 0,
             "ticks": ""
            },
            "type": "choropleth"
           }
          ],
          "contour": [
           {
            "colorbar": {
             "outlinewidth": 0,
             "ticks": ""
            },
            "colorscale": [
             [
              0,
              "#0d0887"
             ],
             [
              0.1111111111111111,
              "#46039f"
             ],
             [
              0.2222222222222222,
              "#7201a8"
             ],
             [
              0.3333333333333333,
              "#9c179e"
             ],
             [
              0.4444444444444444,
              "#bd3786"
             ],
             [
              0.5555555555555556,
              "#d8576b"
             ],
             [
              0.6666666666666666,
              "#ed7953"
             ],
             [
              0.7777777777777778,
              "#fb9f3a"
             ],
             [
              0.8888888888888888,
              "#fdca26"
             ],
             [
              1,
              "#f0f921"
             ]
            ],
            "type": "contour"
           }
          ],
          "contourcarpet": [
           {
            "colorbar": {
             "outlinewidth": 0,
             "ticks": ""
            },
            "type": "contourcarpet"
           }
          ],
          "heatmap": [
           {
            "colorbar": {
             "outlinewidth": 0,
             "ticks": ""
            },
            "colorscale": [
             [
              0,
              "#0d0887"
             ],
             [
              0.1111111111111111,
              "#46039f"
             ],
             [
              0.2222222222222222,
              "#7201a8"
             ],
             [
              0.3333333333333333,
              "#9c179e"
             ],
             [
              0.4444444444444444,
              "#bd3786"
             ],
             [
              0.5555555555555556,
              "#d8576b"
             ],
             [
              0.6666666666666666,
              "#ed7953"
             ],
             [
              0.7777777777777778,
              "#fb9f3a"
             ],
             [
              0.8888888888888888,
              "#fdca26"
             ],
             [
              1,
              "#f0f921"
             ]
            ],
            "type": "heatmap"
           }
          ],
          "histogram": [
           {
            "marker": {
             "pattern": {
              "fillmode": "overlay",
              "size": 10,
              "solidity": 0.2
             }
            },
            "type": "histogram"
           }
          ],
          "histogram2d": [
           {
            "colorbar": {
             "outlinewidth": 0,
             "ticks": ""
            },
            "colorscale": [
             [
              0,
              "#0d0887"
             ],
             [
              0.1111111111111111,
              "#46039f"
             ],
             [
              0.2222222222222222,
              "#7201a8"
             ],
             [
              0.3333333333333333,
              "#9c179e"
             ],
             [
              0.4444444444444444,
              "#bd3786"
             ],
             [
              0.5555555555555556,
              "#d8576b"
             ],
             [
              0.6666666666666666,
              "#ed7953"
             ],
             [
              0.7777777777777778,
              "#fb9f3a"
             ],
             [
              0.8888888888888888,
              "#fdca26"
             ],
             [
              1,
              "#f0f921"
             ]
            ],
            "type": "histogram2d"
           }
          ],
          "histogram2dcontour": [
           {
            "colorbar": {
             "outlinewidth": 0,
             "ticks": ""
            },
            "colorscale": [
             [
              0,
              "#0d0887"
             ],
             [
              0.1111111111111111,
              "#46039f"
             ],
             [
              0.2222222222222222,
              "#7201a8"
             ],
             [
              0.3333333333333333,
              "#9c179e"
             ],
             [
              0.4444444444444444,
              "#bd3786"
             ],
             [
              0.5555555555555556,
              "#d8576b"
             ],
             [
              0.6666666666666666,
              "#ed7953"
             ],
             [
              0.7777777777777778,
              "#fb9f3a"
             ],
             [
              0.8888888888888888,
              "#fdca26"
             ],
             [
              1,
              "#f0f921"
             ]
            ],
            "type": "histogram2dcontour"
           }
          ],
          "mesh3d": [
           {
            "colorbar": {
             "outlinewidth": 0,
             "ticks": ""
            },
            "type": "mesh3d"
           }
          ],
          "parcoords": [
           {
            "line": {
             "colorbar": {
              "outlinewidth": 0,
              "ticks": ""
             }
            },
            "type": "parcoords"
           }
          ],
          "pie": [
           {
            "automargin": true,
            "type": "pie"
           }
          ],
          "scatter": [
           {
            "fillpattern": {
             "fillmode": "overlay",
             "size": 10,
             "solidity": 0.2
            },
            "type": "scatter"
           }
          ],
          "scatter3d": [
           {
            "line": {
             "colorbar": {
              "outlinewidth": 0,
              "ticks": ""
             }
            },
            "marker": {
             "colorbar": {
              "outlinewidth": 0,
              "ticks": ""
             }
            },
            "type": "scatter3d"
           }
          ],
          "scattercarpet": [
           {
            "marker": {
             "colorbar": {
              "outlinewidth": 0,
              "ticks": ""
             }
            },
            "type": "scattercarpet"
           }
          ],
          "scattergeo": [
           {
            "marker": {
             "colorbar": {
              "outlinewidth": 0,
              "ticks": ""
             }
            },
            "type": "scattergeo"
           }
          ],
          "scattergl": [
           {
            "marker": {
             "colorbar": {
              "outlinewidth": 0,
              "ticks": ""
             }
            },
            "type": "scattergl"
           }
          ],
          "scattermap": [
           {
            "marker": {
             "colorbar": {
              "outlinewidth": 0,
              "ticks": ""
             }
            },
            "type": "scattermap"
           }
          ],
          "scattermapbox": [
           {
            "marker": {
             "colorbar": {
              "outlinewidth": 0,
              "ticks": ""
             }
            },
            "type": "scattermapbox"
           }
          ],
          "scatterpolar": [
           {
            "marker": {
             "colorbar": {
              "outlinewidth": 0,
              "ticks": ""
             }
            },
            "type": "scatterpolar"
           }
          ],
          "scatterpolargl": [
           {
            "marker": {
             "colorbar": {
              "outlinewidth": 0,
              "ticks": ""
             }
            },
            "type": "scatterpolargl"
           }
          ],
          "scatterternary": [
           {
            "marker": {
             "colorbar": {
              "outlinewidth": 0,
              "ticks": ""
             }
            },
            "type": "scatterternary"
           }
          ],
          "surface": [
           {
            "colorbar": {
             "outlinewidth": 0,
             "ticks": ""
            },
            "colorscale": [
             [
              0,
              "#0d0887"
             ],
             [
              0.1111111111111111,
              "#46039f"
             ],
             [
              0.2222222222222222,
              "#7201a8"
             ],
             [
              0.3333333333333333,
              "#9c179e"
             ],
             [
              0.4444444444444444,
              "#bd3786"
             ],
             [
              0.5555555555555556,
              "#d8576b"
             ],
             [
              0.6666666666666666,
              "#ed7953"
             ],
             [
              0.7777777777777778,
              "#fb9f3a"
             ],
             [
              0.8888888888888888,
              "#fdca26"
             ],
             [
              1,
              "#f0f921"
             ]
            ],
            "type": "surface"
           }
          ],
          "table": [
           {
            "cells": {
             "fill": {
              "color": "#EBF0F8"
             },
             "line": {
              "color": "white"
             }
            },
            "header": {
             "fill": {
              "color": "#C8D4E3"
             },
             "line": {
              "color": "white"
             }
            },
            "type": "table"
           }
          ]
         },
         "layout": {
          "annotationdefaults": {
           "arrowcolor": "#2a3f5f",
           "arrowhead": 0,
           "arrowwidth": 1
          },
          "autotypenumbers": "strict",
          "coloraxis": {
           "colorbar": {
            "outlinewidth": 0,
            "ticks": ""
           }
          },
          "colorscale": {
           "diverging": [
            [
             0,
             "#8e0152"
            ],
            [
             0.1,
             "#c51b7d"
            ],
            [
             0.2,
             "#de77ae"
            ],
            [
             0.3,
             "#f1b6da"
            ],
            [
             0.4,
             "#fde0ef"
            ],
            [
             0.5,
             "#f7f7f7"
            ],
            [
             0.6,
             "#e6f5d0"
            ],
            [
             0.7,
             "#b8e186"
            ],
            [
             0.8,
             "#7fbc41"
            ],
            [
             0.9,
             "#4d9221"
            ],
            [
             1,
             "#276419"
            ]
           ],
           "sequential": [
            [
             0,
             "#0d0887"
            ],
            [
             0.1111111111111111,
             "#46039f"
            ],
            [
             0.2222222222222222,
             "#7201a8"
            ],
            [
             0.3333333333333333,
             "#9c179e"
            ],
            [
             0.4444444444444444,
             "#bd3786"
            ],
            [
             0.5555555555555556,
             "#d8576b"
            ],
            [
             0.6666666666666666,
             "#ed7953"
            ],
            [
             0.7777777777777778,
             "#fb9f3a"
            ],
            [
             0.8888888888888888,
             "#fdca26"
            ],
            [
             1,
             "#f0f921"
            ]
           ],
           "sequentialminus": [
            [
             0,
             "#0d0887"
            ],
            [
             0.1111111111111111,
             "#46039f"
            ],
            [
             0.2222222222222222,
             "#7201a8"
            ],
            [
             0.3333333333333333,
             "#9c179e"
            ],
            [
             0.4444444444444444,
             "#bd3786"
            ],
            [
             0.5555555555555556,
             "#d8576b"
            ],
            [
             0.6666666666666666,
             "#ed7953"
            ],
            [
             0.7777777777777778,
             "#fb9f3a"
            ],
            [
             0.8888888888888888,
             "#fdca26"
            ],
            [
             1,
             "#f0f921"
            ]
           ]
          },
          "colorway": [
           "#636efa",
           "#EF553B",
           "#00cc96",
           "#ab63fa",
           "#FFA15A",
           "#19d3f3",
           "#FF6692",
           "#B6E880",
           "#FF97FF",
           "#FECB52"
          ],
          "font": {
           "color": "#2a3f5f"
          },
          "geo": {
           "bgcolor": "white",
           "lakecolor": "white",
           "landcolor": "#E5ECF6",
           "showlakes": true,
           "showland": true,
           "subunitcolor": "white"
          },
          "hoverlabel": {
           "align": "left"
          },
          "hovermode": "closest",
          "mapbox": {
           "style": "light"
          },
          "paper_bgcolor": "white",
          "plot_bgcolor": "#E5ECF6",
          "polar": {
           "angularaxis": {
            "gridcolor": "white",
            "linecolor": "white",
            "ticks": ""
           },
           "bgcolor": "#E5ECF6",
           "radialaxis": {
            "gridcolor": "white",
            "linecolor": "white",
            "ticks": ""
           }
          },
          "scene": {
           "xaxis": {
            "backgroundcolor": "#E5ECF6",
            "gridcolor": "white",
            "gridwidth": 2,
            "linecolor": "white",
            "showbackground": true,
            "ticks": "",
            "zerolinecolor": "white"
           },
           "yaxis": {
            "backgroundcolor": "#E5ECF6",
            "gridcolor": "white",
            "gridwidth": 2,
            "linecolor": "white",
            "showbackground": true,
            "ticks": "",
            "zerolinecolor": "white"
           },
           "zaxis": {
            "backgroundcolor": "#E5ECF6",
            "gridcolor": "white",
            "gridwidth": 2,
            "linecolor": "white",
            "showbackground": true,
            "ticks": "",
            "zerolinecolor": "white"
           }
          },
          "shapedefaults": {
           "line": {
            "color": "#2a3f5f"
           }
          },
          "ternary": {
           "aaxis": {
            "gridcolor": "white",
            "linecolor": "white",
            "ticks": ""
           },
           "baxis": {
            "gridcolor": "white",
            "linecolor": "white",
            "ticks": ""
           },
           "bgcolor": "#E5ECF6",
           "caxis": {
            "gridcolor": "white",
            "linecolor": "white",
            "ticks": ""
           }
          },
          "title": {
           "x": 0.05
          },
          "xaxis": {
           "automargin": true,
           "gridcolor": "white",
           "linecolor": "white",
           "ticks": "",
           "title": {
            "standoff": 15
           },
           "zerolinecolor": "white",
           "zerolinewidth": 2
          },
          "yaxis": {
           "automargin": true,
           "gridcolor": "white",
           "linecolor": "white",
           "ticks": "",
           "title": {
            "standoff": 15
           },
           "zerolinecolor": "white",
           "zerolinewidth": 2
          }
         }
        },
        "title": {
         "text": "Generator Real Power Comparison"
        },
        "xaxis": {
         "title": {
          "text": "Generator Bus"
         }
        },
        "yaxis": {
         "title": {
          "text": "P (MW)"
         }
        }
       }
      }
     },
     "metadata": {},
     "output_type": "display_data"
    }
   ],
   "source": [
    "import plotly.graph_objects as go\n",
    "\n",
    "# Generator power plot\n",
    "gen_fig = go.Figure()\n",
    "gen_fig.add_trace(go.Scatter(x=gen_buses, y=P_g_sdp, mode='markers+lines', name='SDP OPF Gen (MW)'))\n",
    "gen_fig.add_trace(go.Scatter(x=gen_buses, y=P_g_opf, mode='markers+lines', name='OPF Gen (MW)'))\n",
    "gen_fig.update_layout(title=\"Generator Real Power Comparison\", xaxis_title=\"Generator Bus\", yaxis_title=\"P (MW)\")\n",
    "gen_fig.show()"
   ]
  },
  {
   "cell_type": "code",
   "execution_count": 32,
   "metadata": {},
   "outputs": [
    {
     "data": {
      "application/vnd.plotly.v1+json": {
       "config": {
        "plotlyServerURL": "https://plot.ly"
       },
       "data": [
        {
         "mode": "markers+lines",
         "name": "SDP OPF V (pu)",
         "type": "scatter",
         "x": [
          0,
          1,
          2,
          3,
          4,
          5,
          6,
          7,
          8,
          9,
          10,
          11,
          12,
          13,
          14,
          15,
          16,
          17,
          18,
          19,
          20,
          21,
          22,
          23,
          24,
          25,
          26,
          27,
          28,
          29,
          30,
          31,
          32,
          33,
          34,
          35,
          36,
          37,
          38,
          39,
          40,
          41,
          42,
          43,
          44,
          45,
          46,
          47,
          48,
          49,
          50,
          51,
          52,
          53,
          54,
          55,
          56,
          57,
          58,
          59,
          60,
          61,
          62,
          63,
          64,
          65,
          66,
          67,
          68,
          69,
          70,
          71,
          72,
          73,
          74,
          75,
          76,
          77,
          78,
          79,
          80,
          81,
          82,
          83,
          84,
          85,
          86,
          87,
          88,
          89,
          90,
          91,
          92,
          93,
          94,
          95,
          96,
          97,
          98,
          99,
          100,
          101,
          102,
          103,
          104,
          105,
          106,
          107,
          108,
          109,
          110,
          111,
          112,
          113,
          114,
          115,
          116,
          117
         ],
         "y": [
          1.0349999465307023,
          1.0321549577160312,
          1.0330518737832486,
          1.0451298784519658,
          1.0407832804710477,
          1.0469171047921824,
          1.0430153090540817,
          1.0360126852218712,
          1.0555209817861049,
          1.035470907644547,
          1.0331149500008796,
          1.0381393223183528,
          1.023254545710999,
          1.0387834024475688,
          1.0436862956255435,
          1.0337785320181787,
          1.046866436676062,
          1.045183401209083,
          1.0440736835758448,
          1.034635924897556,
          1.031294796231758,
          1.035616081102802,
          1.0491043709997137,
          1.0483506991186484,
          1.047912562215973,
          1.0262814541654772,
          1.0566172385750319,
          1.0492117498661273,
          1.0485423228995072,
          1.021915103989197,
          1.0512789664122628,
          1.0518225713649259,
          1.0391760113325403,
          1.0521310171692972,
          1.0527481711797895,
          1.0546250578124063,
          1.0508961690916971,
          1.0017927288998187,
          1.049701202524583,
          1.0589244761186656,
          1.0520262941292364,
          1.0568974539810265,
          1.042670951761589,
          1.0429470458677745,
          1.0403356531927601,
          1.0599911088763263,
          1.0531163796306617,
          1.0569008007398044,
          1.0549612592924975,
          1.0507244734865628,
          1.0420167290862472,
          1.0388556365722306,
          1.0423306603646671,
          1.059332699833111,
          1.0570873389282704,
          1.0574617897461014,
          1.0524219451588195,
          1.046566357771161,
          1.0459872563417951,
          1.038448345820555,
          1.0395076370682412,
          1.0397437774502472,
          0.9976386316243753,
          1.0011214848435905,
          0.9924148782900606,
          1.0456479244127226,
          1.0374627872311661,
          0.9851311698943686,
          1.0431224849393828,
          1.053441986812565,
          1.0473949544509842,
          1.0445802814625589,
          1.0388369335190495,
          1.0599993802100771,
          1.0472562516655721,
          1.049432645273813,
          1.0346026348306854,
          1.0283752610827324,
          1.0277344812880687,
          1.0384629050761573,
          0.9764569634653221,
          1.0187509814886004,
          1.0211168566981497,
          1.0227118194214027,
          1.0298869402844713,
          1.019366062707768,
          1.0269735953442938,
          1.0293623141825061,
          1.0414382089821759,
          1.0432769960031687,
          1.0407605339222143,
          1.0366130201466368,
          1.0229505329978543,
          1.017434040051401,
          1.0061858002400188,
          1.015241844885962,
          1.0220484982475655,
          1.0283587893861326,
          1.0344540735999916,
          1.0326061707759444,
          1.0221059775582753,
          1.031082549678485,
          1.0365003791371206,
          1.035716989118626,
          1.035174029275154,
          1.0263626138942066,
          1.0293810584214873,
          1.0339396852692293,
          1.0335322841654042,
          1.0357389298502873,
          1.0338375153566493,
          1.0343029615656907,
          1.0471787448872225,
          1.0493493361423785,
          1.0492978910603206,
          0.9851203712101312,
          1.0230121508817456,
          1.04246879302778
         ]
        },
        {
         "mode": "markers+lines",
         "name": "OPF V (pu)",
         "type": "scatter",
         "x": [
          0,
          1,
          2,
          3,
          4,
          5,
          6,
          7,
          8,
          9,
          10,
          11,
          12,
          13,
          14,
          15,
          16,
          17,
          18,
          19,
          20,
          21,
          22,
          23,
          24,
          25,
          26,
          27,
          28,
          29,
          30,
          31,
          32,
          33,
          34,
          35,
          36,
          37,
          38,
          39,
          40,
          41,
          42,
          43,
          44,
          45,
          46,
          47,
          48,
          49,
          50,
          51,
          52,
          53,
          54,
          55,
          56,
          57,
          58,
          59,
          60,
          61,
          62,
          63,
          64,
          65,
          66,
          67,
          68,
          69,
          70,
          71,
          72,
          73,
          74,
          75,
          76,
          77,
          78,
          79,
          80,
          81,
          82,
          83,
          84,
          85,
          86,
          87,
          88,
          89,
          90,
          91,
          92,
          93,
          94,
          95,
          96,
          97,
          98,
          99,
          100,
          101,
          102,
          103,
          104,
          105,
          106,
          107,
          108,
          109,
          110,
          111,
          112,
          113,
          114,
          115,
          116,
          117
         ],
         "y": {
          "bdata": "OiKpo9mH8D8vpRxs557wP7Y9ayqtm/A/qRVLS8L18D8E2o2kaevwPx4JNLza1/A/D/4lM/rQ8D+LTXwPVqjwP1FLXonC9fA/5Ce6jofY8D/3UZKycbzwP9eKDq6czPA/XbwAlS6N8D+OoLVT3cfwP6XcEHC+xvA/wFB5dfm88D8uOIUnwvXwP24TsHfyzfA/8TgE1S/D8D/wk/57u5HwPzMKdvRxfPA/k01lSjKI8D9xd+Q71L/wP914SUnxrfA/4sfDi8L18D/qQ+lfyHHwP1V7IejspvA/35zPi3yM8D9O5/RF747wP9skIePlgPA/T65Nh9ab8D+2JGpuzqTwP0A11ujzvPA/le8H9trk8D97wj6tLN3wP5AnqbFQ3vA/93E+NcL18D8/NkxhIz/wPyDjNVcirPA/5YmcS0+r8D9HdMyhnY3wP0JTG+RIoPA/NLYLaBye8D+fw1w+S3HwP/HTaN6yV/A/tcV7wsaG8D+NJKA525zwP3y3Q9hxsvA/2cIbgyu98D/YNAQQPpTwP6zes29mUPA/h1Z+GAc68D+TKU//+DnwPzOzlI5tePA/O1vzQIt48D/nPNwSKnfwP1gu0keGePA/Pfjnd3RY8D8dwwiVf77wP9lfZhtswPA/6rOoA27K8D/dHdET3rnwP0lpWlTtQvA/B885oPph8D8nlB2g20fwP1KLGozC9fA/JOX/lqLB8D8ef8ZXjjbwP4re9Chcj/A/duu10LZT8D8ZEC64vlnwPw64FMondvA/LleT3NlU8D8ZrkYZfAzwP0v0KIBdFvA/tdKulVng7z8v/JfASpTwPz0cj2DZgvA/AqWhTAuM8D8T9x63gdvwP0j5sKs/H/A/umuugVV+8D8Rd2YjT4zwP8FHdjzgnvA/gE2yzWLC8D+1teICIafwP2CywhGU2PA/66g7UAzA8D86ZLaLwvXwPybb6fYRqfA/aqINCb228D86BU7r8cXwP8kajZpUl/A/qC9wLdWJ8D/3REe+WFnwP633dGjQefA/lyKtWbuX8D+0nV3et73wP9FwxdvRyfA/23Rk0pre8D/5Qx5njKLwP8PZaQgJt/A/LpS0q9nB8D9DnuAfyZ3wP5+v1YaYlPA/G0jKH4p78D9dz+BTZ3vwP3y77d5okPA/KsOz8yiP8D+4f0ydOZnwP5VKv3bjuPA/TwxqkjN78D+z5BRheOLwP+Qsrd8hk/A/jtVkmq2R8D9cHGK3oD/wPzflenmlj/A/VOQI7aPW7z8=",
          "dtype": "f8"
         }
        }
       ],
       "layout": {
        "template": {
         "data": {
          "bar": [
           {
            "error_x": {
             "color": "#2a3f5f"
            },
            "error_y": {
             "color": "#2a3f5f"
            },
            "marker": {
             "line": {
              "color": "#E5ECF6",
              "width": 0.5
             },
             "pattern": {
              "fillmode": "overlay",
              "size": 10,
              "solidity": 0.2
             }
            },
            "type": "bar"
           }
          ],
          "barpolar": [
           {
            "marker": {
             "line": {
              "color": "#E5ECF6",
              "width": 0.5
             },
             "pattern": {
              "fillmode": "overlay",
              "size": 10,
              "solidity": 0.2
             }
            },
            "type": "barpolar"
           }
          ],
          "carpet": [
           {
            "aaxis": {
             "endlinecolor": "#2a3f5f",
             "gridcolor": "white",
             "linecolor": "white",
             "minorgridcolor": "white",
             "startlinecolor": "#2a3f5f"
            },
            "baxis": {
             "endlinecolor": "#2a3f5f",
             "gridcolor": "white",
             "linecolor": "white",
             "minorgridcolor": "white",
             "startlinecolor": "#2a3f5f"
            },
            "type": "carpet"
           }
          ],
          "choropleth": [
           {
            "colorbar": {
             "outlinewidth": 0,
             "ticks": ""
            },
            "type": "choropleth"
           }
          ],
          "contour": [
           {
            "colorbar": {
             "outlinewidth": 0,
             "ticks": ""
            },
            "colorscale": [
             [
              0,
              "#0d0887"
             ],
             [
              0.1111111111111111,
              "#46039f"
             ],
             [
              0.2222222222222222,
              "#7201a8"
             ],
             [
              0.3333333333333333,
              "#9c179e"
             ],
             [
              0.4444444444444444,
              "#bd3786"
             ],
             [
              0.5555555555555556,
              "#d8576b"
             ],
             [
              0.6666666666666666,
              "#ed7953"
             ],
             [
              0.7777777777777778,
              "#fb9f3a"
             ],
             [
              0.8888888888888888,
              "#fdca26"
             ],
             [
              1,
              "#f0f921"
             ]
            ],
            "type": "contour"
           }
          ],
          "contourcarpet": [
           {
            "colorbar": {
             "outlinewidth": 0,
             "ticks": ""
            },
            "type": "contourcarpet"
           }
          ],
          "heatmap": [
           {
            "colorbar": {
             "outlinewidth": 0,
             "ticks": ""
            },
            "colorscale": [
             [
              0,
              "#0d0887"
             ],
             [
              0.1111111111111111,
              "#46039f"
             ],
             [
              0.2222222222222222,
              "#7201a8"
             ],
             [
              0.3333333333333333,
              "#9c179e"
             ],
             [
              0.4444444444444444,
              "#bd3786"
             ],
             [
              0.5555555555555556,
              "#d8576b"
             ],
             [
              0.6666666666666666,
              "#ed7953"
             ],
             [
              0.7777777777777778,
              "#fb9f3a"
             ],
             [
              0.8888888888888888,
              "#fdca26"
             ],
             [
              1,
              "#f0f921"
             ]
            ],
            "type": "heatmap"
           }
          ],
          "histogram": [
           {
            "marker": {
             "pattern": {
              "fillmode": "overlay",
              "size": 10,
              "solidity": 0.2
             }
            },
            "type": "histogram"
           }
          ],
          "histogram2d": [
           {
            "colorbar": {
             "outlinewidth": 0,
             "ticks": ""
            },
            "colorscale": [
             [
              0,
              "#0d0887"
             ],
             [
              0.1111111111111111,
              "#46039f"
             ],
             [
              0.2222222222222222,
              "#7201a8"
             ],
             [
              0.3333333333333333,
              "#9c179e"
             ],
             [
              0.4444444444444444,
              "#bd3786"
             ],
             [
              0.5555555555555556,
              "#d8576b"
             ],
             [
              0.6666666666666666,
              "#ed7953"
             ],
             [
              0.7777777777777778,
              "#fb9f3a"
             ],
             [
              0.8888888888888888,
              "#fdca26"
             ],
             [
              1,
              "#f0f921"
             ]
            ],
            "type": "histogram2d"
           }
          ],
          "histogram2dcontour": [
           {
            "colorbar": {
             "outlinewidth": 0,
             "ticks": ""
            },
            "colorscale": [
             [
              0,
              "#0d0887"
             ],
             [
              0.1111111111111111,
              "#46039f"
             ],
             [
              0.2222222222222222,
              "#7201a8"
             ],
             [
              0.3333333333333333,
              "#9c179e"
             ],
             [
              0.4444444444444444,
              "#bd3786"
             ],
             [
              0.5555555555555556,
              "#d8576b"
             ],
             [
              0.6666666666666666,
              "#ed7953"
             ],
             [
              0.7777777777777778,
              "#fb9f3a"
             ],
             [
              0.8888888888888888,
              "#fdca26"
             ],
             [
              1,
              "#f0f921"
             ]
            ],
            "type": "histogram2dcontour"
           }
          ],
          "mesh3d": [
           {
            "colorbar": {
             "outlinewidth": 0,
             "ticks": ""
            },
            "type": "mesh3d"
           }
          ],
          "parcoords": [
           {
            "line": {
             "colorbar": {
              "outlinewidth": 0,
              "ticks": ""
             }
            },
            "type": "parcoords"
           }
          ],
          "pie": [
           {
            "automargin": true,
            "type": "pie"
           }
          ],
          "scatter": [
           {
            "fillpattern": {
             "fillmode": "overlay",
             "size": 10,
             "solidity": 0.2
            },
            "type": "scatter"
           }
          ],
          "scatter3d": [
           {
            "line": {
             "colorbar": {
              "outlinewidth": 0,
              "ticks": ""
             }
            },
            "marker": {
             "colorbar": {
              "outlinewidth": 0,
              "ticks": ""
             }
            },
            "type": "scatter3d"
           }
          ],
          "scattercarpet": [
           {
            "marker": {
             "colorbar": {
              "outlinewidth": 0,
              "ticks": ""
             }
            },
            "type": "scattercarpet"
           }
          ],
          "scattergeo": [
           {
            "marker": {
             "colorbar": {
              "outlinewidth": 0,
              "ticks": ""
             }
            },
            "type": "scattergeo"
           }
          ],
          "scattergl": [
           {
            "marker": {
             "colorbar": {
              "outlinewidth": 0,
              "ticks": ""
             }
            },
            "type": "scattergl"
           }
          ],
          "scattermap": [
           {
            "marker": {
             "colorbar": {
              "outlinewidth": 0,
              "ticks": ""
             }
            },
            "type": "scattermap"
           }
          ],
          "scattermapbox": [
           {
            "marker": {
             "colorbar": {
              "outlinewidth": 0,
              "ticks": ""
             }
            },
            "type": "scattermapbox"
           }
          ],
          "scatterpolar": [
           {
            "marker": {
             "colorbar": {
              "outlinewidth": 0,
              "ticks": ""
             }
            },
            "type": "scatterpolar"
           }
          ],
          "scatterpolargl": [
           {
            "marker": {
             "colorbar": {
              "outlinewidth": 0,
              "ticks": ""
             }
            },
            "type": "scatterpolargl"
           }
          ],
          "scatterternary": [
           {
            "marker": {
             "colorbar": {
              "outlinewidth": 0,
              "ticks": ""
             }
            },
            "type": "scatterternary"
           }
          ],
          "surface": [
           {
            "colorbar": {
             "outlinewidth": 0,
             "ticks": ""
            },
            "colorscale": [
             [
              0,
              "#0d0887"
             ],
             [
              0.1111111111111111,
              "#46039f"
             ],
             [
              0.2222222222222222,
              "#7201a8"
             ],
             [
              0.3333333333333333,
              "#9c179e"
             ],
             [
              0.4444444444444444,
              "#bd3786"
             ],
             [
              0.5555555555555556,
              "#d8576b"
             ],
             [
              0.6666666666666666,
              "#ed7953"
             ],
             [
              0.7777777777777778,
              "#fb9f3a"
             ],
             [
              0.8888888888888888,
              "#fdca26"
             ],
             [
              1,
              "#f0f921"
             ]
            ],
            "type": "surface"
           }
          ],
          "table": [
           {
            "cells": {
             "fill": {
              "color": "#EBF0F8"
             },
             "line": {
              "color": "white"
             }
            },
            "header": {
             "fill": {
              "color": "#C8D4E3"
             },
             "line": {
              "color": "white"
             }
            },
            "type": "table"
           }
          ]
         },
         "layout": {
          "annotationdefaults": {
           "arrowcolor": "#2a3f5f",
           "arrowhead": 0,
           "arrowwidth": 1
          },
          "autotypenumbers": "strict",
          "coloraxis": {
           "colorbar": {
            "outlinewidth": 0,
            "ticks": ""
           }
          },
          "colorscale": {
           "diverging": [
            [
             0,
             "#8e0152"
            ],
            [
             0.1,
             "#c51b7d"
            ],
            [
             0.2,
             "#de77ae"
            ],
            [
             0.3,
             "#f1b6da"
            ],
            [
             0.4,
             "#fde0ef"
            ],
            [
             0.5,
             "#f7f7f7"
            ],
            [
             0.6,
             "#e6f5d0"
            ],
            [
             0.7,
             "#b8e186"
            ],
            [
             0.8,
             "#7fbc41"
            ],
            [
             0.9,
             "#4d9221"
            ],
            [
             1,
             "#276419"
            ]
           ],
           "sequential": [
            [
             0,
             "#0d0887"
            ],
            [
             0.1111111111111111,
             "#46039f"
            ],
            [
             0.2222222222222222,
             "#7201a8"
            ],
            [
             0.3333333333333333,
             "#9c179e"
            ],
            [
             0.4444444444444444,
             "#bd3786"
            ],
            [
             0.5555555555555556,
             "#d8576b"
            ],
            [
             0.6666666666666666,
             "#ed7953"
            ],
            [
             0.7777777777777778,
             "#fb9f3a"
            ],
            [
             0.8888888888888888,
             "#fdca26"
            ],
            [
             1,
             "#f0f921"
            ]
           ],
           "sequentialminus": [
            [
             0,
             "#0d0887"
            ],
            [
             0.1111111111111111,
             "#46039f"
            ],
            [
             0.2222222222222222,
             "#7201a8"
            ],
            [
             0.3333333333333333,
             "#9c179e"
            ],
            [
             0.4444444444444444,
             "#bd3786"
            ],
            [
             0.5555555555555556,
             "#d8576b"
            ],
            [
             0.6666666666666666,
             "#ed7953"
            ],
            [
             0.7777777777777778,
             "#fb9f3a"
            ],
            [
             0.8888888888888888,
             "#fdca26"
            ],
            [
             1,
             "#f0f921"
            ]
           ]
          },
          "colorway": [
           "#636efa",
           "#EF553B",
           "#00cc96",
           "#ab63fa",
           "#FFA15A",
           "#19d3f3",
           "#FF6692",
           "#B6E880",
           "#FF97FF",
           "#FECB52"
          ],
          "font": {
           "color": "#2a3f5f"
          },
          "geo": {
           "bgcolor": "white",
           "lakecolor": "white",
           "landcolor": "#E5ECF6",
           "showlakes": true,
           "showland": true,
           "subunitcolor": "white"
          },
          "hoverlabel": {
           "align": "left"
          },
          "hovermode": "closest",
          "mapbox": {
           "style": "light"
          },
          "paper_bgcolor": "white",
          "plot_bgcolor": "#E5ECF6",
          "polar": {
           "angularaxis": {
            "gridcolor": "white",
            "linecolor": "white",
            "ticks": ""
           },
           "bgcolor": "#E5ECF6",
           "radialaxis": {
            "gridcolor": "white",
            "linecolor": "white",
            "ticks": ""
           }
          },
          "scene": {
           "xaxis": {
            "backgroundcolor": "#E5ECF6",
            "gridcolor": "white",
            "gridwidth": 2,
            "linecolor": "white",
            "showbackground": true,
            "ticks": "",
            "zerolinecolor": "white"
           },
           "yaxis": {
            "backgroundcolor": "#E5ECF6",
            "gridcolor": "white",
            "gridwidth": 2,
            "linecolor": "white",
            "showbackground": true,
            "ticks": "",
            "zerolinecolor": "white"
           },
           "zaxis": {
            "backgroundcolor": "#E5ECF6",
            "gridcolor": "white",
            "gridwidth": 2,
            "linecolor": "white",
            "showbackground": true,
            "ticks": "",
            "zerolinecolor": "white"
           }
          },
          "shapedefaults": {
           "line": {
            "color": "#2a3f5f"
           }
          },
          "ternary": {
           "aaxis": {
            "gridcolor": "white",
            "linecolor": "white",
            "ticks": ""
           },
           "baxis": {
            "gridcolor": "white",
            "linecolor": "white",
            "ticks": ""
           },
           "bgcolor": "#E5ECF6",
           "caxis": {
            "gridcolor": "white",
            "linecolor": "white",
            "ticks": ""
           }
          },
          "title": {
           "x": 0.05
          },
          "xaxis": {
           "automargin": true,
           "gridcolor": "white",
           "linecolor": "white",
           "ticks": "",
           "title": {
            "standoff": 15
           },
           "zerolinecolor": "white",
           "zerolinewidth": 2
          },
          "yaxis": {
           "automargin": true,
           "gridcolor": "white",
           "linecolor": "white",
           "ticks": "",
           "title": {
            "standoff": 15
           },
           "zerolinecolor": "white",
           "zerolinewidth": 2
          }
         }
        },
        "title": {
         "text": "Voltage Magnitude Comparison"
        },
        "xaxis": {
         "title": {
          "text": "Bus"
         }
        },
        "yaxis": {
         "title": {
          "text": "V (pu)"
         }
        }
       }
      }
     },
     "metadata": {},
     "output_type": "display_data"
    }
   ],
   "source": [
    "# Voltage Magnitude plot\n",
    "gen_fig = go.Figure()\n",
    "gen_fig.add_trace(go.Scatter(x=list(range(n)), y=V_sdp, mode='markers+lines', name='SDP OPF V (pu)'))\n",
    "gen_fig.add_trace(go.Scatter(x=list(range(n)), y=V_opf, mode='markers+lines', name='OPF V (pu)'))\n",
    "gen_fig.update_layout(title=\"Voltage Magnitude Comparison\", xaxis_title=\"Bus\", yaxis_title=\"V (pu)\")\n",
    "gen_fig.show()"
   ]
  },
  {
   "cell_type": "code",
   "execution_count": null,
   "metadata": {},
   "outputs": [],
   "source": []
  }
 ],
 "metadata": {
  "kernelspec": {
   "display_name": "env",
   "language": "python",
   "name": "python3"
  },
  "language_info": {
   "codemirror_mode": {
    "name": "ipython",
    "version": 3
   },
   "file_extension": ".py",
   "mimetype": "text/x-python",
   "name": "python",
   "nbconvert_exporter": "python",
   "pygments_lexer": "ipython3",
   "version": "3.12.3"
  }
 },
 "nbformat": 4,
 "nbformat_minor": 2
}
