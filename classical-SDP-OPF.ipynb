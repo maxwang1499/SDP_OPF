{
 "cells": [
  {
   "cell_type": "markdown",
   "metadata": {},
   "source": [
    "## Classical SDP relaxation of OPF\n",
    "As a first step, we present a simple implementation of the classical SDP formulation of the Optimnal Power Flow problem using CVXPY."
   ]
  },
  {
   "cell_type": "markdown",
   "metadata": {},
   "source": [
    "### Setup\n",
    "We start by importing pandapower for the test cases;\n",
    "CVXPY, an open source Python-embedded modeling language for convex optimization problems;\n",
    "MOSEK, a large scale optimization software. "
   ]
  },
  {
   "cell_type": "code",
   "execution_count": 20,
   "metadata": {},
   "outputs": [],
   "source": [
    "import pandapower.networks as nw\n",
    "import pandapower as pp\n",
    "import numpy as np\n",
    "import cvxpy as cp\n",
    "from scipy.sparse import csr_matrix\n",
    "import mosek\n",
    "import plotly.express as px"
   ]
  },
  {
   "cell_type": "markdown",
   "metadata": {},
   "source": [
    "### Load Network Data\n",
    "Now,let's make a function that loads the IEEE test cases from Pandapower."
   ]
  },
  {
   "cell_type": "code",
   "execution_count": 21,
   "metadata": {},
   "outputs": [],
   "source": [
    "# Select IEEE test case\n",
    "def load_network(case):\n",
    "    if case == 5:\n",
    "        return nw.case5()\n",
    "    if case == 14:\n",
    "        return nw.case14()\n",
    "    elif case == 30:\n",
    "        return nw.case30()\n",
    "    elif case == 57:\n",
    "        return nw.case57()\n",
    "    elif case == 118:\n",
    "        return nw.case118()\n",
    "    elif case == 300:\n",
    "        return nw.case300()\n",
    "    elif case == 'GB':\n",
    "        return nw.GBnetwork()\n",
    "    else:\n",
    "        raise ValueError(\"Unsupported test case\")"
   ]
  },
  {
   "cell_type": "code",
   "execution_count": 92,
   "metadata": {},
   "outputs": [
    {
     "name": "stderr",
     "output_type": "stream",
     "text": [
      "/home/catz0449/VSDP/env/lib/python3.12/site-packages/pandapower/io_utils.py:450: FutureWarning:\n",
      "\n",
      "Passing literal json to 'read_json' is deprecated and will be removed in a future version. To read from a literal string, wrap it in a 'StringIO' object.\n",
      "\n",
      "/home/catz0449/VSDP/env/lib/python3.12/site-packages/pandapower/io_utils.py:450: FutureWarning:\n",
      "\n",
      "Passing literal json to 'read_json' is deprecated and will be removed in a future version. To read from a literal string, wrap it in a 'StringIO' object.\n",
      "\n",
      "/home/catz0449/VSDP/env/lib/python3.12/site-packages/pandapower/io_utils.py:450: FutureWarning:\n",
      "\n",
      "Passing literal json to 'read_json' is deprecated and will be removed in a future version. To read from a literal string, wrap it in a 'StringIO' object.\n",
      "\n",
      "/home/catz0449/VSDP/env/lib/python3.12/site-packages/pandapower/io_utils.py:450: FutureWarning:\n",
      "\n",
      "Passing literal json to 'read_json' is deprecated and will be removed in a future version. To read from a literal string, wrap it in a 'StringIO' object.\n",
      "\n",
      "/home/catz0449/VSDP/env/lib/python3.12/site-packages/pandapower/io_utils.py:450: FutureWarning:\n",
      "\n",
      "Passing literal json to 'read_json' is deprecated and will be removed in a future version. To read from a literal string, wrap it in a 'StringIO' object.\n",
      "\n",
      "/home/catz0449/VSDP/env/lib/python3.12/site-packages/pandapower/io_utils.py:450: FutureWarning:\n",
      "\n",
      "Passing literal json to 'read_json' is deprecated and will be removed in a future version. To read from a literal string, wrap it in a 'StringIO' object.\n",
      "\n",
      "/home/catz0449/VSDP/env/lib/python3.12/site-packages/pandapower/io_utils.py:450: FutureWarning:\n",
      "\n",
      "Passing literal json to 'read_json' is deprecated and will be removed in a future version. To read from a literal string, wrap it in a 'StringIO' object.\n",
      "\n",
      "/home/catz0449/VSDP/env/lib/python3.12/site-packages/pandapower/io_utils.py:450: FutureWarning:\n",
      "\n",
      "Passing literal json to 'read_json' is deprecated and will be removed in a future version. To read from a literal string, wrap it in a 'StringIO' object.\n",
      "\n",
      "/home/catz0449/VSDP/env/lib/python3.12/site-packages/pandapower/io_utils.py:450: FutureWarning:\n",
      "\n",
      "Passing literal json to 'read_json' is deprecated and will be removed in a future version. To read from a literal string, wrap it in a 'StringIO' object.\n",
      "\n",
      "/home/catz0449/VSDP/env/lib/python3.12/site-packages/pandapower/io_utils.py:450: FutureWarning:\n",
      "\n",
      "Passing literal json to 'read_json' is deprecated and will be removed in a future version. To read from a literal string, wrap it in a 'StringIO' object.\n",
      "\n",
      "/home/catz0449/VSDP/env/lib/python3.12/site-packages/pandapower/io_utils.py:450: FutureWarning:\n",
      "\n",
      "Passing literal json to 'read_json' is deprecated and will be removed in a future version. To read from a literal string, wrap it in a 'StringIO' object.\n",
      "\n",
      "/home/catz0449/VSDP/env/lib/python3.12/site-packages/pandapower/io_utils.py:450: FutureWarning:\n",
      "\n",
      "Passing literal json to 'read_json' is deprecated and will be removed in a future version. To read from a literal string, wrap it in a 'StringIO' object.\n",
      "\n",
      "/home/catz0449/VSDP/env/lib/python3.12/site-packages/pandapower/io_utils.py:450: FutureWarning:\n",
      "\n",
      "Passing literal json to 'read_json' is deprecated and will be removed in a future version. To read from a literal string, wrap it in a 'StringIO' object.\n",
      "\n",
      "/home/catz0449/VSDP/env/lib/python3.12/site-packages/pandapower/io_utils.py:450: FutureWarning:\n",
      "\n",
      "Passing literal json to 'read_json' is deprecated and will be removed in a future version. To read from a literal string, wrap it in a 'StringIO' object.\n",
      "\n",
      "/home/catz0449/VSDP/env/lib/python3.12/site-packages/pandapower/io_utils.py:450: FutureWarning:\n",
      "\n",
      "Passing literal json to 'read_json' is deprecated and will be removed in a future version. To read from a literal string, wrap it in a 'StringIO' object.\n",
      "\n",
      "/home/catz0449/VSDP/env/lib/python3.12/site-packages/pandapower/io_utils.py:450: FutureWarning:\n",
      "\n",
      "Passing literal json to 'read_json' is deprecated and will be removed in a future version. To read from a literal string, wrap it in a 'StringIO' object.\n",
      "\n",
      "/home/catz0449/VSDP/env/lib/python3.12/site-packages/pandapower/io_utils.py:450: FutureWarning:\n",
      "\n",
      "Passing literal json to 'read_json' is deprecated and will be removed in a future version. To read from a literal string, wrap it in a 'StringIO' object.\n",
      "\n",
      "/home/catz0449/VSDP/env/lib/python3.12/site-packages/pandapower/io_utils.py:450: FutureWarning:\n",
      "\n",
      "Passing literal json to 'read_json' is deprecated and will be removed in a future version. To read from a literal string, wrap it in a 'StringIO' object.\n",
      "\n",
      "/home/catz0449/VSDP/env/lib/python3.12/site-packages/pandapower/io_utils.py:450: FutureWarning:\n",
      "\n",
      "Passing literal json to 'read_json' is deprecated and will be removed in a future version. To read from a literal string, wrap it in a 'StringIO' object.\n",
      "\n",
      "/home/catz0449/VSDP/env/lib/python3.12/site-packages/pandapower/io_utils.py:450: FutureWarning:\n",
      "\n",
      "Passing literal json to 'read_json' is deprecated and will be removed in a future version. To read from a literal string, wrap it in a 'StringIO' object.\n",
      "\n",
      "/home/catz0449/VSDP/env/lib/python3.12/site-packages/pandapower/io_utils.py:450: FutureWarning:\n",
      "\n",
      "Passing literal json to 'read_json' is deprecated and will be removed in a future version. To read from a literal string, wrap it in a 'StringIO' object.\n",
      "\n",
      "/home/catz0449/VSDP/env/lib/python3.12/site-packages/pandapower/io_utils.py:450: FutureWarning:\n",
      "\n",
      "Passing literal json to 'read_json' is deprecated and will be removed in a future version. To read from a literal string, wrap it in a 'StringIO' object.\n",
      "\n",
      "/home/catz0449/VSDP/env/lib/python3.12/site-packages/pandapower/io_utils.py:450: FutureWarning:\n",
      "\n",
      "Passing literal json to 'read_json' is deprecated and will be removed in a future version. To read from a literal string, wrap it in a 'StringIO' object.\n",
      "\n",
      "/home/catz0449/VSDP/env/lib/python3.12/site-packages/pandapower/io_utils.py:450: FutureWarning:\n",
      "\n",
      "Passing literal json to 'read_json' is deprecated and will be removed in a future version. To read from a literal string, wrap it in a 'StringIO' object.\n",
      "\n",
      "/home/catz0449/VSDP/env/lib/python3.12/site-packages/pandapower/io_utils.py:450: FutureWarning:\n",
      "\n",
      "Passing literal json to 'read_json' is deprecated and will be removed in a future version. To read from a literal string, wrap it in a 'StringIO' object.\n",
      "\n",
      "/home/catz0449/VSDP/env/lib/python3.12/site-packages/pandapower/io_utils.py:450: FutureWarning:\n",
      "\n",
      "Passing literal json to 'read_json' is deprecated and will be removed in a future version. To read from a literal string, wrap it in a 'StringIO' object.\n",
      "\n",
      "/home/catz0449/VSDP/env/lib/python3.12/site-packages/pandapower/io_utils.py:450: FutureWarning:\n",
      "\n",
      "Passing literal json to 'read_json' is deprecated and will be removed in a future version. To read from a literal string, wrap it in a 'StringIO' object.\n",
      "\n",
      "/home/catz0449/VSDP/env/lib/python3.12/site-packages/pandapower/io_utils.py:450: FutureWarning:\n",
      "\n",
      "Passing literal json to 'read_json' is deprecated and will be removed in a future version. To read from a literal string, wrap it in a 'StringIO' object.\n",
      "\n",
      "/home/catz0449/VSDP/env/lib/python3.12/site-packages/pandapower/io_utils.py:450: FutureWarning:\n",
      "\n",
      "Passing literal json to 'read_json' is deprecated and will be removed in a future version. To read from a literal string, wrap it in a 'StringIO' object.\n",
      "\n",
      "/home/catz0449/VSDP/env/lib/python3.12/site-packages/pandapower/io_utils.py:450: FutureWarning:\n",
      "\n",
      "Passing literal json to 'read_json' is deprecated and will be removed in a future version. To read from a literal string, wrap it in a 'StringIO' object.\n",
      "\n",
      "/home/catz0449/VSDP/env/lib/python3.12/site-packages/pandapower/io_utils.py:450: FutureWarning:\n",
      "\n",
      "Passing literal json to 'read_json' is deprecated and will be removed in a future version. To read from a literal string, wrap it in a 'StringIO' object.\n",
      "\n",
      "/home/catz0449/VSDP/env/lib/python3.12/site-packages/pandapower/io_utils.py:450: FutureWarning:\n",
      "\n",
      "Passing literal json to 'read_json' is deprecated and will be removed in a future version. To read from a literal string, wrap it in a 'StringIO' object.\n",
      "\n",
      "/home/catz0449/VSDP/env/lib/python3.12/site-packages/pandapower/io_utils.py:450: FutureWarning:\n",
      "\n",
      "Passing literal json to 'read_json' is deprecated and will be removed in a future version. To read from a literal string, wrap it in a 'StringIO' object.\n",
      "\n",
      "/home/catz0449/VSDP/env/lib/python3.12/site-packages/pandapower/io_utils.py:450: FutureWarning:\n",
      "\n",
      "Passing literal json to 'read_json' is deprecated and will be removed in a future version. To read from a literal string, wrap it in a 'StringIO' object.\n",
      "\n",
      "/home/catz0449/VSDP/env/lib/python3.12/site-packages/pandapower/io_utils.py:450: FutureWarning:\n",
      "\n",
      "Passing literal json to 'read_json' is deprecated and will be removed in a future version. To read from a literal string, wrap it in a 'StringIO' object.\n",
      "\n",
      "/home/catz0449/VSDP/env/lib/python3.12/site-packages/pandapower/io_utils.py:450: FutureWarning:\n",
      "\n",
      "Passing literal json to 'read_json' is deprecated and will be removed in a future version. To read from a literal string, wrap it in a 'StringIO' object.\n",
      "\n",
      "/home/catz0449/VSDP/env/lib/python3.12/site-packages/pandapower/io_utils.py:450: FutureWarning:\n",
      "\n",
      "Passing literal json to 'read_json' is deprecated and will be removed in a future version. To read from a literal string, wrap it in a 'StringIO' object.\n",
      "\n",
      "/home/catz0449/VSDP/env/lib/python3.12/site-packages/pandapower/io_utils.py:450: FutureWarning:\n",
      "\n",
      "Passing literal json to 'read_json' is deprecated and will be removed in a future version. To read from a literal string, wrap it in a 'StringIO' object.\n",
      "\n",
      "/home/catz0449/VSDP/env/lib/python3.12/site-packages/pandapower/io_utils.py:450: FutureWarning:\n",
      "\n",
      "Passing literal json to 'read_json' is deprecated and will be removed in a future version. To read from a literal string, wrap it in a 'StringIO' object.\n",
      "\n",
      "/home/catz0449/VSDP/env/lib/python3.12/site-packages/pandapower/io_utils.py:450: FutureWarning:\n",
      "\n",
      "Passing literal json to 'read_json' is deprecated and will be removed in a future version. To read from a literal string, wrap it in a 'StringIO' object.\n",
      "\n",
      "/home/catz0449/VSDP/env/lib/python3.12/site-packages/pandapower/io_utils.py:450: FutureWarning:\n",
      "\n",
      "Passing literal json to 'read_json' is deprecated and will be removed in a future version. To read from a literal string, wrap it in a 'StringIO' object.\n",
      "\n",
      "/home/catz0449/VSDP/env/lib/python3.12/site-packages/pandapower/io_utils.py:450: FutureWarning:\n",
      "\n",
      "Passing literal json to 'read_json' is deprecated and will be removed in a future version. To read from a literal string, wrap it in a 'StringIO' object.\n",
      "\n",
      "/home/catz0449/VSDP/env/lib/python3.12/site-packages/pandapower/io_utils.py:450: FutureWarning:\n",
      "\n",
      "Passing literal json to 'read_json' is deprecated and will be removed in a future version. To read from a literal string, wrap it in a 'StringIO' object.\n",
      "\n",
      "/home/catz0449/VSDP/env/lib/python3.12/site-packages/pandapower/io_utils.py:450: FutureWarning:\n",
      "\n",
      "Passing literal json to 'read_json' is deprecated and will be removed in a future version. To read from a literal string, wrap it in a 'StringIO' object.\n",
      "\n",
      "/home/catz0449/VSDP/env/lib/python3.12/site-packages/pandapower/io_utils.py:450: FutureWarning:\n",
      "\n",
      "Passing literal json to 'read_json' is deprecated and will be removed in a future version. To read from a literal string, wrap it in a 'StringIO' object.\n",
      "\n",
      "/home/catz0449/VSDP/env/lib/python3.12/site-packages/pandapower/io_utils.py:450: FutureWarning:\n",
      "\n",
      "Passing literal json to 'read_json' is deprecated and will be removed in a future version. To read from a literal string, wrap it in a 'StringIO' object.\n",
      "\n",
      "/home/catz0449/VSDP/env/lib/python3.12/site-packages/pandapower/io_utils.py:450: FutureWarning:\n",
      "\n",
      "Passing literal json to 'read_json' is deprecated and will be removed in a future version. To read from a literal string, wrap it in a 'StringIO' object.\n",
      "\n",
      "/home/catz0449/VSDP/env/lib/python3.12/site-packages/pandapower/io_utils.py:450: FutureWarning:\n",
      "\n",
      "Passing literal json to 'read_json' is deprecated and will be removed in a future version. To read from a literal string, wrap it in a 'StringIO' object.\n",
      "\n",
      "/home/catz0449/VSDP/env/lib/python3.12/site-packages/pandapower/io_utils.py:450: FutureWarning:\n",
      "\n",
      "Passing literal json to 'read_json' is deprecated and will be removed in a future version. To read from a literal string, wrap it in a 'StringIO' object.\n",
      "\n",
      "/home/catz0449/VSDP/env/lib/python3.12/site-packages/pandapower/io_utils.py:450: FutureWarning:\n",
      "\n",
      "Passing literal json to 'read_json' is deprecated and will be removed in a future version. To read from a literal string, wrap it in a 'StringIO' object.\n",
      "\n",
      "/home/catz0449/VSDP/env/lib/python3.12/site-packages/pandapower/io_utils.py:450: FutureWarning:\n",
      "\n",
      "Passing literal json to 'read_json' is deprecated and will be removed in a future version. To read from a literal string, wrap it in a 'StringIO' object.\n",
      "\n",
      "/home/catz0449/VSDP/env/lib/python3.12/site-packages/pandapower/io_utils.py:450: FutureWarning:\n",
      "\n",
      "Passing literal json to 'read_json' is deprecated and will be removed in a future version. To read from a literal string, wrap it in a 'StringIO' object.\n",
      "\n",
      "/home/catz0449/VSDP/env/lib/python3.12/site-packages/pandapower/io_utils.py:450: FutureWarning:\n",
      "\n",
      "Passing literal json to 'read_json' is deprecated and will be removed in a future version. To read from a literal string, wrap it in a 'StringIO' object.\n",
      "\n",
      "/home/catz0449/VSDP/env/lib/python3.12/site-packages/pandapower/io_utils.py:450: FutureWarning:\n",
      "\n",
      "Passing literal json to 'read_json' is deprecated and will be removed in a future version. To read from a literal string, wrap it in a 'StringIO' object.\n",
      "\n",
      "/home/catz0449/VSDP/env/lib/python3.12/site-packages/pandapower/io_utils.py:450: FutureWarning:\n",
      "\n",
      "Passing literal json to 'read_json' is deprecated and will be removed in a future version. To read from a literal string, wrap it in a 'StringIO' object.\n",
      "\n",
      "/home/catz0449/VSDP/env/lib/python3.12/site-packages/pandapower/io_utils.py:450: FutureWarning:\n",
      "\n",
      "Passing literal json to 'read_json' is deprecated and will be removed in a future version. To read from a literal string, wrap it in a 'StringIO' object.\n",
      "\n",
      "/home/catz0449/VSDP/env/lib/python3.12/site-packages/pandapower/io_utils.py:450: FutureWarning:\n",
      "\n",
      "Passing literal json to 'read_json' is deprecated and will be removed in a future version. To read from a literal string, wrap it in a 'StringIO' object.\n",
      "\n",
      "/home/catz0449/VSDP/env/lib/python3.12/site-packages/pandapower/io_utils.py:450: FutureWarning:\n",
      "\n",
      "Passing literal json to 'read_json' is deprecated and will be removed in a future version. To read from a literal string, wrap it in a 'StringIO' object.\n",
      "\n",
      "/home/catz0449/VSDP/env/lib/python3.12/site-packages/pandapower/io_utils.py:450: FutureWarning:\n",
      "\n",
      "Passing literal json to 'read_json' is deprecated and will be removed in a future version. To read from a literal string, wrap it in a 'StringIO' object.\n",
      "\n",
      "/home/catz0449/VSDP/env/lib/python3.12/site-packages/pandapower/io_utils.py:450: FutureWarning:\n",
      "\n",
      "Passing literal json to 'read_json' is deprecated and will be removed in a future version. To read from a literal string, wrap it in a 'StringIO' object.\n",
      "\n",
      "/home/catz0449/VSDP/env/lib/python3.12/site-packages/pandapower/io_utils.py:450: FutureWarning:\n",
      "\n",
      "Passing literal json to 'read_json' is deprecated and will be removed in a future version. To read from a literal string, wrap it in a 'StringIO' object.\n",
      "\n",
      "/home/catz0449/VSDP/env/lib/python3.12/site-packages/pandapower/io_utils.py:450: FutureWarning:\n",
      "\n",
      "Passing literal json to 'read_json' is deprecated and will be removed in a future version. To read from a literal string, wrap it in a 'StringIO' object.\n",
      "\n",
      "/home/catz0449/VSDP/env/lib/python3.12/site-packages/pandapower/io_utils.py:450: FutureWarning:\n",
      "\n",
      "Passing literal json to 'read_json' is deprecated and will be removed in a future version. To read from a literal string, wrap it in a 'StringIO' object.\n",
      "\n",
      "numba cannot be imported and numba functions are disabled.\n",
      "Probably the execution is slow.\n",
      "Please install numba to gain a massive speedup.\n",
      "(or if you prefer slow execution, set the flag numba=False to avoid this warning!)\n",
      "\n"
     ]
    }
   ],
   "source": [
    "# Load the chosen IEEE test case\n",
    "case_number = 14 # Change to 30, 57, or 118 for larger cases\n",
    "net = load_network(case_number)\n",
    "\n",
    "pp.runpp(net)  # Run power flow to initialize values"
   ]
  },
  {
   "cell_type": "markdown",
   "metadata": {},
   "source": [
    "When a power flow is carried out, the element based grid model is translated into a bus-branch model. That bus-branch model is stored in a data structure that is based on the PYPOWER/MATPOWER casefile (with some extensions). This ppc can be accessed after power flow using net._ppc\n",
    "We will get the bus admittance matrix using exactly that and extract all the parameters we need."
   ]
  },
  {
   "cell_type": "code",
   "execution_count": 93,
   "metadata": {},
   "outputs": [
    {
     "name": "stdout",
     "output_type": "stream",
     "text": [
      "The number of generators matches the number of cost coefficients\n"
     ]
    }
   ],
   "source": [
    "\n",
    "#make sure all units are consistent (convert everything to per unit)\n",
    "Sbase = net.sn_mva # unit value for power MVA\n",
    "Vbase = 135 # unit value for voltage kV\n",
    "Zbase = Vbase**2 / Sbase # base impedance in Ohms\n",
    "Ybase = 1 / Zbase # base admittance in S\n",
    "\n",
    "#Now, we extract network parameters\n",
    "Ybus = net._ppc[\"internal\"][\"Ybus\"].todense() # Bus admittance matrix (Already in per unit. We need todense since the matrices are stored as sparcse matrices, but dense are easier to work with)\n",
    "n = len(net.bus)  # Number of buses\n",
    "# slack_bus = net.gen.bus.values[0]  # Index of the slack bus\n",
    "branch = net.line  # Get each transmission line's specification for line constraints\n",
    "#we need to add line flow constraints\n",
    "\n",
    "# Extract generator information for generation constraints\n",
    "gen_buses = net.gen[\"bus\"].values #index of the generators.\n",
    "min_p_mw = net.gen[\"min_p_mw\"].values #minimal real power\n",
    "max_p_mw = net.gen[\"max_p_mw\"].values\n",
    "min_q_mw = net.gen[\"min_q_mvar\"].values #minimal reactive power\n",
    "max_q_mw = net.gen[\"max_q_mvar\"].values\n",
    "\n",
    "# Extract load buses for generation constraints\n",
    "load_buses = net.load[\"bus\"].values #index of the load buses.\n",
    "#load active and reactive power for load\n",
    "p_load = np.zeros(n)\n",
    "q_load = np.zeros(n)\n",
    "for i,row in net.load.iterrows():\n",
    "    p_load[row['bus']] = -row['p_mw'] #negative sign because pandapower defines load as positive, but we need it as negative for consumption\n",
    "    q_load[row['bus']] = -row['q_mvar']\n",
    "\n",
    "# Voltage limits\n",
    "min_v_pu = net.bus[\"min_vm_pu\"].values ** 2  # Squared for SDP\n",
    "max_v_pu = net.bus[\"max_vm_pu\"].values ** 2\n",
    "\n",
    "# Slack bus voltage\n",
    "vm_slack = net.ext_grid['vm_pu'][0] #initial voltage of the slack\n",
    "\n",
    "# Extract generator cost coefficients from net.poly_cost\n",
    "cost = net.poly_cost.drop([0])\n",
    "c2 = cost[\"cp2_eur_per_mw2\"].values   # Quadratic cost coefficients\n",
    "c1 = cost[\"cp1_eur_per_mw\"].values   # Linear cost coefficients\n",
    "c0 = cost[\"cp0_eur\"].values         # Constant cost coefficients\n",
    "\n",
    "# Ensure the cost coefficients have the correct size\n",
    "if len(c2) != len(gen_buses):\n",
    "    print(\"The number of generators does not match the number of cost coefficients\")\n",
    "elif len(c1) != len(gen_buses):\n",
    "    print(\"The number of generators does not match the number of cost coefficients\")\n",
    "elif len(c0) != len(gen_buses):\n",
    "    print(\"The number of generators does not match the number of cost coefficients\")\n",
    "else:\n",
    "    print(\"The number of generators matches the number of cost coefficients\")\n",
    "\n",
    "\n",
    "# # Make the cost matrix\n",
    "# C = np.zeros((n, n))\n",
    "# for i, gen_bus in enumerate(gen_buses):\n",
    "#     C[gen_bus, gen_bus] = c2[i]\n",
    "\n",
    "# # Print the cost matrix\n",
    "# np.set_printoptions(precision=10, suppress=True)\n",
    "# print(C)"
   ]
  },
  {
   "cell_type": "markdown",
   "metadata": {},
   "source": [
    "### Define Variables and the objective function\n",
    "\n",
    "The objective function of standard Optimal Power Flow (OPF) problem is:\n",
    "$$\\min \\space \\sum_{j \\in G} f_j(P_{j})$$\n",
    "where $f_j(P_{j})$ is the cost function of choice. Traditionally, the following cost function has been used:\n",
    "$$\\min \\space \\sum_{j \\in G}( c_{j2}P_j^2 + c_{j1}P_j + c_{jo})$$\n",
    "For each bus $j$ in the grid $G$:\n",
    "$P_j = power \\space generation, \\space c_{j2} = quadratic \\space cost \\space  coefficient, \\space c_{j1} = linear \\space cost \\space  coefficient, \\space c_{j0} = constant \\space cost.$\n",
    "\n",
    "The objective function is then subjected to a set of constraints.\n",
    "\n",
    "Semidefinite Programming (SDP) is one of the conic form problems, which all have a linear objective function and convex inequality/equality constraints (that could be quadratic). SDP in particular tackles the cone of positive semidefinite n x n matrices, W. The SDP Standard Form objective function is as follows:\n",
    "\n",
    "$$min \\space \\space tr(CW)$$\n",
    "subjected to $W \\succcurlyeq 0$ and other linear constraints, which are\n",
    "\n",
    "**Semidefinite positivity**\n",
    "$$W\\succcurlyeq 0$$\n",
    "\n",
    "**Active Power Flow**\n",
    "$$p_{min, j} \\le tr (\\Phi_jW_B) \\le p_{max, j}$$\n",
    "where $\\Phi_j = \\frac{1}{2}(Y^H_j + Y_j)$\n",
    "\n",
    "**Reactive Power Flow**\n",
    "$$q_{min, j} \\le tr (\\Psi_jW_B) \\le q_{max, j}$$\n",
    "where $\\Psi_j = \\frac{1}{2i}(Y^H_j + Y_j)$\n",
    "\n",
    "**Voltage Magnitude Constraints**\n",
    "$$v_{min, j} \\le tr (J_jW_B) \\le v_{max, j}$$\n",
    "where J is the Hermitian matrix with a single 1 in the (j,j)th entry and zero everywhere else.\n",
    "\n",
    "To transform the quadratic objective function into SDP, we can do the following:\n",
    "\n",
    "#### Attempt 1\n",
    "\n",
    "Let $$C_j := \\begin{bmatrix}c_{j2} & c_{j1}/2 \\\\c_{j1}/2 & c_{j0}\\end{bmatrix},\\space X_j := \\begin{bmatrix}a_j & P_j \\\\P_j & 1\\end{bmatrix}$$\n",
    "where $a_j$ is a new variable meant to represent $P_j^2$. Instead of enforcing an equality, we will relax it into a matrix inequality. We add the following constraint:\n",
    "$$\\begin{bmatrix}a_j & P_j \\\\P_j & 1\\end{bmatrix} \\succcurlyeq 0 $$\n",
    "By Schur’s complement condition, the constraint above is equivalent to\n",
    "$$P^2_j \\le a_j$$\n",
    "As we optimize, the solver will push the above inequality toward equality. Now, we can formulate the objective function as:\n",
    "$$min \\space \\sum_{j \\in G} tr(C_jX_j) $$\n",
    "which is equivalent to $$\\min \\space \\sum_{j \\in G}( c_{j2}P_j^2 + c_{j1}P_j + c_{jo})$$"
   ]
  },
  {
   "cell_type": "code",
   "execution_count": 94,
   "metadata": {},
   "outputs": [],
   "source": [
    "# Define an arbitrary n x n Hermitian W (Directly enforcing W= V V^+ will require X to be rank-1, which is too strict. We use the power balance, PSD and voltage constraints to guide this arbitrary X to X = VV^+)\n",
    "W = cp.Variable((n, n), hermitian=True)\n",
    "\n",
    "# Define phi and psi matrices for each bus as the constraints\n",
    "Phi = [] # Hermitian part of Y_j\n",
    "Psi = [] # Skewed Hermitian part of Y_j\n",
    "J = [] # Hermitian matrix with a single 1 in the (j,j)th entry and zero everywhere else.\n",
    "for j in range(n):\n",
    "    Y_j = np.zeros_like(Ybus,dtype=complex) #Y_j is the admittance matrix with only the j-th row, everything else is zero\n",
    "    Y_j[j,:] = Ybus[j,:]\n",
    "    Y_j_H = np.conj(Y_j).T #Hermitian of Y_j\n",
    "    \n",
    "    J_j= np.zeros_like(Ybus,dtype=complex)\n",
    "    J_j[j,j] = 1\n",
    "\n",
    "    Phi_j = 1/2 * (Y_j_H + Y_j) \n",
    "    Psi_j = 1/(2j) * (Y_j_H - Y_j)\n",
    "\n",
    "    Phi.append(Phi_j) \n",
    "    Psi.append(Psi_j)\n",
    "    J.append(J_j)\n",
    "\n",
    "# Objective Function Formulation in Standard SDP Form\n",
    "################################################################################\n",
    "# # Attempt 0 (Objective function in polynomial form)\n",
    "\n",
    "\n",
    "# Define the objective function, which is the sum of the costs of all generators\n",
    "objective_terms = cp.sum([\n",
    "    c2[i] * (cp.real(cp.trace(Phi[gen_buses[i]] @ W))*Sbase)**2 + \n",
    "    c1[i] * cp.real(cp.trace(Phi[gen_buses[i]] @ W))*Sbase for i in range(len(gen_buses))])\n",
    "objective = cp.Minimize(objective_terms)\n",
    "\n",
    "# ############################################################################\n",
    "\n",
    "# # Attempt 1\n",
    "# # Initialize \n",
    "# C = []\n",
    "# X = []\n",
    "\n",
    "# for i in range(len(gen_buses)):\n",
    "#     # Real power generation at generator i\n",
    "#     P_j = cp.real(cp.trace(Phi[gen_buses[i]] @ W)) * Sbase\n",
    "#     # We want a = P^2, and we will add a psd constraint later to make it happen\n",
    "#     a = cp.Variable()\n",
    "\n",
    "#     # Define the cost matrix for generator i\n",
    "#     C_i = cp.Constant(np.array([[c2[i], c1[i]/2], [c1[i]/2, c0[i]]]))\n",
    "#     C.append(C_i)\n",
    "\n",
    "#     # Define the variable matrix for generator i\n",
    "#     X_i = cp.vstack([\n",
    "#         cp.hstack([a, P_j]),\n",
    "#         cp.hstack([P_j, 1])\n",
    "#     ])\n",
    "#     X.append(X_i)\n",
    "\n",
    "# objective_terms = cp.sum([\n",
    "#     cp.trace(C[i] @ X[i]) for i in range(len(gen_buses))\n",
    "# ])\n",
    "\n",
    "# objective = cp.Minimize(objective_terms)\n",
    "\n",
    "\n",
    "\n",
    "##############################################################################\n",
    "\n",
    "# Constraints\n",
    "constraints = []\n",
    "\n",
    "for j in range(n):\n",
    "    if j == 0:\n",
    "        # For the slack bus, we fix the voltage magnitude\n",
    "        constraints.append(cp.abs(cp.real(cp.trace(J[j] @ W))-(vm_slack)**2) <= 1e-5)\n",
    "    else:\n",
    "\n",
    "        # Voltage magnitude constraints\n",
    "        constraints.append(min_v_pu[j]<=cp.real(cp.trace(J[j] @ W)))\n",
    "        constraints.append(cp.real(cp.trace(J[j] @ W))<=max_v_pu[j])\n",
    "    \n",
    "    # #Change of variables\n",
    "    # constraints.append(a[j] == cp.real(cp.trace(Phi[j] @ W)))*Sbase\n",
    "\n",
    "    # Power balance equations (real and reactive)\n",
    "    Pin_j = cp.trace(Phi[j]@W)*Sbase\n",
    "    Qin_j = cp.trace(Psi[j]@W)*Sbase\n",
    "\n",
    "    # If bus is a generator bus, enforce generation limits\n",
    "    if j in gen_buses:\n",
    "        idx = np.where(gen_buses == j)[0][0]  # Get generator index\n",
    "        constraints.append(min_p_mw[idx] <= cp.real(Pin_j))\n",
    "        constraints.append(cp.real(Pin_j) <= max_p_mw[idx])\n",
    "        constraints.append(min_q_mw[idx] <= cp.real(Qin_j))\n",
    "        constraints.append(cp.real(Qin_j) <= max_q_mw[idx])\n",
    "        # #add psd constraint to make a = P^2\n",
    "        # constraints.append(X[idx] >> 0)\n",
    "        #  # For generator buses, enforce power balance constraints\n",
    "        # constraints.append(cp.real(Pin_j) == p_load[j])\n",
    "        # constraints.append(cp.real(Qin_j) == q_load[j])\n",
    "    else:\n",
    "        # For non-generator buses, enforce power balance constraints\n",
    "        constraints.append(cp.real(Pin_j) == p_load[j])\n",
    "        constraints.append(cp.real(Qin_j) == q_load[j])\n",
    "\n",
    "# Positive semidefinite constraint\n",
    "constraints.append(W >> 0)"
   ]
  },
  {
   "cell_type": "markdown",
   "metadata": {},
   "source": [
    "### Extract the SDP Standard form"
   ]
  },
  {
   "cell_type": "code",
   "execution_count": 95,
   "metadata": {},
   "outputs": [],
   "source": [
    "# Solve the SDP\n",
    "prob = cp.Problem(objective, constraints)\n",
    "data,chain,inverse = prob.get_problem_data(cp.MOSEK)\n",
    "A = data[\"A\"]\n",
    "b = data[\"b\"]\n",
    "C = data[\"c\"]"
   ]
  },
  {
   "cell_type": "code",
   "execution_count": 96,
   "metadata": {},
   "outputs": [
    {
     "data": {
      "text/plain": [
       "(201, 77)"
      ]
     },
     "execution_count": 96,
     "metadata": {},
     "output_type": "execute_result"
    }
   ],
   "source": [
    "A.shape"
   ]
  },
  {
   "cell_type": "code",
   "execution_count": 97,
   "metadata": {},
   "outputs": [
    {
     "data": {
      "text/plain": [
       "(201,)"
      ]
     },
     "execution_count": 97,
     "metadata": {},
     "output_type": "execute_result"
    }
   ],
   "source": [
    "b.shape"
   ]
  },
  {
   "cell_type": "code",
   "execution_count": 98,
   "metadata": {},
   "outputs": [
    {
     "data": {
      "text/plain": [
       "(77,)"
      ]
     },
     "execution_count": 98,
     "metadata": {},
     "output_type": "execute_result"
    }
   ],
   "source": [
    "C.shape"
   ]
  },
  {
   "cell_type": "code",
   "execution_count": 99,
   "metadata": {},
   "outputs": [
    {
     "data": {
      "text/html": [
       "<div>\n",
       "<style scoped>\n",
       "    .dataframe tbody tr th:only-of-type {\n",
       "        vertical-align: middle;\n",
       "    }\n",
       "\n",
       "    .dataframe tbody tr th {\n",
       "        vertical-align: top;\n",
       "    }\n",
       "\n",
       "    .dataframe thead th {\n",
       "        text-align: right;\n",
       "    }\n",
       "</style>\n",
       "<table border=\"1\" class=\"dataframe\">\n",
       "  <thead>\n",
       "    <tr style=\"text-align: right;\">\n",
       "      <th></th>\n",
       "      <th>element</th>\n",
       "      <th>et</th>\n",
       "      <th>cp0_eur</th>\n",
       "      <th>cp1_eur_per_mw</th>\n",
       "      <th>cp2_eur_per_mw2</th>\n",
       "      <th>cq0_eur</th>\n",
       "      <th>cq1_eur_per_mvar</th>\n",
       "      <th>cq2_eur_per_mvar2</th>\n",
       "    </tr>\n",
       "  </thead>\n",
       "  <tbody>\n",
       "    <tr>\n",
       "      <th>0</th>\n",
       "      <td>0</td>\n",
       "      <td>ext_grid</td>\n",
       "      <td>0.0</td>\n",
       "      <td>20.0</td>\n",
       "      <td>0.043029</td>\n",
       "      <td>0.0</td>\n",
       "      <td>0.0</td>\n",
       "      <td>0.0</td>\n",
       "    </tr>\n",
       "    <tr>\n",
       "      <th>1</th>\n",
       "      <td>0</td>\n",
       "      <td>gen</td>\n",
       "      <td>0.0</td>\n",
       "      <td>20.0</td>\n",
       "      <td>0.250000</td>\n",
       "      <td>0.0</td>\n",
       "      <td>0.0</td>\n",
       "      <td>0.0</td>\n",
       "    </tr>\n",
       "    <tr>\n",
       "      <th>2</th>\n",
       "      <td>1</td>\n",
       "      <td>gen</td>\n",
       "      <td>0.0</td>\n",
       "      <td>40.0</td>\n",
       "      <td>0.010000</td>\n",
       "      <td>0.0</td>\n",
       "      <td>0.0</td>\n",
       "      <td>0.0</td>\n",
       "    </tr>\n",
       "    <tr>\n",
       "      <th>3</th>\n",
       "      <td>2</td>\n",
       "      <td>gen</td>\n",
       "      <td>0.0</td>\n",
       "      <td>40.0</td>\n",
       "      <td>0.010000</td>\n",
       "      <td>0.0</td>\n",
       "      <td>0.0</td>\n",
       "      <td>0.0</td>\n",
       "    </tr>\n",
       "    <tr>\n",
       "      <th>4</th>\n",
       "      <td>3</td>\n",
       "      <td>gen</td>\n",
       "      <td>0.0</td>\n",
       "      <td>40.0</td>\n",
       "      <td>0.010000</td>\n",
       "      <td>0.0</td>\n",
       "      <td>0.0</td>\n",
       "      <td>0.0</td>\n",
       "    </tr>\n",
       "  </tbody>\n",
       "</table>\n",
       "</div>"
      ],
      "text/plain": [
       "   element        et  cp0_eur  cp1_eur_per_mw  cp2_eur_per_mw2  cq0_eur  \\\n",
       "0        0  ext_grid      0.0            20.0         0.043029      0.0   \n",
       "1        0       gen      0.0            20.0         0.250000      0.0   \n",
       "2        1       gen      0.0            40.0         0.010000      0.0   \n",
       "3        2       gen      0.0            40.0         0.010000      0.0   \n",
       "4        3       gen      0.0            40.0         0.010000      0.0   \n",
       "\n",
       "   cq1_eur_per_mvar  cq2_eur_per_mvar2  \n",
       "0               0.0                0.0  \n",
       "1               0.0                0.0  \n",
       "2               0.0                0.0  \n",
       "3               0.0                0.0  \n",
       "4               0.0                0.0  "
      ]
     },
     "execution_count": 99,
     "metadata": {},
     "output_type": "execute_result"
    }
   ],
   "source": [
    "net.poly_cost"
   ]
  },
  {
   "cell_type": "code",
   "execution_count": 100,
   "metadata": {},
   "outputs": [
    {
     "data": {
      "text/plain": [
       "array([-0.0000e+00, -0.0000e+00,  4.7800e+01, -3.9000e+00,  7.6000e+00,\n",
       "        1.6000e+00, -0.0000e+00, -0.0000e+00,  2.9500e+01,  1.6600e+01,\n",
       "        9.0000e+00,  5.8000e+00,  3.5000e+00,  1.8000e+00,  6.1000e+00,\n",
       "        1.6000e+00,  1.3500e+01,  5.8000e+00,  1.4900e+01,  5.0000e+00,\n",
       "       -1.1236e+00,  1.1236e+00, -1.0000e-05,  8.8360e-01, -1.1236e+00,\n",
       "       -0.0000e+00, -1.4000e+02, -4.0000e+01, -5.0000e+01,  8.8360e-01,\n",
       "       -1.1236e+00, -0.0000e+00, -1.0000e+02, -0.0000e+00, -4.0000e+01,\n",
       "        8.8360e-01, -1.1236e+00,  8.8360e-01, -1.1236e+00,  8.8360e-01,\n",
       "       -1.1236e+00, -0.0000e+00, -1.0000e+02, -6.0000e+00, -2.4000e+01,\n",
       "        8.8360e-01, -1.1236e+00,  8.8360e-01, -1.1236e+00, -0.0000e+00,\n",
       "       -1.0000e+02, -6.0000e+00, -2.4000e+01,  8.8360e-01, -1.1236e+00,\n",
       "        8.8360e-01, -1.1236e+00,  8.8360e-01, -1.1236e+00,  8.8360e-01,\n",
       "       -1.1236e+00,  8.8360e-01, -1.1236e+00,  8.8360e-01, -1.1236e+00,\n",
       "       -1.0000e+00,  1.0000e+00, -0.0000e+00, -1.0000e+00,  1.0000e+00,\n",
       "       -0.0000e+00, -1.0000e+00,  1.0000e+00, -0.0000e+00, -1.0000e+00,\n",
       "        1.0000e+00, -0.0000e+00])"
      ]
     },
     "execution_count": 100,
     "metadata": {},
     "output_type": "execute_result"
    }
   ],
   "source": [
    "C"
   ]
  },
  {
   "cell_type": "markdown",
   "metadata": {},
   "source": [
    "### Solve using cvxpy's SDP solver"
   ]
  },
  {
   "cell_type": "code",
   "execution_count": 67,
   "metadata": {},
   "outputs": [
    {
     "name": "stdout",
     "output_type": "stream",
     "text": [
      "p min (MW): [0. 0. 0. 0. 0.]\n",
      "p max:(MW) [80. 50. 55. 30. 40.]\n",
      "q min (MW): [-20. -15. -15. -10. -15.]\n",
      "q max (MW): [60.  62.5 48.7 40.  44.7]\n",
      "Problem Status: optimal\n",
      "Optimal cost EUR: 521.7973659160489\n",
      "Real power generation in MW (SDP OPF): [62.429674679350235, 24.347193638642437, 40.14556131897233, 19.18566385942221, 20.565476047717382]\n",
      "Reactive power generation in MW (SDP OPF): [4.440892098500626e-14, -4.440892098500626e-14, 5.551115123125783e-15, -1.1102230246251565e-14, 0.0]\n",
      "Voltage magnitudes in pu(SDP OPF): [1.0000044873966931, 1.0011893884240863, 0.9932557161968512, 0.9922711141611261, 0.9898560369475276, 0.9868109275444564, 0.9786311873519484, 0.9751921788744145, 0.9986635437644018, 1.0049109256532396, 0.9986633480932687, 1.0235615059778995, 1.0712982955001122, 1.0128663774764581, 1.015940600942214, 1.0085137413506415, 1.0007444097725855, 0.9993948633935172, 0.9931789550367581, 0.9952205015135047, 1.0128110663801504, 1.0190962438937279, 1.033766402653044, 1.0176073279784499, 1.0305593800987563, 1.013271520028019, 1.047023361922788, 0.9929405422061711, 1.0276339179175207, 1.0164978645822231]\n"
     ]
    }
   ],
   "source": [
    "# Solve the SDP\n",
    "prob = cp.Problem(objective, constraints)\n",
    "prob.solve(solver=cp.MOSEK)\n",
    "\n",
    "# Print constraints\n",
    "print(\"p min (MW):\", min_p_mw)\n",
    "print(\"p max:(MW)\", max_p_mw)\n",
    "print(\"q min (MW):\", min_q_mw)\n",
    "print(\"q max (MW):\", max_q_mw)\n",
    "\n",
    "# Print results\n",
    "print(\"Problem Status:\", prob.status)\n",
    "print(\"Optimal cost EUR:\", prob.value)\n",
    "P_g_sdp = [cp.real(cp.trace(Phi[j] @ W)).value * Sbase for j in gen_buses]\n",
    "print(\"Real power generation in MW (SDP OPF):\", P_g_sdp)\n",
    "Q_g_sdp = [cp.imag(cp.trace(Psi[j] @ W)).value * Sbase for j in gen_buses]\n",
    "print(\"Reactive power generation in MW (SDP OPF):\", Q_g_sdp)\n",
    "V_sdp = [np.sqrt(cp.real(W[j, j]).value) for j in range(n)]\n",
    "print(\"Voltage magnitudes in pu(SDP OPF):\", V_sdp)"
   ]
  },
  {
   "cell_type": "markdown",
   "metadata": {},
   "source": [
    "### Check whether the solution is physically feasible\n",
    "The semidefinite relaxation makes OPF convex, but also opens the door to:\n",
    "\n",
    "1. Inexact solutions (i.e., WW is not rank-1)\n",
    "\n",
    "2. Unrealistically cheap solutions that cannot occur in real networks.\n",
    "\n",
    "Let's check our solution."
   ]
  },
  {
   "cell_type": "code",
   "execution_count": 68,
   "metadata": {},
   "outputs": [
    {
     "name": "stdout",
     "output_type": "stream",
     "text": [
      "Rank of W: 3\n"
     ]
    }
   ],
   "source": [
    "#Check the rank of W\n",
    "eigvals = np.linalg.eigvalsh(W.value)\n",
    "rank_W = np.sum(eigvals > 1e-6)  # numerical rank threshold\n",
    "print(\"Rank of W:\", rank_W)\n",
    "\n",
    "# Check if the solution is feasible\n",
    "for i in range(len(P_g_sdp)):\n",
    "    if P_g_sdp[i] < min_p_mw[i]:\n",
    "        print(f\"Generation at bus {i} is below the minimum limit.\")\n",
    "    elif i > max_p_mw[i]:\n",
    "        print(f\"Generation at bus {i} is above the maximum limit.\")\n",
    "\n",
    "# Check if the voltage magnitudes are within limits\n",
    "for i in range(n):\n",
    "    if V_sdp[i]**2 < min_v_pu[i]:\n",
    "        print(f\"Voltage at bus {i} is below the minimum limit.\")\n",
    "    elif V_sdp[i]**2 > max_v_pu[i]:\n",
    "        print(f\"Voltage at bus {i} is above the maximum limit.\")\n",
    "\n",
    "# Check if the power balance equations are satisfied\n",
    "for j in range(n):\n",
    "    Pin_j = cp.trace(Phi[j] @ W).value * Sbase\n",
    "    Qin_j = cp.trace(Psi[j] @ W).value * Sbase\n",
    "    if j in gen_buses:\n",
    "        idx = np.where(gen_buses == j)[0][0]  # Get generator index\n",
    "        if Pin_j < min_p_mw[idx]:\n",
    "            print(f\"Power balance at bus {j} is below the minimum limit.\")\n",
    "        elif Pin_j > max_p_mw[idx]:\n",
    "            print(f\"Power balance at bus {j} is above the maximum limit.\")\n",
    "    # If bus is a load bus, check if the power balance is approximately equal to the load\n",
    "    elif abs(Pin_j - p_load[j]) > 1e-5:\n",
    "            print(f\"Power balance at bus {j} does not match load.\")\n",
    "\n"
   ]
  },
  {
   "cell_type": "markdown",
   "metadata": {},
   "source": [
    "### Benchmark using Classical OPF"
   ]
  },
  {
   "cell_type": "code",
   "execution_count": 69,
   "metadata": {},
   "outputs": [
    {
     "name": "stderr",
     "output_type": "stream",
     "text": [
      "/home/catz0449/VSDP/env/lib/python3.12/site-packages/pandapower/opf/validate_opf_input.py:25: FutureWarning:\n",
      "\n",
      "A value is trying to be set on a copy of a DataFrame or Series through chained assignment using an inplace method.\n",
      "The behavior will change in pandas 3.0. This inplace method will never work because the intermediate object on which we are setting values always behaves as a copy.\n",
      "\n",
      "For example, when doing 'df[col].method(value, inplace=True)', try using 'df.method({col: value}, inplace=True)' or df[col] = df[col].method(value) instead, to perform the operation inplace on the original object.\n",
      "\n",
      "\n",
      "\n",
      "/home/catz0449/VSDP/env/lib/python3.12/site-packages/pandapower/opf/validate_opf_input.py:27: FutureWarning:\n",
      "\n",
      "A value is trying to be set on a copy of a DataFrame or Series through chained assignment using an inplace method.\n",
      "The behavior will change in pandas 3.0. This inplace method will never work because the intermediate object on which we are setting values always behaves as a copy.\n",
      "\n",
      "For example, when doing 'df[col].method(value, inplace=True)', try using 'df.method({col: value}, inplace=True)' or df[col] = df[col].method(value) instead, to perform the operation inplace on the original object.\n",
      "\n",
      "\n",
      "\n",
      "numba cannot be imported and numba functions are disabled.\n",
      "Probably the execution is slow.\n",
      "Please install numba to gain a massive speedup.\n",
      "(or if you prefer slow execution, set the flag numba=False to avoid this warning!)\n",
      "\n"
     ]
    },
    {
     "name": "stdout",
     "output_type": "stream",
     "text": [
      "OPF Cost ($/hr): 578.4862507022582\n",
      "OPF Real power generation (OPF): [53.10279966 22.38203875 46.4594637  15.47333765 15.12519388]\n",
      "OPF Reactive power generation (OPF): [18.17712456 35.6965612  22.60850002  4.75335096 43.04771569]\n",
      "OPF Voltage magnitudes (OPF): [1.         1.00402921 0.99910465 0.9995257  0.9954852  0.99513126\n",
      " 0.98594871 0.9839162  1.01273107 1.02204162 1.01273107 1.04434185\n",
      " 1.09900316 1.03199149 1.03300468 1.02792726 1.01866522 1.01679932\n",
      " 1.01065076 1.01261297 1.0306383  1.0370315  1.04310118 1.033041\n",
      " 1.04999972 1.03304373 1.06895111 1.00302352 1.04999931 1.03911281]\n"
     ]
    }
   ],
   "source": [
    "pp.runopp(net)\n",
    "\n",
    "#Print results\n",
    "opf_cost = net.res_cost\n",
    "print(\"OPF Cost ($/hr):\", opf_cost)\n",
    "P_g_opf = net.res_gen[\"p_mw\"].values\n",
    "print(\"OPF Real power generation (OPF):\", P_g_opf)\n",
    "Q_g_opf = net.res_gen[\"q_mvar\"].values\n",
    "print(\"OPF Reactive power generation (OPF):\", Q_g_opf)\n",
    "V_opf = net.res_bus[\"vm_pu\"].values\n",
    "print(\"OPF Voltage magnitudes (OPF):\", V_opf)"
   ]
  },
  {
   "cell_type": "markdown",
   "metadata": {},
   "source": [
    "### Comparison"
   ]
  },
  {
   "cell_type": "code",
   "execution_count": 70,
   "metadata": {},
   "outputs": [
    {
     "name": "stdout",
     "output_type": "stream",
     "text": [
      "SDP OPF Optimal cost (EUR): 521.7973659160489\n",
      "OPF Cost (EUR): 503.28303811096464\n"
     ]
    }
   ],
   "source": [
    "print(\"SDP OPF Optimal cost (EUR):\", prob.value)\n",
    "print(\"OPF Cost (EUR):\", opf_cost*0.87)"
   ]
  },
  {
   "cell_type": "code",
   "execution_count": 71,
   "metadata": {},
   "outputs": [
    {
     "data": {
      "application/vnd.plotly.v1+json": {
       "config": {
        "plotlyServerURL": "https://plot.ly"
       },
       "data": [
        {
         "mode": "markers+lines",
         "name": "SDP OPF Gen (MW)",
         "type": "scatter",
         "x": {
          "bdata": "AQAAABUAAAAaAAAAFgAAAAwAAAA=",
          "dtype": "u4"
         },
         "y": [
          62.429674679350235,
          24.347193638642437,
          40.14556131897233,
          19.18566385942221,
          20.565476047717382
         ]
        },
        {
         "mode": "markers+lines",
         "name": "OPF Gen (MW)",
         "type": "scatter",
         "x": {
          "bdata": "AQAAABUAAAAaAAAAFgAAAAwAAAA=",
          "dtype": "u4"
         },
         "y": {
          "bdata": "0wUEiiiNSkCgmZpKzWE2QLgu2rTPOkdA5oX7T1nyLkDJHl5pGUAuQA==",
          "dtype": "f8"
         }
        }
       ],
       "layout": {
        "template": {
         "data": {
          "bar": [
           {
            "error_x": {
             "color": "#2a3f5f"
            },
            "error_y": {
             "color": "#2a3f5f"
            },
            "marker": {
             "line": {
              "color": "#E5ECF6",
              "width": 0.5
             },
             "pattern": {
              "fillmode": "overlay",
              "size": 10,
              "solidity": 0.2
             }
            },
            "type": "bar"
           }
          ],
          "barpolar": [
           {
            "marker": {
             "line": {
              "color": "#E5ECF6",
              "width": 0.5
             },
             "pattern": {
              "fillmode": "overlay",
              "size": 10,
              "solidity": 0.2
             }
            },
            "type": "barpolar"
           }
          ],
          "carpet": [
           {
            "aaxis": {
             "endlinecolor": "#2a3f5f",
             "gridcolor": "white",
             "linecolor": "white",
             "minorgridcolor": "white",
             "startlinecolor": "#2a3f5f"
            },
            "baxis": {
             "endlinecolor": "#2a3f5f",
             "gridcolor": "white",
             "linecolor": "white",
             "minorgridcolor": "white",
             "startlinecolor": "#2a3f5f"
            },
            "type": "carpet"
           }
          ],
          "choropleth": [
           {
            "colorbar": {
             "outlinewidth": 0,
             "ticks": ""
            },
            "type": "choropleth"
           }
          ],
          "contour": [
           {
            "colorbar": {
             "outlinewidth": 0,
             "ticks": ""
            },
            "colorscale": [
             [
              0,
              "#0d0887"
             ],
             [
              0.1111111111111111,
              "#46039f"
             ],
             [
              0.2222222222222222,
              "#7201a8"
             ],
             [
              0.3333333333333333,
              "#9c179e"
             ],
             [
              0.4444444444444444,
              "#bd3786"
             ],
             [
              0.5555555555555556,
              "#d8576b"
             ],
             [
              0.6666666666666666,
              "#ed7953"
             ],
             [
              0.7777777777777778,
              "#fb9f3a"
             ],
             [
              0.8888888888888888,
              "#fdca26"
             ],
             [
              1,
              "#f0f921"
             ]
            ],
            "type": "contour"
           }
          ],
          "contourcarpet": [
           {
            "colorbar": {
             "outlinewidth": 0,
             "ticks": ""
            },
            "type": "contourcarpet"
           }
          ],
          "heatmap": [
           {
            "colorbar": {
             "outlinewidth": 0,
             "ticks": ""
            },
            "colorscale": [
             [
              0,
              "#0d0887"
             ],
             [
              0.1111111111111111,
              "#46039f"
             ],
             [
              0.2222222222222222,
              "#7201a8"
             ],
             [
              0.3333333333333333,
              "#9c179e"
             ],
             [
              0.4444444444444444,
              "#bd3786"
             ],
             [
              0.5555555555555556,
              "#d8576b"
             ],
             [
              0.6666666666666666,
              "#ed7953"
             ],
             [
              0.7777777777777778,
              "#fb9f3a"
             ],
             [
              0.8888888888888888,
              "#fdca26"
             ],
             [
              1,
              "#f0f921"
             ]
            ],
            "type": "heatmap"
           }
          ],
          "histogram": [
           {
            "marker": {
             "pattern": {
              "fillmode": "overlay",
              "size": 10,
              "solidity": 0.2
             }
            },
            "type": "histogram"
           }
          ],
          "histogram2d": [
           {
            "colorbar": {
             "outlinewidth": 0,
             "ticks": ""
            },
            "colorscale": [
             [
              0,
              "#0d0887"
             ],
             [
              0.1111111111111111,
              "#46039f"
             ],
             [
              0.2222222222222222,
              "#7201a8"
             ],
             [
              0.3333333333333333,
              "#9c179e"
             ],
             [
              0.4444444444444444,
              "#bd3786"
             ],
             [
              0.5555555555555556,
              "#d8576b"
             ],
             [
              0.6666666666666666,
              "#ed7953"
             ],
             [
              0.7777777777777778,
              "#fb9f3a"
             ],
             [
              0.8888888888888888,
              "#fdca26"
             ],
             [
              1,
              "#f0f921"
             ]
            ],
            "type": "histogram2d"
           }
          ],
          "histogram2dcontour": [
           {
            "colorbar": {
             "outlinewidth": 0,
             "ticks": ""
            },
            "colorscale": [
             [
              0,
              "#0d0887"
             ],
             [
              0.1111111111111111,
              "#46039f"
             ],
             [
              0.2222222222222222,
              "#7201a8"
             ],
             [
              0.3333333333333333,
              "#9c179e"
             ],
             [
              0.4444444444444444,
              "#bd3786"
             ],
             [
              0.5555555555555556,
              "#d8576b"
             ],
             [
              0.6666666666666666,
              "#ed7953"
             ],
             [
              0.7777777777777778,
              "#fb9f3a"
             ],
             [
              0.8888888888888888,
              "#fdca26"
             ],
             [
              1,
              "#f0f921"
             ]
            ],
            "type": "histogram2dcontour"
           }
          ],
          "mesh3d": [
           {
            "colorbar": {
             "outlinewidth": 0,
             "ticks": ""
            },
            "type": "mesh3d"
           }
          ],
          "parcoords": [
           {
            "line": {
             "colorbar": {
              "outlinewidth": 0,
              "ticks": ""
             }
            },
            "type": "parcoords"
           }
          ],
          "pie": [
           {
            "automargin": true,
            "type": "pie"
           }
          ],
          "scatter": [
           {
            "fillpattern": {
             "fillmode": "overlay",
             "size": 10,
             "solidity": 0.2
            },
            "type": "scatter"
           }
          ],
          "scatter3d": [
           {
            "line": {
             "colorbar": {
              "outlinewidth": 0,
              "ticks": ""
             }
            },
            "marker": {
             "colorbar": {
              "outlinewidth": 0,
              "ticks": ""
             }
            },
            "type": "scatter3d"
           }
          ],
          "scattercarpet": [
           {
            "marker": {
             "colorbar": {
              "outlinewidth": 0,
              "ticks": ""
             }
            },
            "type": "scattercarpet"
           }
          ],
          "scattergeo": [
           {
            "marker": {
             "colorbar": {
              "outlinewidth": 0,
              "ticks": ""
             }
            },
            "type": "scattergeo"
           }
          ],
          "scattergl": [
           {
            "marker": {
             "colorbar": {
              "outlinewidth": 0,
              "ticks": ""
             }
            },
            "type": "scattergl"
           }
          ],
          "scattermap": [
           {
            "marker": {
             "colorbar": {
              "outlinewidth": 0,
              "ticks": ""
             }
            },
            "type": "scattermap"
           }
          ],
          "scattermapbox": [
           {
            "marker": {
             "colorbar": {
              "outlinewidth": 0,
              "ticks": ""
             }
            },
            "type": "scattermapbox"
           }
          ],
          "scatterpolar": [
           {
            "marker": {
             "colorbar": {
              "outlinewidth": 0,
              "ticks": ""
             }
            },
            "type": "scatterpolar"
           }
          ],
          "scatterpolargl": [
           {
            "marker": {
             "colorbar": {
              "outlinewidth": 0,
              "ticks": ""
             }
            },
            "type": "scatterpolargl"
           }
          ],
          "scatterternary": [
           {
            "marker": {
             "colorbar": {
              "outlinewidth": 0,
              "ticks": ""
             }
            },
            "type": "scatterternary"
           }
          ],
          "surface": [
           {
            "colorbar": {
             "outlinewidth": 0,
             "ticks": ""
            },
            "colorscale": [
             [
              0,
              "#0d0887"
             ],
             [
              0.1111111111111111,
              "#46039f"
             ],
             [
              0.2222222222222222,
              "#7201a8"
             ],
             [
              0.3333333333333333,
              "#9c179e"
             ],
             [
              0.4444444444444444,
              "#bd3786"
             ],
             [
              0.5555555555555556,
              "#d8576b"
             ],
             [
              0.6666666666666666,
              "#ed7953"
             ],
             [
              0.7777777777777778,
              "#fb9f3a"
             ],
             [
              0.8888888888888888,
              "#fdca26"
             ],
             [
              1,
              "#f0f921"
             ]
            ],
            "type": "surface"
           }
          ],
          "table": [
           {
            "cells": {
             "fill": {
              "color": "#EBF0F8"
             },
             "line": {
              "color": "white"
             }
            },
            "header": {
             "fill": {
              "color": "#C8D4E3"
             },
             "line": {
              "color": "white"
             }
            },
            "type": "table"
           }
          ]
         },
         "layout": {
          "annotationdefaults": {
           "arrowcolor": "#2a3f5f",
           "arrowhead": 0,
           "arrowwidth": 1
          },
          "autotypenumbers": "strict",
          "coloraxis": {
           "colorbar": {
            "outlinewidth": 0,
            "ticks": ""
           }
          },
          "colorscale": {
           "diverging": [
            [
             0,
             "#8e0152"
            ],
            [
             0.1,
             "#c51b7d"
            ],
            [
             0.2,
             "#de77ae"
            ],
            [
             0.3,
             "#f1b6da"
            ],
            [
             0.4,
             "#fde0ef"
            ],
            [
             0.5,
             "#f7f7f7"
            ],
            [
             0.6,
             "#e6f5d0"
            ],
            [
             0.7,
             "#b8e186"
            ],
            [
             0.8,
             "#7fbc41"
            ],
            [
             0.9,
             "#4d9221"
            ],
            [
             1,
             "#276419"
            ]
           ],
           "sequential": [
            [
             0,
             "#0d0887"
            ],
            [
             0.1111111111111111,
             "#46039f"
            ],
            [
             0.2222222222222222,
             "#7201a8"
            ],
            [
             0.3333333333333333,
             "#9c179e"
            ],
            [
             0.4444444444444444,
             "#bd3786"
            ],
            [
             0.5555555555555556,
             "#d8576b"
            ],
            [
             0.6666666666666666,
             "#ed7953"
            ],
            [
             0.7777777777777778,
             "#fb9f3a"
            ],
            [
             0.8888888888888888,
             "#fdca26"
            ],
            [
             1,
             "#f0f921"
            ]
           ],
           "sequentialminus": [
            [
             0,
             "#0d0887"
            ],
            [
             0.1111111111111111,
             "#46039f"
            ],
            [
             0.2222222222222222,
             "#7201a8"
            ],
            [
             0.3333333333333333,
             "#9c179e"
            ],
            [
             0.4444444444444444,
             "#bd3786"
            ],
            [
             0.5555555555555556,
             "#d8576b"
            ],
            [
             0.6666666666666666,
             "#ed7953"
            ],
            [
             0.7777777777777778,
             "#fb9f3a"
            ],
            [
             0.8888888888888888,
             "#fdca26"
            ],
            [
             1,
             "#f0f921"
            ]
           ]
          },
          "colorway": [
           "#636efa",
           "#EF553B",
           "#00cc96",
           "#ab63fa",
           "#FFA15A",
           "#19d3f3",
           "#FF6692",
           "#B6E880",
           "#FF97FF",
           "#FECB52"
          ],
          "font": {
           "color": "#2a3f5f"
          },
          "geo": {
           "bgcolor": "white",
           "lakecolor": "white",
           "landcolor": "#E5ECF6",
           "showlakes": true,
           "showland": true,
           "subunitcolor": "white"
          },
          "hoverlabel": {
           "align": "left"
          },
          "hovermode": "closest",
          "mapbox": {
           "style": "light"
          },
          "paper_bgcolor": "white",
          "plot_bgcolor": "#E5ECF6",
          "polar": {
           "angularaxis": {
            "gridcolor": "white",
            "linecolor": "white",
            "ticks": ""
           },
           "bgcolor": "#E5ECF6",
           "radialaxis": {
            "gridcolor": "white",
            "linecolor": "white",
            "ticks": ""
           }
          },
          "scene": {
           "xaxis": {
            "backgroundcolor": "#E5ECF6",
            "gridcolor": "white",
            "gridwidth": 2,
            "linecolor": "white",
            "showbackground": true,
            "ticks": "",
            "zerolinecolor": "white"
           },
           "yaxis": {
            "backgroundcolor": "#E5ECF6",
            "gridcolor": "white",
            "gridwidth": 2,
            "linecolor": "white",
            "showbackground": true,
            "ticks": "",
            "zerolinecolor": "white"
           },
           "zaxis": {
            "backgroundcolor": "#E5ECF6",
            "gridcolor": "white",
            "gridwidth": 2,
            "linecolor": "white",
            "showbackground": true,
            "ticks": "",
            "zerolinecolor": "white"
           }
          },
          "shapedefaults": {
           "line": {
            "color": "#2a3f5f"
           }
          },
          "ternary": {
           "aaxis": {
            "gridcolor": "white",
            "linecolor": "white",
            "ticks": ""
           },
           "baxis": {
            "gridcolor": "white",
            "linecolor": "white",
            "ticks": ""
           },
           "bgcolor": "#E5ECF6",
           "caxis": {
            "gridcolor": "white",
            "linecolor": "white",
            "ticks": ""
           }
          },
          "title": {
           "x": 0.05
          },
          "xaxis": {
           "automargin": true,
           "gridcolor": "white",
           "linecolor": "white",
           "ticks": "",
           "title": {
            "standoff": 15
           },
           "zerolinecolor": "white",
           "zerolinewidth": 2
          },
          "yaxis": {
           "automargin": true,
           "gridcolor": "white",
           "linecolor": "white",
           "ticks": "",
           "title": {
            "standoff": 15
           },
           "zerolinecolor": "white",
           "zerolinewidth": 2
          }
         }
        },
        "title": {
         "text": "Generator Real Power Comparison"
        },
        "xaxis": {
         "title": {
          "text": "Generator Bus"
         }
        },
        "yaxis": {
         "title": {
          "text": "P (MW)"
         }
        }
       }
      }
     },
     "metadata": {},
     "output_type": "display_data"
    }
   ],
   "source": [
    "import plotly.graph_objects as go\n",
    "\n",
    "# Generator power plot\n",
    "gen_fig = go.Figure()\n",
    "gen_fig.add_trace(go.Scatter(x=gen_buses, y=P_g_sdp, mode='markers+lines', name='SDP OPF Gen (MW)'))\n",
    "gen_fig.add_trace(go.Scatter(x=gen_buses, y=P_g_opf, mode='markers+lines', name='OPF Gen (MW)'))\n",
    "gen_fig.update_layout(title=\"Generator Real Power Comparison\", xaxis_title=\"Generator Bus\", yaxis_title=\"P (MW)\")\n",
    "gen_fig.show()"
   ]
  },
  {
   "cell_type": "code",
   "execution_count": 72,
   "metadata": {},
   "outputs": [
    {
     "data": {
      "application/vnd.plotly.v1+json": {
       "config": {
        "plotlyServerURL": "https://plot.ly"
       },
       "data": [
        {
         "mode": "markers+lines",
         "name": "SDP OPF V (pu)",
         "type": "scatter",
         "x": [
          0,
          1,
          2,
          3,
          4,
          5,
          6,
          7,
          8,
          9,
          10,
          11,
          12,
          13,
          14,
          15,
          16,
          17,
          18,
          19,
          20,
          21,
          22,
          23,
          24,
          25,
          26,
          27,
          28,
          29
         ],
         "y": [
          1.0000044873966931,
          1.0011893884240863,
          0.9932557161968512,
          0.9922711141611261,
          0.9898560369475276,
          0.9868109275444564,
          0.9786311873519484,
          0.9751921788744145,
          0.9986635437644018,
          1.0049109256532396,
          0.9986633480932687,
          1.0235615059778995,
          1.0712982955001122,
          1.0128663774764581,
          1.015940600942214,
          1.0085137413506415,
          1.0007444097725855,
          0.9993948633935172,
          0.9931789550367581,
          0.9952205015135047,
          1.0128110663801504,
          1.0190962438937279,
          1.033766402653044,
          1.0176073279784499,
          1.0305593800987563,
          1.013271520028019,
          1.047023361922788,
          0.9929405422061711,
          1.0276339179175207,
          1.0164978645822231
         ]
        },
        {
         "mode": "markers+lines",
         "name": "OPF V (pu)",
         "type": "scatter",
         "x": [
          0,
          1,
          2,
          3,
          4,
          5,
          6,
          7,
          8,
          9,
          10,
          11,
          12,
          13,
          14,
          15,
          16,
          17,
          18,
          19,
          20,
          21,
          22,
          23,
          24,
          25,
          26,
          27,
          28,
          29
         ],
         "y": {
          "bdata": "G8H/////7z9EL93tgBDwPwVu/FKq+O8/Iu8OUh387z8cQ+jFA9vvPz+azIAd2O8/k+egT+SM7z99pv/SPXzvP69eF38lNPA/FMopUEha8D+vXhd/JTTwP/YRy8uftfA/Io95V4SV8T+BrNqCCYPwP/Ucm+svh/A/N1hI22Ny8D9qtNXlc0zwP8DnAVzPRPA/XqhAIaAr8D/VE8KoqTPwPx0rHpZ+ffA/73+/Vq6X8D8WZZXbirDwP01O/f9Vh/A/VkUrgszM8D9/VhLeWIfwP5tqcHpsGvE/WgWzYmIM8D/zxeMTzMzwP0ZGQMA0oPA/",
          "dtype": "f8"
         }
        }
       ],
       "layout": {
        "template": {
         "data": {
          "bar": [
           {
            "error_x": {
             "color": "#2a3f5f"
            },
            "error_y": {
             "color": "#2a3f5f"
            },
            "marker": {
             "line": {
              "color": "#E5ECF6",
              "width": 0.5
             },
             "pattern": {
              "fillmode": "overlay",
              "size": 10,
              "solidity": 0.2
             }
            },
            "type": "bar"
           }
          ],
          "barpolar": [
           {
            "marker": {
             "line": {
              "color": "#E5ECF6",
              "width": 0.5
             },
             "pattern": {
              "fillmode": "overlay",
              "size": 10,
              "solidity": 0.2
             }
            },
            "type": "barpolar"
           }
          ],
          "carpet": [
           {
            "aaxis": {
             "endlinecolor": "#2a3f5f",
             "gridcolor": "white",
             "linecolor": "white",
             "minorgridcolor": "white",
             "startlinecolor": "#2a3f5f"
            },
            "baxis": {
             "endlinecolor": "#2a3f5f",
             "gridcolor": "white",
             "linecolor": "white",
             "minorgridcolor": "white",
             "startlinecolor": "#2a3f5f"
            },
            "type": "carpet"
           }
          ],
          "choropleth": [
           {
            "colorbar": {
             "outlinewidth": 0,
             "ticks": ""
            },
            "type": "choropleth"
           }
          ],
          "contour": [
           {
            "colorbar": {
             "outlinewidth": 0,
             "ticks": ""
            },
            "colorscale": [
             [
              0,
              "#0d0887"
             ],
             [
              0.1111111111111111,
              "#46039f"
             ],
             [
              0.2222222222222222,
              "#7201a8"
             ],
             [
              0.3333333333333333,
              "#9c179e"
             ],
             [
              0.4444444444444444,
              "#bd3786"
             ],
             [
              0.5555555555555556,
              "#d8576b"
             ],
             [
              0.6666666666666666,
              "#ed7953"
             ],
             [
              0.7777777777777778,
              "#fb9f3a"
             ],
             [
              0.8888888888888888,
              "#fdca26"
             ],
             [
              1,
              "#f0f921"
             ]
            ],
            "type": "contour"
           }
          ],
          "contourcarpet": [
           {
            "colorbar": {
             "outlinewidth": 0,
             "ticks": ""
            },
            "type": "contourcarpet"
           }
          ],
          "heatmap": [
           {
            "colorbar": {
             "outlinewidth": 0,
             "ticks": ""
            },
            "colorscale": [
             [
              0,
              "#0d0887"
             ],
             [
              0.1111111111111111,
              "#46039f"
             ],
             [
              0.2222222222222222,
              "#7201a8"
             ],
             [
              0.3333333333333333,
              "#9c179e"
             ],
             [
              0.4444444444444444,
              "#bd3786"
             ],
             [
              0.5555555555555556,
              "#d8576b"
             ],
             [
              0.6666666666666666,
              "#ed7953"
             ],
             [
              0.7777777777777778,
              "#fb9f3a"
             ],
             [
              0.8888888888888888,
              "#fdca26"
             ],
             [
              1,
              "#f0f921"
             ]
            ],
            "type": "heatmap"
           }
          ],
          "histogram": [
           {
            "marker": {
             "pattern": {
              "fillmode": "overlay",
              "size": 10,
              "solidity": 0.2
             }
            },
            "type": "histogram"
           }
          ],
          "histogram2d": [
           {
            "colorbar": {
             "outlinewidth": 0,
             "ticks": ""
            },
            "colorscale": [
             [
              0,
              "#0d0887"
             ],
             [
              0.1111111111111111,
              "#46039f"
             ],
             [
              0.2222222222222222,
              "#7201a8"
             ],
             [
              0.3333333333333333,
              "#9c179e"
             ],
             [
              0.4444444444444444,
              "#bd3786"
             ],
             [
              0.5555555555555556,
              "#d8576b"
             ],
             [
              0.6666666666666666,
              "#ed7953"
             ],
             [
              0.7777777777777778,
              "#fb9f3a"
             ],
             [
              0.8888888888888888,
              "#fdca26"
             ],
             [
              1,
              "#f0f921"
             ]
            ],
            "type": "histogram2d"
           }
          ],
          "histogram2dcontour": [
           {
            "colorbar": {
             "outlinewidth": 0,
             "ticks": ""
            },
            "colorscale": [
             [
              0,
              "#0d0887"
             ],
             [
              0.1111111111111111,
              "#46039f"
             ],
             [
              0.2222222222222222,
              "#7201a8"
             ],
             [
              0.3333333333333333,
              "#9c179e"
             ],
             [
              0.4444444444444444,
              "#bd3786"
             ],
             [
              0.5555555555555556,
              "#d8576b"
             ],
             [
              0.6666666666666666,
              "#ed7953"
             ],
             [
              0.7777777777777778,
              "#fb9f3a"
             ],
             [
              0.8888888888888888,
              "#fdca26"
             ],
             [
              1,
              "#f0f921"
             ]
            ],
            "type": "histogram2dcontour"
           }
          ],
          "mesh3d": [
           {
            "colorbar": {
             "outlinewidth": 0,
             "ticks": ""
            },
            "type": "mesh3d"
           }
          ],
          "parcoords": [
           {
            "line": {
             "colorbar": {
              "outlinewidth": 0,
              "ticks": ""
             }
            },
            "type": "parcoords"
           }
          ],
          "pie": [
           {
            "automargin": true,
            "type": "pie"
           }
          ],
          "scatter": [
           {
            "fillpattern": {
             "fillmode": "overlay",
             "size": 10,
             "solidity": 0.2
            },
            "type": "scatter"
           }
          ],
          "scatter3d": [
           {
            "line": {
             "colorbar": {
              "outlinewidth": 0,
              "ticks": ""
             }
            },
            "marker": {
             "colorbar": {
              "outlinewidth": 0,
              "ticks": ""
             }
            },
            "type": "scatter3d"
           }
          ],
          "scattercarpet": [
           {
            "marker": {
             "colorbar": {
              "outlinewidth": 0,
              "ticks": ""
             }
            },
            "type": "scattercarpet"
           }
          ],
          "scattergeo": [
           {
            "marker": {
             "colorbar": {
              "outlinewidth": 0,
              "ticks": ""
             }
            },
            "type": "scattergeo"
           }
          ],
          "scattergl": [
           {
            "marker": {
             "colorbar": {
              "outlinewidth": 0,
              "ticks": ""
             }
            },
            "type": "scattergl"
           }
          ],
          "scattermap": [
           {
            "marker": {
             "colorbar": {
              "outlinewidth": 0,
              "ticks": ""
             }
            },
            "type": "scattermap"
           }
          ],
          "scattermapbox": [
           {
            "marker": {
             "colorbar": {
              "outlinewidth": 0,
              "ticks": ""
             }
            },
            "type": "scattermapbox"
           }
          ],
          "scatterpolar": [
           {
            "marker": {
             "colorbar": {
              "outlinewidth": 0,
              "ticks": ""
             }
            },
            "type": "scatterpolar"
           }
          ],
          "scatterpolargl": [
           {
            "marker": {
             "colorbar": {
              "outlinewidth": 0,
              "ticks": ""
             }
            },
            "type": "scatterpolargl"
           }
          ],
          "scatterternary": [
           {
            "marker": {
             "colorbar": {
              "outlinewidth": 0,
              "ticks": ""
             }
            },
            "type": "scatterternary"
           }
          ],
          "surface": [
           {
            "colorbar": {
             "outlinewidth": 0,
             "ticks": ""
            },
            "colorscale": [
             [
              0,
              "#0d0887"
             ],
             [
              0.1111111111111111,
              "#46039f"
             ],
             [
              0.2222222222222222,
              "#7201a8"
             ],
             [
              0.3333333333333333,
              "#9c179e"
             ],
             [
              0.4444444444444444,
              "#bd3786"
             ],
             [
              0.5555555555555556,
              "#d8576b"
             ],
             [
              0.6666666666666666,
              "#ed7953"
             ],
             [
              0.7777777777777778,
              "#fb9f3a"
             ],
             [
              0.8888888888888888,
              "#fdca26"
             ],
             [
              1,
              "#f0f921"
             ]
            ],
            "type": "surface"
           }
          ],
          "table": [
           {
            "cells": {
             "fill": {
              "color": "#EBF0F8"
             },
             "line": {
              "color": "white"
             }
            },
            "header": {
             "fill": {
              "color": "#C8D4E3"
             },
             "line": {
              "color": "white"
             }
            },
            "type": "table"
           }
          ]
         },
         "layout": {
          "annotationdefaults": {
           "arrowcolor": "#2a3f5f",
           "arrowhead": 0,
           "arrowwidth": 1
          },
          "autotypenumbers": "strict",
          "coloraxis": {
           "colorbar": {
            "outlinewidth": 0,
            "ticks": ""
           }
          },
          "colorscale": {
           "diverging": [
            [
             0,
             "#8e0152"
            ],
            [
             0.1,
             "#c51b7d"
            ],
            [
             0.2,
             "#de77ae"
            ],
            [
             0.3,
             "#f1b6da"
            ],
            [
             0.4,
             "#fde0ef"
            ],
            [
             0.5,
             "#f7f7f7"
            ],
            [
             0.6,
             "#e6f5d0"
            ],
            [
             0.7,
             "#b8e186"
            ],
            [
             0.8,
             "#7fbc41"
            ],
            [
             0.9,
             "#4d9221"
            ],
            [
             1,
             "#276419"
            ]
           ],
           "sequential": [
            [
             0,
             "#0d0887"
            ],
            [
             0.1111111111111111,
             "#46039f"
            ],
            [
             0.2222222222222222,
             "#7201a8"
            ],
            [
             0.3333333333333333,
             "#9c179e"
            ],
            [
             0.4444444444444444,
             "#bd3786"
            ],
            [
             0.5555555555555556,
             "#d8576b"
            ],
            [
             0.6666666666666666,
             "#ed7953"
            ],
            [
             0.7777777777777778,
             "#fb9f3a"
            ],
            [
             0.8888888888888888,
             "#fdca26"
            ],
            [
             1,
             "#f0f921"
            ]
           ],
           "sequentialminus": [
            [
             0,
             "#0d0887"
            ],
            [
             0.1111111111111111,
             "#46039f"
            ],
            [
             0.2222222222222222,
             "#7201a8"
            ],
            [
             0.3333333333333333,
             "#9c179e"
            ],
            [
             0.4444444444444444,
             "#bd3786"
            ],
            [
             0.5555555555555556,
             "#d8576b"
            ],
            [
             0.6666666666666666,
             "#ed7953"
            ],
            [
             0.7777777777777778,
             "#fb9f3a"
            ],
            [
             0.8888888888888888,
             "#fdca26"
            ],
            [
             1,
             "#f0f921"
            ]
           ]
          },
          "colorway": [
           "#636efa",
           "#EF553B",
           "#00cc96",
           "#ab63fa",
           "#FFA15A",
           "#19d3f3",
           "#FF6692",
           "#B6E880",
           "#FF97FF",
           "#FECB52"
          ],
          "font": {
           "color": "#2a3f5f"
          },
          "geo": {
           "bgcolor": "white",
           "lakecolor": "white",
           "landcolor": "#E5ECF6",
           "showlakes": true,
           "showland": true,
           "subunitcolor": "white"
          },
          "hoverlabel": {
           "align": "left"
          },
          "hovermode": "closest",
          "mapbox": {
           "style": "light"
          },
          "paper_bgcolor": "white",
          "plot_bgcolor": "#E5ECF6",
          "polar": {
           "angularaxis": {
            "gridcolor": "white",
            "linecolor": "white",
            "ticks": ""
           },
           "bgcolor": "#E5ECF6",
           "radialaxis": {
            "gridcolor": "white",
            "linecolor": "white",
            "ticks": ""
           }
          },
          "scene": {
           "xaxis": {
            "backgroundcolor": "#E5ECF6",
            "gridcolor": "white",
            "gridwidth": 2,
            "linecolor": "white",
            "showbackground": true,
            "ticks": "",
            "zerolinecolor": "white"
           },
           "yaxis": {
            "backgroundcolor": "#E5ECF6",
            "gridcolor": "white",
            "gridwidth": 2,
            "linecolor": "white",
            "showbackground": true,
            "ticks": "",
            "zerolinecolor": "white"
           },
           "zaxis": {
            "backgroundcolor": "#E5ECF6",
            "gridcolor": "white",
            "gridwidth": 2,
            "linecolor": "white",
            "showbackground": true,
            "ticks": "",
            "zerolinecolor": "white"
           }
          },
          "shapedefaults": {
           "line": {
            "color": "#2a3f5f"
           }
          },
          "ternary": {
           "aaxis": {
            "gridcolor": "white",
            "linecolor": "white",
            "ticks": ""
           },
           "baxis": {
            "gridcolor": "white",
            "linecolor": "white",
            "ticks": ""
           },
           "bgcolor": "#E5ECF6",
           "caxis": {
            "gridcolor": "white",
            "linecolor": "white",
            "ticks": ""
           }
          },
          "title": {
           "x": 0.05
          },
          "xaxis": {
           "automargin": true,
           "gridcolor": "white",
           "linecolor": "white",
           "ticks": "",
           "title": {
            "standoff": 15
           },
           "zerolinecolor": "white",
           "zerolinewidth": 2
          },
          "yaxis": {
           "automargin": true,
           "gridcolor": "white",
           "linecolor": "white",
           "ticks": "",
           "title": {
            "standoff": 15
           },
           "zerolinecolor": "white",
           "zerolinewidth": 2
          }
         }
        },
        "title": {
         "text": "Voltage Magnitude Comparison"
        },
        "xaxis": {
         "title": {
          "text": "Bus"
         }
        },
        "yaxis": {
         "title": {
          "text": "V (pu)"
         }
        }
       }
      }
     },
     "metadata": {},
     "output_type": "display_data"
    }
   ],
   "source": [
    "# Voltage Magnitude plot\n",
    "gen_fig = go.Figure()\n",
    "gen_fig.add_trace(go.Scatter(x=list(range(n)), y=V_sdp, mode='markers+lines', name='SDP OPF V (pu)'))\n",
    "gen_fig.add_trace(go.Scatter(x=list(range(n)), y=V_opf, mode='markers+lines', name='OPF V (pu)'))\n",
    "gen_fig.update_layout(title=\"Voltage Magnitude Comparison\", xaxis_title=\"Bus\", yaxis_title=\"V (pu)\")\n",
    "gen_fig.show()"
   ]
  },
  {
   "cell_type": "code",
   "execution_count": null,
   "metadata": {},
   "outputs": [],
   "source": []
  }
 ],
 "metadata": {
  "kernelspec": {
   "display_name": "env",
   "language": "python",
   "name": "python3"
  },
  "language_info": {
   "codemirror_mode": {
    "name": "ipython",
    "version": 3
   },
   "file_extension": ".py",
   "mimetype": "text/x-python",
   "name": "python",
   "nbconvert_exporter": "python",
   "pygments_lexer": "ipython3",
   "version": "3.12.3"
  }
 },
 "nbformat": 4,
 "nbformat_minor": 2
}
