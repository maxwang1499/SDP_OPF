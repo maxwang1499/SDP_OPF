{
 "cells": [
  {
   "cell_type": "markdown",
   "metadata": {},
   "source": [
    "## Classical SDP relaxation of OPF\n",
    "As a first step, we present a simple implementation of the classical SDP formulation of the Optimnal Power Flow problem using CVXPY."
   ]
  },
  {
   "cell_type": "markdown",
   "metadata": {},
   "source": [
    "### Setup\n",
    "We start by importing pandapower for the test cases;\n",
    "CVXPY, an open source Python-embedded modeling language for convex optimization problems;\n",
    "MOSEK, a large scale optimization software. "
   ]
  },
  {
   "cell_type": "code",
   "execution_count": 3,
   "metadata": {},
   "outputs": [],
   "source": [
    "import pandapower.networks as nw\n",
    "import pandapower as pp\n",
    "import numpy as np\n",
    "import cvxpy as cp\n",
    "from scipy.sparse import csr_matrix\n",
    "import mosek"
   ]
  },
  {
   "cell_type": "markdown",
   "metadata": {},
   "source": [
    "### 1st-Example\n",
    "Let's first construct a small, 5-bus grid ourselves to really understand each step.\n",
    "\n",
    "#### Define Variables and admittance matrix"
   ]
  },
  {
   "cell_type": "code",
   "execution_count": 2,
   "metadata": {},
   "outputs": [],
   "source": [
    "n = 5  # Number of buses\n",
    "G = [0, 1]  # Generator buses are either on or off\n",
    "N = range(n)  # All buses\n",
    "Y = np.random.randn(n, n) + 1j * np.random.randn(n, n)  # Admittance matrix\n",
    "c2 = np.array([0.1, 0.2])  # Quadratic cost coefficients\n",
    "c1 = np.array([10, 20])  # Linear cost coefficients\n",
    "c0 = np.array([100, 200])  # Constant cost coefficients\n",
    "P_min = np.array([0, 0])  # Minimum active power\n",
    "P_max = np.array([100, 150])  # Maximum active power\n",
    "Q_min = np.array([-50, -50])  # Minimum reactive power\n",
    "Q_max = np.array([50, 50])  # Maximum reactive power\n",
    "V_min = 0.95  # Minimum voltage magnitude\n",
    "V_max = 1.05  # Maximum voltage magnitude\n",
    "S_max = 200  # Maximum apparent power flow"
   ]
  },
  {
   "cell_type": "markdown",
   "metadata": {},
   "source": [
    "#### Define Optimization Variables\n",
    "Let's define the power flow constraint variables (P, Q) and the PSD matrix (X)."
   ]
  },
  {
   "cell_type": "code",
   "execution_count": 3,
   "metadata": {},
   "outputs": [],
   "source": [
    "# Define optimization variables\n",
    "X = cp.Variable((n, n), hermitian=True)  # X = VV^+\n",
    "P = cp.Variable(len(G))  # Active power generation\n",
    "Q = cp.Variable(len(G))  # Reactive power generation"
   ]
  },
  {
   "cell_type": "markdown",
   "metadata": {},
   "source": [
    "#### Define Objective function"
   ]
  },
  {
   "cell_type": "code",
   "execution_count": 4,
   "metadata": {},
   "outputs": [],
   "source": [
    "# Define objective\n",
    "objective = cp.Minimize(cp.sum(c2 @ cp.square(P) + c1 @ P + c0))"
   ]
  },
  {
   "cell_type": "markdown",
   "metadata": {},
   "source": [
    "#### Constraints"
   ]
  },
  {
   "cell_type": "code",
   "execution_count": 5,
   "metadata": {},
   "outputs": [],
   "source": [
    "constraints = [X >> 0]  # X is positive semidefinite\n",
    "for i in G:\n",
    "    constraints += [P_min[i] <= P[i], P[i] <= P_max[i]]\n",
    "    constraints += [Q_min[i] <= Q[i], Q[i] <= Q_max[i]]\n",
    "for i in N:\n",
    "    constraints += [V_min**2 <= cp.real(X[i, i]), cp.real(X[i, i]) <= V_max**2]\n",
    "for i in N:\n",
    "    for j in N:\n",
    "        if i != j:\n",
    "            S_ij = Y[i, j].conj() * X[i, j]\n",
    "            constraints += [cp.abs(S_ij) <= S_max]"
   ]
  },
  {
   "cell_type": "markdown",
   "metadata": {},
   "source": [
    "#### Solve the problem using cvxpy's SDP solvers. (probably IPM)"
   ]
  },
  {
   "cell_type": "code",
   "execution_count": 7,
   "metadata": {},
   "outputs": [
    {
     "name": "stdout",
     "output_type": "stream",
     "text": [
      "Optimal value: 300.0000000001779\n",
      "X matrix: [[1.00235207+0.j 0.        +0.j 0.        +0.j 0.        +0.j\n",
      "  0.        +0.j]\n",
      " [0.        +0.j 1.00235207+0.j 0.        +0.j 0.        +0.j\n",
      "  0.        +0.j]\n",
      " [0.        +0.j 0.        +0.j 1.00235207+0.j 0.        +0.j\n",
      "  0.        +0.j]\n",
      " [0.        +0.j 0.        +0.j 0.        +0.j 1.00235207+0.j\n",
      "  0.        +0.j]\n",
      " [0.        +0.j 0.        +0.j 0.        +0.j 0.        +0.j\n",
      "  1.00235207+0.j]]\n",
      "P: [2.82054517e-12 3.03767099e-12]\n",
      "Q: [-50. -50.]\n"
     ]
    }
   ],
   "source": [
    "problem = cp.Problem(objective, constraints)\n",
    "# Solve using a free solver (e.g., ECOS)\n",
    "problem.solve()\n",
    "\n",
    "# Print results\n",
    "print(\"Optimal value:\", problem.value)\n",
    "print(\"X matrix:\", X.value)\n",
    "print(\"P:\", P.value)\n",
    "print(\"Q:\", Q.value)"
   ]
  },
  {
   "cell_type": "markdown",
   "metadata": {},
   "source": [
    "### Load Network Data\n",
    "Now,let's make a function that loads the IEEE test cases from Pandapower."
   ]
  },
  {
   "cell_type": "code",
   "execution_count": 4,
   "metadata": {},
   "outputs": [],
   "source": [
    "# Select IEEE test case\n",
    "def load_network(case):\n",
    "    if case == 14:\n",
    "        return nw.case14()\n",
    "    elif case == 30:\n",
    "        return nw.case30()\n",
    "    elif case == 57:\n",
    "        return nw.case57()\n",
    "    elif case == 118:\n",
    "        return nw.case118()\n",
    "    else:\n",
    "        raise ValueError(\"Unsupported test case\")"
   ]
  },
  {
   "cell_type": "code",
   "execution_count": 15,
   "metadata": {},
   "outputs": [],
   "source": [
    "# Load the chosen IEEE test case\n",
    "case_number = 14  # Change to 30, 57, or 118 for larger cases\n",
    "net = load_network(case_number)\n",
    "pp.runpp(net)  # Run power flow to initialize values"
   ]
  },
  {
   "cell_type": "markdown",
   "metadata": {},
   "source": [
    "When a power flow is carried out, the element based grid model is translated into a bus-branch model. That bus-branch model is stored in a data structure that is based on the PYPOWER/MATPOWER casefile (with some extensions). This ppc can be accessed after power flow using net._ppc\n",
    "We will get the bus admittance matrix using exactly that and extract all the parameters we need."
   ]
  },
  {
   "cell_type": "code",
   "execution_count": 16,
   "metadata": {},
   "outputs": [],
   "source": [
    "#Example of what the bus-branch model look like\n",
    "# net._ppc \n",
    "# net.line"
   ]
  },
  {
   "cell_type": "code",
   "execution_count": 17,
   "metadata": {},
   "outputs": [],
   "source": [
    "# Now, we extract network parameters\n",
    "Ybus = net._ppc[\"internal\"][\"Ybus\"].todense() # Bus admittance matrix (we need todense since the matrices are stored as sparcse matrices, but dense are easier to work with)\n",
    "n = len(net.bus)  # Number of buses\n",
    "branch = net.line  # Get each transmission line's specification for line constraints\n",
    "\n",
    "# Extract generator information for generation constraints\n",
    "gen_buses = net.gen[\"bus\"].values #.values convert the dataframe to numpy arrays\n",
    "Pg_min = net.gen[\"min_p_mw\"].values #minimal real power generation limit\n",
    "Pg_max = net.gen[\"max_p_mw\"].values #maximum real power generation limit\n",
    "Q_min = net.gen[\"min_q_mvar\"].values #minimal reactive power generation limit\n",
    "Q_max = net.gen[\"max_q_mvar\"].values #maximum real power generation limit\n",
    "\n",
    "# Voltage limits\n",
    "V_min = net.bus[\"min_vm_pu\"].values ** 2  # Squared for SDP\n",
    "V_max = net.bus[\"max_vm_pu\"].values ** 2"
   ]
  },
  {
   "cell_type": "markdown",
   "metadata": {},
   "source": [
    "### Define Variable\n",
    "Define the SDP Matrix X in CVXPY. We want X to be PSD. If X is rank-1, then our solution is the global optimal. In most power system cases, X is rank-1.\n",
    "Represents voltage relations in SDP relaxation."
   ]
  },
  {
   "cell_type": "code",
   "execution_count": null,
   "metadata": {},
   "outputs": [],
   "source": [
    "# Define an arbitrary n x n Hermitian X (Directly enforcing X= V V^+ will require X to be rank-1, which is too strict. We use the power balance, PSD and voltage constraints to guide this arbitrary X to X = VV^+)\n",
    "X = cp.Variable((n, n), hermitian=True)\n",
    "\n",
    "# Objective function: Minimize Pg, the matrix representing the real power generation at each generator \n",
    "Pg = cp.real(cp.trace(X @ Ybus))  # P_g = XY. The trace sums up all the power generation and estimate the cost. We also ensure Pg is real-valued\n",
    "\n",
    "\n",
    "# Constraints\n",
    "constraints = []\n",
    "\n",
    "# Power balance equations (real and reactive)\n",
    "for i in range(n):\n",
    "    P_i = cp.real(Ybus[i, :] @ X @ Ybus[:,i])  # Extract real power injection at bus i\n",
    "    Q_i = cp.imag(Ybus[i, :] @ X @ Ybus[:,i])  # Extract reactive power injection at bus i\n",
    "\n",
    "    # If bus is a generator bus, enforce generation limits\n",
    "    if i in gen_buses:\n",
    "        idx = np.where(gen_buses == i)[0][0]  # Get generator index\n",
    "        constraints.append(Pg_min[idx] <= P_i)\n",
    "        constraints.append(P_i <= Pg_max[idx])\n",
    "        constraints.append(Q_min[idx] <= Q_i)\n",
    "        constraints.append(Q_i <= Q_max[idx])\n",
    "    else:\n",
    "        # For non-generator buses, enforce power balance constraints\n",
    "        constraints.append(P_i == 0)\n",
    "        constraints.append(Q_i == 0)\n",
    "\n",
    "# Voltage magnitude constraints\n",
    "for i in range(n):\n",
    "    constraints.append(V_min[i] <= cp.real(X[i, i]))\n",
    "    constraints.append(cp.real(X[i, i]) <= V_max[i])\n",
    "\n",
    "# Positive semidefinite constraint\n",
    "constraints.append(X >> 0)"
   ]
  },
  {
   "cell_type": "markdown",
   "metadata": {},
   "source": [
    "### Solve using cvxpy's SDP solver"
   ]
  },
  {
   "cell_type": "code",
   "execution_count": 19,
   "metadata": {},
   "outputs": [
    {
     "name": "stdout",
     "output_type": "stream",
     "text": [
      "===============================================================================\n",
      "                                     CVXPY                                     \n",
      "                                     v1.6.0                                    \n",
      "===============================================================================\n",
      "(CVXPY) Feb 25 10:59:38 AM: Your problem has 196 variables, 260 constraints, and 0 parameters.\n",
      "(CVXPY) Feb 25 10:59:38 AM: It is compliant with the following grammars: DCP, DQCP\n",
      "(CVXPY) Feb 25 10:59:38 AM: (If you need to solve this problem multiple times, but with different data, consider using parameters.)\n",
      "(CVXPY) Feb 25 10:59:38 AM: CVXPY will first compile your problem; then, it will invoke a numerical solver to obtain a solution.\n",
      "(CVXPY) Feb 25 10:59:38 AM: Your problem is compiled with the CPP canonicalization backend.\n",
      "-------------------------------------------------------------------------------\n",
      "                                  Compilation                                  \n",
      "-------------------------------------------------------------------------------\n",
      "(CVXPY) Feb 25 10:59:38 AM: Compiling problem (target solver=MOSEK).\n",
      "(CVXPY) Feb 25 10:59:38 AM: Reduction chain: Complex2Real -> Dcp2Cone -> CvxAttr2Constr -> ConeMatrixStuffing -> MOSEK\n",
      "(CVXPY) Feb 25 10:59:38 AM: Applying reduction Complex2Real\n",
      "(CVXPY) Feb 25 10:59:38 AM: Applying reduction Dcp2Cone\n",
      "(CVXPY) Feb 25 10:59:38 AM: Applying reduction CvxAttr2Constr\n",
      "(CVXPY) Feb 25 10:59:38 AM: Applying reduction ConeMatrixStuffing\n",
      "(CVXPY) Feb 25 10:59:38 AM: Applying reduction MOSEK\n",
      "(CVXPY) Feb 25 10:59:38 AM: Finished problem compilation (took 7.013e-02 seconds).\n",
      "-------------------------------------------------------------------------------\n",
      "                                Numerical solver                               \n",
      "-------------------------------------------------------------------------------\n",
      "(CVXPY) Feb 25 10:59:38 AM: Invoking solver MOSEK  to obtain a solution.\n",
      "\n",
      "\n",
      "(CVXPY) Feb 25 10:59:38 AM: Problem\n",
      "(CVXPY) Feb 25 10:59:38 AM:   Name                   :                 \n",
      "(CVXPY) Feb 25 10:59:38 AM:   Objective sense        : maximize        \n",
      "(CVXPY) Feb 25 10:59:38 AM:   Type                   : CONIC (conic optimization problem)\n",
      "(CVXPY) Feb 25 10:59:38 AM:   Constraints            : 197             \n",
      "(CVXPY) Feb 25 10:59:38 AM:   Affine conic cons.     : 0               \n",
      "(CVXPY) Feb 25 10:59:38 AM:   Disjunctive cons.      : 0               \n",
      "(CVXPY) Feb 25 10:59:38 AM:   Cones                  : 1               \n",
      "(CVXPY) Feb 25 10:59:38 AM:   Scalar variables       : 67              \n",
      "(CVXPY) Feb 25 10:59:38 AM:   Matrix variables       : 1 (scalarized: 406)\n",
      "(CVXPY) Feb 25 10:59:38 AM:   Integer variables      : 0               \n",
      "(CVXPY) Feb 25 10:59:38 AM: \n",
      "(CVXPY) Feb 25 10:59:38 AM: Optimizer started.\n",
      "(CVXPY) Feb 25 10:59:38 AM: Presolve started.\n",
      "(CVXPY) Feb 25 10:59:38 AM: Linear dependency checker started.\n",
      "(CVXPY) Feb 25 10:59:38 AM: Linear dependency checker terminated.\n",
      "(CVXPY) Feb 25 10:59:38 AM: Eliminator started.\n",
      "(CVXPY) Feb 25 10:59:38 AM: Freed constraints in eliminator : 0\n",
      "(CVXPY) Feb 25 10:59:38 AM: Eliminator terminated.\n",
      "(CVXPY) Feb 25 10:59:38 AM: Eliminator - tries                  : 1                 time                   : 0.00            \n",
      "(CVXPY) Feb 25 10:59:38 AM: Lin. dep.  - tries                  : 1                 time                   : 0.00            \n",
      "(CVXPY) Feb 25 10:59:38 AM: Lin. dep.  - primal attempts        : 1                 successes              : 1               \n",
      "(CVXPY) Feb 25 10:59:38 AM: Lin. dep.  - dual attempts          : 0                 successes              : 0               \n",
      "(CVXPY) Feb 25 10:59:38 AM: Lin. dep.  - primal deps.           : 0                 dual deps.             : 0               \n",
      "(CVXPY) Feb 25 10:59:38 AM: Presolve terminated. Time: 0.00    \n",
      "(CVXPY) Feb 25 10:59:38 AM: Optimizer  - threads                : 12              \n",
      "(CVXPY) Feb 25 10:59:38 AM: Optimizer  - solved problem         : the primal      \n",
      "(CVXPY) Feb 25 10:59:38 AM: Optimizer  - Constraints            : 197             \n",
      "(CVXPY) Feb 25 10:59:38 AM: Optimizer  - Cones                  : 2               \n",
      "(CVXPY) Feb 25 10:59:38 AM: Optimizer  - Scalar variables       : 65                conic                  : 23              \n",
      "(CVXPY) Feb 25 10:59:38 AM: Optimizer  - Semi-definite variables: 1                 scalarized             : 406             \n",
      "(CVXPY) Feb 25 10:59:38 AM: Factor     - setup time             : 0.00            \n",
      "(CVXPY) Feb 25 10:59:38 AM: Factor     - dense det. time        : 0.00              GP order time          : 0.00            \n",
      "(CVXPY) Feb 25 10:59:38 AM: Factor     - nonzeros before factor : 1.93e+04          after factor           : 1.93e+04        \n",
      "(CVXPY) Feb 25 10:59:38 AM: Factor     - dense dim.             : 0                 flops                  : 2.97e+06        \n",
      "(CVXPY) Feb 25 10:59:38 AM: ITE PFEAS    DFEAS    GFEAS    PRSTATUS   POBJ              DOBJ              MU       TIME  \n",
      "(CVXPY) Feb 25 10:59:38 AM: 0   1.0e+00  2.3e+03  2.0e+00  0.00e+00   -1.000000000e+00  -0.000000000e+00  1.0e+00  0.00  \n",
      "(CVXPY) Feb 25 10:59:38 AM: 1   1.8e-01  4.0e+02  8.0e-01  -9.85e-01  5.447607579e+00   2.132170618e+00   1.8e-01  0.01  \n",
      "(CVXPY) Feb 25 10:59:38 AM: 2   3.1e-02  7.2e+01  2.6e-01  -8.39e-01  2.674306890e+01   1.069582968e+01   3.1e-02  0.01  \n",
      "(CVXPY) Feb 25 10:59:38 AM: 3   5.8e-03  1.3e+01  4.7e-02  -2.50e-01  4.056204467e+01   2.449566108e+01   5.8e-03  0.01  \n",
      "(CVXPY) Feb 25 10:59:38 AM: 4   1.3e-03  3.0e+00  6.2e-03  4.43e-01   1.118233238e+01   5.765737108e+00   1.3e-03  0.01  \n",
      "(CVXPY) Feb 25 10:59:38 AM: 5   2.3e-04  5.3e-01  5.0e-04  7.29e-01   1.863894996e+00   7.262028790e-01   2.3e-04  0.01  \n",
      "(CVXPY) Feb 25 10:59:38 AM: 6   2.9e-05  6.6e-02  2.1e-05  9.15e-01   1.480602467e-01   1.866722040e-02   2.9e-05  0.01  \n",
      "(CVXPY) Feb 25 10:59:38 AM: 7   4.0e-06  9.2e-03  1.1e-06  9.96e-01   1.977178928e-02   1.896437063e-03   4.0e-06  0.01  \n",
      "(CVXPY) Feb 25 10:59:38 AM: 8   4.6e-07  1.1e-03  4.3e-08  9.51e-01   2.502777075e-03   3.620510822e-04   4.6e-07  0.01  \n",
      "(CVXPY) Feb 25 10:59:38 AM: 9   1.1e-07  2.5e-04  6.1e-09  9.38e-01   9.236056193e-04   1.790010223e-04   1.1e-07  0.01  \n",
      "(CVXPY) Feb 25 10:59:38 AM: 10  4.3e-08  9.9e-05  3.6e-09  4.84e-02   2.181544568e-03   4.621489948e-04   4.3e-08  0.01  \n",
      "(CVXPY) Feb 25 10:59:38 AM: 11  1.4e-09  3.3e-06  5.6e-10  -5.70e-01  4.993219049e-02   1.063436314e-02   1.4e-09  0.02  \n",
      "(CVXPY) Feb 25 10:59:38 AM: 12  9.5e-10  1.6e-06  4.0e-10  -9.98e-01  9.875609574e-02   2.103697449e-02   7.2e-10  0.02  \n",
      "(CVXPY) Feb 25 10:59:39 AM: 13  6.7e-10  1.3e-06  3.5e-10  -9.98e-01  1.269281150e-01   2.704026766e-02   5.5e-10  0.02  \n",
      "(CVXPY) Feb 25 10:59:39 AM: 14  1.7e-10  2.3e-09  1.8e-11  -9.96e-01  1.030382005e+02   2.195774939e+01   1.0e-12  0.02  \n",
      "(CVXPY) Feb 25 10:59:39 AM: 15  1.6e-12  1.9e-11  1.6e-12  -9.98e-01  1.299479961e+04   2.823157040e+03   8.2e-15  0.02  \n",
      "(CVXPY) Feb 25 10:59:39 AM: 16  1.6e-12  1.9e-11  1.6e-12  -9.98e-01  1.299479961e+04   2.823157040e+03   8.2e-15  0.02  \n",
      "(CVXPY) Feb 25 10:59:39 AM: 17  1.6e-12  1.9e-11  1.6e-12  -1.00e+00  1.299645643e+04   2.823590102e+03   8.2e-15  0.03  \n",
      "(CVXPY) Feb 25 10:59:39 AM: 18  6.5e-13  2.2e-13  1.6e-13  -1.00e+00  9.188384816e+05   2.395925543e+05   9.7e-17  0.03  \n",
      "(CVXPY) Feb 25 10:59:39 AM: 19  6.5e-13  2.2e-13  1.6e-13  -9.99e-01  9.188987724e+05   2.396118216e+05   9.7e-17  0.03  \n",
      "(CVXPY) Feb 25 10:59:39 AM: 20  6.5e-13  2.2e-13  1.6e-13  -9.99e-01  9.188987724e+05   2.396118216e+05   9.7e-17  0.03  \n",
      "(CVXPY) Feb 25 10:59:39 AM: 21  6.5e-13  2.2e-13  1.6e-13  -9.99e-01  9.188987724e+05   2.396118216e+05   9.7e-17  0.03  \n",
      "(CVXPY) Feb 25 10:59:39 AM: Optimizer terminated. Time: 0.04    \n",
      "(CVXPY) Feb 25 10:59:39 AM: \n",
      "(CVXPY) Feb 25 10:59:39 AM: \n",
      "(CVXPY) Feb 25 10:59:39 AM: Interior-point solution summary\n",
      "(CVXPY) Feb 25 10:59:39 AM:   Problem status  : UNKNOWN\n",
      "(CVXPY) Feb 25 10:59:39 AM:   Solution status : UNKNOWN\n",
      "(CVXPY) Feb 25 10:59:39 AM:   Primal.  obj: 9.1889877238e+05    nrm: 6e+11    Viol.  con: 1e+02    var: 0e+00    barvar: 0e+00    cones: 0e+00  \n",
      "(CVXPY) Feb 25 10:59:39 AM:   Dual.    obj: 2.3961182158e+05    nrm: 2e+05    Viol.  con: 0e+00    var: 1e-03    barvar: 1e-05    cones: 0e+00  \n"
     ]
    },
    {
     "name": "stderr",
     "output_type": "stream",
     "text": [
      "/home/catz0449/VSDP/env/lib/python3.12/site-packages/mosek/__init__.py:18617: UserWarning: Argument sub in putvarboundlist: Incorrect array format causing data to be copied\n",
      "  warnings.warn(\"Argument sub in putvarboundlist: Incorrect array format causing data to be copied\");\n",
      "/home/catz0449/VSDP/env/lib/python3.12/site-packages/mosek/__init__.py:18925: UserWarning: Argument subj in putclist: Incorrect array format causing data to be copied\n",
      "  warnings.warn(\"Argument subj in putclist: Incorrect array format causing data to be copied\");\n",
      "/home/catz0449/VSDP/env/lib/python3.12/site-packages/mosek/__init__.py:18349: UserWarning: Argument sub in putconboundlist: Incorrect array format causing data to be copied\n",
      "  warnings.warn(\"Argument sub in putconboundlist: Incorrect array format causing data to be copied\");\n"
     ]
    },
    {
     "ename": "SolverError",
     "evalue": "Solver 'MOSEK' failed. Try another solver, or solve with verbose=True for more information.",
     "output_type": "error",
     "traceback": [
      "\u001b[0;31m---------------------------------------------------------------------------\u001b[0m",
      "\u001b[0;31mSolverError\u001b[0m                               Traceback (most recent call last)",
      "Cell \u001b[0;32mIn[19], line 3\u001b[0m\n\u001b[1;32m      1\u001b[0m \u001b[38;5;66;03m# Solve the SDP\u001b[39;00m\n\u001b[1;32m      2\u001b[0m prob \u001b[38;5;241m=\u001b[39m cp\u001b[38;5;241m.\u001b[39mProblem(objective, constraints)\n\u001b[0;32m----> 3\u001b[0m \u001b[43mprob\u001b[49m\u001b[38;5;241;43m.\u001b[39;49m\u001b[43msolve\u001b[49m\u001b[43m(\u001b[49m\u001b[43msolver\u001b[49m\u001b[38;5;241;43m=\u001b[39;49m\u001b[43mcp\u001b[49m\u001b[38;5;241;43m.\u001b[39;49m\u001b[43mMOSEK\u001b[49m\u001b[43m,\u001b[49m\u001b[43m \u001b[49m\u001b[43mverbose\u001b[49m\u001b[38;5;241;43m=\u001b[39;49m\u001b[38;5;28;43;01mTrue\u001b[39;49;00m\u001b[43m)\u001b[49m\n\u001b[1;32m      5\u001b[0m \u001b[38;5;66;03m# Print results\u001b[39;00m\n\u001b[1;32m      6\u001b[0m \u001b[38;5;28mprint\u001b[39m(\u001b[38;5;124m\"\u001b[39m\u001b[38;5;124mOptimal cost:\u001b[39m\u001b[38;5;124m\"\u001b[39m, prob\u001b[38;5;241m.\u001b[39mvalue)\n",
      "File \u001b[0;32m~/VSDP/env/lib/python3.12/site-packages/cvxpy/problems/problem.py:577\u001b[0m, in \u001b[0;36mProblem.solve\u001b[0;34m(self, *args, **kwargs)\u001b[0m\n\u001b[1;32m    574\u001b[0m         \u001b[38;5;28;01mraise\u001b[39;00m \u001b[38;5;167;01mValueError\u001b[39;00m(\n\u001b[1;32m    575\u001b[0m             \u001b[38;5;124m\"\u001b[39m\u001b[38;5;124mCannot specify both \u001b[39m\u001b[38;5;124m'\u001b[39m\u001b[38;5;124msolver\u001b[39m\u001b[38;5;124m'\u001b[39m\u001b[38;5;124m and \u001b[39m\u001b[38;5;124m'\u001b[39m\u001b[38;5;124msolver_path\u001b[39m\u001b[38;5;124m'\u001b[39m\u001b[38;5;124m. Please choose one.\u001b[39m\u001b[38;5;124m\"\u001b[39m)\n\u001b[1;32m    576\u001b[0m     \u001b[38;5;28;01mreturn\u001b[39;00m \u001b[38;5;28mself\u001b[39m\u001b[38;5;241m.\u001b[39m_solve_solver_path(solve_func,solver_path, args, kwargs)\n\u001b[0;32m--> 577\u001b[0m \u001b[38;5;28;01mreturn\u001b[39;00m \u001b[43msolve_func\u001b[49m\u001b[43m(\u001b[49m\u001b[38;5;28;43mself\u001b[39;49m\u001b[43m,\u001b[49m\u001b[43m \u001b[49m\u001b[38;5;241;43m*\u001b[39;49m\u001b[43margs\u001b[49m\u001b[43m,\u001b[49m\u001b[43m \u001b[49m\u001b[38;5;241;43m*\u001b[39;49m\u001b[38;5;241;43m*\u001b[39;49m\u001b[43mkwargs\u001b[49m\u001b[43m)\u001b[49m\n",
      "File \u001b[0;32m~/VSDP/env/lib/python3.12/site-packages/cvxpy/problems/problem.py:1164\u001b[0m, in \u001b[0;36mProblem._solve\u001b[0;34m(self, solver, warm_start, verbose, gp, qcp, requires_grad, enforce_dpp, ignore_dpp, canon_backend, **kwargs)\u001b[0m\n\u001b[1;32m   1162\u001b[0m end \u001b[38;5;241m=\u001b[39m time\u001b[38;5;241m.\u001b[39mtime()\n\u001b[1;32m   1163\u001b[0m \u001b[38;5;28mself\u001b[39m\u001b[38;5;241m.\u001b[39m_solve_time \u001b[38;5;241m=\u001b[39m end \u001b[38;5;241m-\u001b[39m start\n\u001b[0;32m-> 1164\u001b[0m \u001b[38;5;28;43mself\u001b[39;49m\u001b[38;5;241;43m.\u001b[39;49m\u001b[43munpack_results\u001b[49m\u001b[43m(\u001b[49m\u001b[43msolution\u001b[49m\u001b[43m,\u001b[49m\u001b[43m \u001b[49m\u001b[43msolving_chain\u001b[49m\u001b[43m,\u001b[49m\u001b[43m \u001b[49m\u001b[43minverse_data\u001b[49m\u001b[43m)\u001b[49m\n\u001b[1;32m   1165\u001b[0m \u001b[38;5;28;01mif\u001b[39;00m verbose:\n\u001b[1;32m   1166\u001b[0m     \u001b[38;5;28mprint\u001b[39m(_FOOTER)\n",
      "File \u001b[0;32m~/VSDP/env/lib/python3.12/site-packages/cvxpy/problems/problem.py:1489\u001b[0m, in \u001b[0;36mProblem.unpack_results\u001b[0;34m(self, solution, chain, inverse_data)\u001b[0m\n\u001b[1;32m   1487\u001b[0m     warnings\u001b[38;5;241m.\u001b[39mwarn(INF_OR_UNB_MESSAGE)\n\u001b[1;32m   1488\u001b[0m \u001b[38;5;28;01mif\u001b[39;00m solution\u001b[38;5;241m.\u001b[39mstatus \u001b[38;5;129;01min\u001b[39;00m s\u001b[38;5;241m.\u001b[39mERROR:\n\u001b[0;32m-> 1489\u001b[0m     \u001b[38;5;28;01mraise\u001b[39;00m error\u001b[38;5;241m.\u001b[39mSolverError(\n\u001b[1;32m   1490\u001b[0m             \u001b[38;5;124m\"\u001b[39m\u001b[38;5;124mSolver \u001b[39m\u001b[38;5;124m'\u001b[39m\u001b[38;5;132;01m%s\u001b[39;00m\u001b[38;5;124m'\u001b[39m\u001b[38;5;124m failed. \u001b[39m\u001b[38;5;124m\"\u001b[39m \u001b[38;5;241m%\u001b[39m chain\u001b[38;5;241m.\u001b[39msolver\u001b[38;5;241m.\u001b[39mname() \u001b[38;5;241m+\u001b[39m\n\u001b[1;32m   1491\u001b[0m             \u001b[38;5;124m\"\u001b[39m\u001b[38;5;124mTry another solver, or solve with verbose=True for more \u001b[39m\u001b[38;5;124m\"\u001b[39m\n\u001b[1;32m   1492\u001b[0m             \u001b[38;5;124m\"\u001b[39m\u001b[38;5;124minformation.\u001b[39m\u001b[38;5;124m\"\u001b[39m)\n\u001b[1;32m   1494\u001b[0m \u001b[38;5;28mself\u001b[39m\u001b[38;5;241m.\u001b[39munpack(solution)\n\u001b[1;32m   1495\u001b[0m \u001b[38;5;28mself\u001b[39m\u001b[38;5;241m.\u001b[39m_solver_stats \u001b[38;5;241m=\u001b[39m SolverStats\u001b[38;5;241m.\u001b[39mfrom_dict(\u001b[38;5;28mself\u001b[39m\u001b[38;5;241m.\u001b[39m_solution\u001b[38;5;241m.\u001b[39mattr,\n\u001b[1;32m   1496\u001b[0m                                  chain\u001b[38;5;241m.\u001b[39msolver\u001b[38;5;241m.\u001b[39mname())\n",
      "\u001b[0;31mSolverError\u001b[0m: Solver 'MOSEK' failed. Try another solver, or solve with verbose=True for more information."
     ]
    }
   ],
   "source": [
    "# Solve the SDP\n",
    "prob = cp.Problem(objective, constraints)\n",
    "prob.solve(solver=cp.MOSEK, verbose=True)\n",
    "\n",
    "# Print results\n",
    "print(\"Optimal cost:\", prob.value)\n",
    "print(\"Optimal voltage matrix X:\\n\", X.value)"
   ]
  },
  {
   "cell_type": "code",
   "execution_count": null,
   "metadata": {},
   "outputs": [],
   "source": []
  }
 ],
 "metadata": {
  "kernelspec": {
   "display_name": "env",
   "language": "python",
   "name": "python3"
  },
  "language_info": {
   "codemirror_mode": {
    "name": "ipython",
    "version": 3
   },
   "file_extension": ".py",
   "mimetype": "text/x-python",
   "name": "python",
   "nbconvert_exporter": "python",
   "pygments_lexer": "ipython3",
   "version": "3.12.3"
  }
 },
 "nbformat": 4,
 "nbformat_minor": 2
}
