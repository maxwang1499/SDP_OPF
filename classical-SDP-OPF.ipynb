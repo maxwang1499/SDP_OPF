{
 "cells": [
  {
   "cell_type": "markdown",
   "metadata": {},
   "source": [
    "## Classical SDP relaxation of OPF\n",
    "As a first step, we present a simple implementation of the classical SDP formulation of the Optimnal Power Flow problem using CVXPY."
   ]
  },
  {
   "cell_type": "markdown",
   "metadata": {},
   "source": [
    "### Setup\n",
    "We start by importing pandapower for the test cases;\n",
    "CVXPY, an open source Python-embedded modeling language for convex optimization problems;\n",
    "MOSEK, a large scale optimization software. "
   ]
  },
  {
   "cell_type": "code",
   "execution_count": 1,
   "metadata": {},
   "outputs": [],
   "source": [
    "import pandapower.networks as nw\n",
    "import pandapower as pp\n",
    "import numpy as np\n",
    "import cvxpy as cp\n",
    "from scipy.sparse import csr_matrix\n",
    "import mosek"
   ]
  },
  {
   "cell_type": "markdown",
   "metadata": {},
   "source": [
    "### 1st-Example\n",
    "Let's first construct a small, 5-bus grid ourselves to really understand each step.\n",
    "\n",
    "#### Define Variables and admittance matrix"
   ]
  },
  {
   "cell_type": "code",
   "execution_count": 2,
   "metadata": {},
   "outputs": [],
   "source": [
    "n = 5  # Number of buses\n",
    "G = [0, 1]  # Generator buses are either on or off\n",
    "N = range(n)  # All buses\n",
    "Y = np.random.randn(n, n) + 1j * np.random.randn(n, n)  # Admittance matrix\n",
    "c2 = np.array([0.1, 0.2])  # Quadratic cost coefficients\n",
    "c1 = np.array([10, 20])  # Linear cost coefficients\n",
    "c0 = np.array([100, 200])  # Constant cost coefficients\n",
    "P_min = np.array([0, 0])  # Minimum active power\n",
    "P_max = np.array([100, 150])  # Maximum active power\n",
    "Q_min = np.array([-50, -50])  # Minimum reactive power\n",
    "Q_max = np.array([50, 50])  # Maximum reactive power\n",
    "V_min = 0.95  # Minimum voltage magnitude\n",
    "V_max = 1.05  # Maximum voltage magnitude\n",
    "S_max = 200  # Maximum apparent power flow"
   ]
  },
  {
   "cell_type": "markdown",
   "metadata": {},
   "source": [
    "#### Define Optimization Variables\n",
    "Let's define the power flow constraint variables (P, Q) and the PSD matrix (X)."
   ]
  },
  {
   "cell_type": "code",
   "execution_count": 3,
   "metadata": {},
   "outputs": [],
   "source": [
    "# Define optimization variables\n",
    "X = cp.Variable((n, n), hermitian=True)  # X = VV^+\n",
    "P = cp.Variable(len(G))  # Active power generation\n",
    "Q = cp.Variable(len(G))  # Reactive power generation"
   ]
  },
  {
   "cell_type": "markdown",
   "metadata": {},
   "source": [
    "#### Define Objective function"
   ]
  },
  {
   "cell_type": "code",
   "execution_count": 4,
   "metadata": {},
   "outputs": [],
   "source": [
    "# Define objective\n",
    "objective = cp.Minimize(cp.sum(c2 @ cp.square(P) + c1 @ P + c0))"
   ]
  },
  {
   "cell_type": "markdown",
   "metadata": {},
   "source": [
    "#### Constraints"
   ]
  },
  {
   "cell_type": "code",
   "execution_count": 5,
   "metadata": {},
   "outputs": [],
   "source": [
    "constraints = [X >> 0]  # X is positive semidefinite\n",
    "for i in G:\n",
    "    constraints += [P_min[i] <= P[i], P[i] <= P_max[i]]\n",
    "    constraints += [Q_min[i] <= Q[i], Q[i] <= Q_max[i]]\n",
    "for i in N:\n",
    "    constraints += [V_min**2 <= cp.real(X[i, i]), cp.real(X[i, i]) <= V_max**2]\n",
    "for i in N:\n",
    "    for j in N:\n",
    "        if i != j:\n",
    "            S_ij = Y[i, j].conj() * X[i, j]\n",
    "            constraints += [cp.abs(S_ij) <= S_max]"
   ]
  },
  {
   "cell_type": "markdown",
   "metadata": {},
   "source": [
    "#### Solve the problem using cvxpy's SDP solvers. (probably IPM)"
   ]
  },
  {
   "cell_type": "code",
   "execution_count": 7,
   "metadata": {},
   "outputs": [
    {
     "name": "stdout",
     "output_type": "stream",
     "text": [
      "Optimal value: 300.0000000001779\n",
      "X matrix: [[1.00235207+0.j 0.        +0.j 0.        +0.j 0.        +0.j\n",
      "  0.        +0.j]\n",
      " [0.        +0.j 1.00235207+0.j 0.        +0.j 0.        +0.j\n",
      "  0.        +0.j]\n",
      " [0.        +0.j 0.        +0.j 1.00235207+0.j 0.        +0.j\n",
      "  0.        +0.j]\n",
      " [0.        +0.j 0.        +0.j 0.        +0.j 1.00235207+0.j\n",
      "  0.        +0.j]\n",
      " [0.        +0.j 0.        +0.j 0.        +0.j 0.        +0.j\n",
      "  1.00235207+0.j]]\n",
      "P: [2.82054517e-12 3.03767099e-12]\n",
      "Q: [-50. -50.]\n"
     ]
    }
   ],
   "source": [
    "problem = cp.Problem(objective, constraints)\n",
    "# Solve using a free solver (e.g., ECOS)\n",
    "problem.solve()\n",
    "\n",
    "# Print results\n",
    "print(\"Optimal value:\", problem.value)\n",
    "print(\"X matrix:\", X.value)\n",
    "print(\"P:\", P.value)\n",
    "print(\"Q:\", Q.value)"
   ]
  },
  {
   "cell_type": "markdown",
   "metadata": {},
   "source": [
    "### Load Network Data\n",
    "Now,let's make a function that loads the IEEE test cases from Pandapower."
   ]
  },
  {
   "cell_type": "code",
   "execution_count": 2,
   "metadata": {},
   "outputs": [],
   "source": [
    "# Select IEEE test case\n",
    "def load_network(case):\n",
    "    if case == 14:\n",
    "        return nw.case14()\n",
    "    elif case == 30:\n",
    "        return nw.case30()\n",
    "    elif case == 57:\n",
    "        return nw.case57()\n",
    "    elif case == 118:\n",
    "        return nw.case118()\n",
    "    else:\n",
    "        raise ValueError(\"Unsupported test case\")"
   ]
  },
  {
   "cell_type": "code",
   "execution_count": 3,
   "metadata": {},
   "outputs": [],
   "source": [
    "# Load the chosen IEEE test case\n",
    "case_number = 30 # Change to 30, 57, or 118 for larger cases\n",
    "net = load_network(case_number)\n",
    "pp.runpp(net)  # Run power flow to initialize values"
   ]
  },
  {
   "cell_type": "markdown",
   "metadata": {},
   "source": [
    "When a power flow is carried out, the element based grid model is translated into a bus-branch model. That bus-branch model is stored in a data structure that is based on the PYPOWER/MATPOWER casefile (with some extensions). This ppc can be accessed after power flow using net._ppc\n",
    "We will get the bus admittance matrix using exactly that and extract all the parameters we need."
   ]
  },
  {
   "cell_type": "code",
   "execution_count": 4,
   "metadata": {},
   "outputs": [
    {
     "data": {
      "text/plain": [
       "array([12.7,  1.2,  1.6, 10.9, 30. ,  2. ,  7.5,  1.6,  2.5,  1.8,  5.8,\n",
       "        0.9,  3.4,  0.7, 11.2,  1.6,  6.7,  2.3,  0.9,  1.9])"
      ]
     },
     "execution_count": 4,
     "metadata": {},
     "output_type": "execute_result"
    }
   ],
   "source": [
    "#Example of what the bus-branch model look like\n",
    "# net._ppc \n",
    "net.load[\"q_mvar\"].values"
   ]
  },
  {
   "cell_type": "code",
   "execution_count": 5,
   "metadata": {},
   "outputs": [],
   "source": [
    "# Now, we extract network parameters\n",
    "Ybus = net._ppc[\"internal\"][\"Ybus\"].todense() # Bus admittance matrix (we need todense since the matrices are stored as sparcse matrices, but dense are easier to work with)\n",
    "n = len(net.bus)  # Number of buses\n",
    "branch = net.line  # Get each transmission line's specification for line constraints\n",
    "\n",
    "# Extract generator information for generation constraints\n",
    "gen_buses = net.gen[\"bus\"].values #.values convert the dataframe to numpy arrays\n",
    "Pg_min = net.gen[\"min_p_mw\"].values #minimal real power generation limit\n",
    "Pg_max = net.gen[\"max_p_mw\"].values #maximum real power generation limit\n",
    "Q_min = net.gen[\"min_q_mvar\"].values #minimal reactive power generation limit\n",
    "Q_max = net.gen[\"max_q_mvar\"].values #maximum real power generation limit\n",
    "\n",
    "# Extract non-generator buses for generation constraints\n",
    "Pd = np.zeros(n)  # Default to zero\n",
    "Qd = np.zeros(n)\n",
    "Pd[net.load[\"bus\"].values] = net.load[\"p_mw\"].values #load real power demand\n",
    "Qd[net.load[\"bus\"].values] = net.load[\"q_mvar\"].values #load reactive power demand\n",
    "\n",
    "# Voltage limits\n",
    "V_min = net.bus[\"min_vm_pu\"].values ** 2  # Squared for SDP\n",
    "V_max = net.bus[\"max_vm_pu\"].values ** 2"
   ]
  },
  {
   "cell_type": "markdown",
   "metadata": {},
   "source": [
    "### Define Variable\n",
    "Define the SDP Matrix X in CVXPY. We want X to be PSD. If X is rank-1, then our solution is the global optimal. In most power system cases, X is rank-1.\n",
    "Represents voltage relations in SDP relaxation."
   ]
  },
  {
   "cell_type": "code",
   "execution_count": 9,
   "metadata": {},
   "outputs": [],
   "source": [
    "# Define an arbitrary n x n Hermitian X (Directly enforcing X= V V^+ will require X to be rank-1, which is too strict. We use the power balance, PSD and voltage constraints to guide this arbitrary X to X = VV^+)\n",
    "X = cp.Variable((n, n), hermitian=True)\n",
    "\n",
    "# Objective function: Minimize Pg, the matrix representing the real power generation at each generator \n",
    "Pg = cp.real(cp.trace(X @ Ybus))  # P_g = XY. The trace sums up all the power generation and estimate the cost. We also ensure Pg is real-valued\n",
    "c2 = np.array([0.1, 0.2])  # Quadratic cost coefficients\n",
    "c1 = np.array([10, 20])  # Linear cost coefficients\n",
    "objective = cp.Minimize(cp.sum(c2 * Pg**2 + c1 * Pg)) #Objective function\n",
    "\n",
    "# Constraints\n",
    "constraints = []\n",
    "\n",
    "# Power balance equations (real and reactive)\n",
    "for i in range(n):\n",
    "    P_i = cp.real(Ybus[i, :] @ X @ Ybus[:,i])  # Extract real power injection at bus i\n",
    "    Q_i = cp.imag(Ybus[i, :] @ X @ Ybus[:,i])  # Extract reactive power injection at bus i\n",
    "\n",
    "    # If bus is a generator bus, enforce generation limits\n",
    "    if i in gen_buses:\n",
    "        idx = np.where(gen_buses == i)[0][0]  # Get generator index\n",
    "        constraints.append(Pg_min[idx] <= P_i)\n",
    "        constraints.append(P_i <= Pg_max[idx])\n",
    "        constraints.append(Q_min[idx] <= Q_i)\n",
    "        constraints.append(Q_i <= Q_max[idx])\n",
    "    else:\n",
    "        # For non-generator buses, enforce power balance constraints\n",
    "        constraints.append(P_i == -Pd[i])\n",
    "        constraints.append(Q_i == -Qd[i])\n",
    "\n",
    "\n",
    "# Voltage magnitude constraints\n",
    "for i in range(n):\n",
    "    constraints.append(V_min[i] <= cp.real(X[i, i]))\n",
    "    constraints.append(cp.real(X[i, i]) <= V_max[i])\n",
    "\n",
    "# Positive semidefinite constraint\n",
    "constraints.append(X >> 0)"
   ]
  },
  {
   "cell_type": "markdown",
   "metadata": {},
   "source": [
    "### Solve using cvxpy's SDP solver"
   ]
  },
  {
   "cell_type": "code",
   "execution_count": 10,
   "metadata": {},
   "outputs": [
    {
     "name": "stdout",
     "output_type": "stream",
     "text": [
      "Optimal cost: inf\n",
      "Optimal voltage matrix X:\n",
      " None\n"
     ]
    },
    {
     "name": "stderr",
     "output_type": "stream",
     "text": [
      "/home/catz0449/VSDP/env/lib/python3.12/site-packages/mosek/__init__.py:18617: UserWarning: Argument sub in putvarboundlist: Incorrect array format causing data to be copied\n",
      "  warnings.warn(\"Argument sub in putvarboundlist: Incorrect array format causing data to be copied\");\n",
      "/home/catz0449/VSDP/env/lib/python3.12/site-packages/mosek/__init__.py:18925: UserWarning: Argument subj in putclist: Incorrect array format causing data to be copied\n",
      "  warnings.warn(\"Argument subj in putclist: Incorrect array format causing data to be copied\");\n",
      "/home/catz0449/VSDP/env/lib/python3.12/site-packages/mosek/__init__.py:18349: UserWarning: Argument sub in putconboundlist: Incorrect array format causing data to be copied\n",
      "  warnings.warn(\"Argument sub in putconboundlist: Incorrect array format causing data to be copied\");\n"
     ]
    }
   ],
   "source": [
    "# Solve the SDP\n",
    "prob = cp.Problem(objective, constraints)\n",
    "prob.solve(solver=cp.MOSEK)\n",
    "\n",
    "# Print results\n",
    "print(\"Optimal cost:\", prob.value)\n",
    "print(\"Optimal voltage matrix X:\\n\", X.value)"
   ]
  },
  {
   "cell_type": "code",
   "execution_count": null,
   "metadata": {},
   "outputs": [],
   "source": []
  }
 ],
 "metadata": {
  "kernelspec": {
   "display_name": "env",
   "language": "python",
   "name": "python3"
  },
  "language_info": {
   "codemirror_mode": {
    "name": "ipython",
    "version": 3
   },
   "file_extension": ".py",
   "mimetype": "text/x-python",
   "name": "python",
   "nbconvert_exporter": "python",
   "pygments_lexer": "ipython3",
   "version": "3.12.3"
  }
 },
 "nbformat": 4,
 "nbformat_minor": 2
}
