{
 "cells": [
  {
   "cell_type": "markdown",
   "metadata": {},
   "source": [
    "## Classical SDP relaxation of OPF\n",
    "As a first step, we present a simple implementation of the classical SDP formulation of the Optimnal Power Flow problem using CVXPY."
   ]
  },
  {
   "cell_type": "markdown",
   "metadata": {},
   "source": [
    "### Setup\n",
    "We start by importing pandapower for the test cases;\n",
    "CVXPY, an open source Python-embedded modeling language for convex optimization problems;\n",
    "MOSEK, a large scale optimization software. "
   ]
  },
  {
   "cell_type": "code",
   "execution_count": 2,
   "metadata": {},
   "outputs": [],
   "source": [
    "import pandapower.networks as nw\n",
    "import pandapower as pp\n",
    "import numpy as np\n",
    "import cvxpy as cp\n",
    "from scipy.sparse import csr_matrix\n",
    "import mosek\n",
    "import plotly.express as px"
   ]
  },
  {
   "cell_type": "markdown",
   "metadata": {},
   "source": [
    "### Load Network Data\n",
    "Now,let's make a function that loads the IEEE test cases from Pandapower."
   ]
  },
  {
   "cell_type": "code",
   "execution_count": 78,
   "metadata": {},
   "outputs": [],
   "source": [
    "# Select IEEE test case\n",
    "def load_network(case):\n",
    "    if case == 14:\n",
    "        return nw.case14()\n",
    "    elif case == 30:\n",
    "        return nw.case30()\n",
    "    elif case == 57:\n",
    "        return nw.case57()\n",
    "    elif case == 118:\n",
    "        return nw.case118()\n",
    "    else:\n",
    "        raise ValueError(\"Unsupported test case\")"
   ]
  },
  {
   "cell_type": "code",
   "execution_count": 79,
   "metadata": {},
   "outputs": [],
   "source": [
    "# Load the chosen IEEE test case\n",
    "case_number = 118 # Change to 30, 57, or 118 for larger cases\n",
    "net = load_network(case_number)\n",
    "\n",
    "pp.runpp(net)  # Run power flow to initialize values"
   ]
  },
  {
   "cell_type": "markdown",
   "metadata": {},
   "source": [
    "When a power flow is carried out, the element based grid model is translated into a bus-branch model. That bus-branch model is stored in a data structure that is based on the PYPOWER/MATPOWER casefile (with some extensions). This ppc can be accessed after power flow using net._ppc\n",
    "We will get the bus admittance matrix using exactly that and extract all the parameters we need."
   ]
  },
  {
   "cell_type": "code",
   "execution_count": 80,
   "metadata": {},
   "outputs": [
    {
     "name": "stdout",
     "output_type": "stream",
     "text": [
      "The number of generators matches the number of cost coefficients\n"
     ]
    }
   ],
   "source": [
    "\n",
    "#make sure all units are consistent (convert everything to per unit)\n",
    "Sbase = net.sn_mva # unit value for power MVA\n",
    "Vbase = 135 # unit value for voltage kV\n",
    "Zbase = Vbase**2 / Sbase # base impedance in Ohms\n",
    "Ybase = 1 / Zbase # base admittance in S\n",
    "\n",
    "#Now, we extract network parameters\n",
    "Ybus = net._ppc[\"internal\"][\"Ybus\"].todense() # Bus admittance matrix (Already in per unit. We need todense since the matrices are stored as sparcse matrices, but dense are easier to work with)\n",
    "n = len(net.bus)  # Number of buses\n",
    "# slack_bus = net.gen.bus.values[0]  # Index of the slack bus\n",
    "branch = net.line  # Get each transmission line's specification for line constraints\n",
    "#we need to add line flow constraints\n",
    "\n",
    "# Extract generator information for generation constraints\n",
    "gen_buses = net.gen[\"bus\"].values #index of the generators.\n",
    "min_p_mw = net.gen[\"min_p_mw\"].values #minimal real power\n",
    "max_p_mw = net.gen[\"max_p_mw\"].values\n",
    "min_q_mw = net.gen[\"min_q_mvar\"].values #minimal reactive power\n",
    "max_q_mw = net.gen[\"max_q_mvar\"].values\n",
    "\n",
    "# Extract load buses for generation constraints\n",
    "load_buses = net.load[\"bus\"].values #index of the load buses.\n",
    "#load active and reactive power for load\n",
    "p_load = np.zeros(n)\n",
    "q_load = np.zeros(n)\n",
    "for i,row in net.load.iterrows():\n",
    "    p_load[row['bus']] = -row['p_mw'] #negative sign because pandapower defines load as positive, but we need it as negative for consumption\n",
    "    q_load[row['bus']] = -row['q_mvar']\n",
    "\n",
    "# Voltage limits\n",
    "min_v_pu = net.bus[\"min_vm_pu\"].values ** 2  # Squared for SDP\n",
    "max_v_pu = net.bus[\"max_vm_pu\"].values ** 2\n",
    "\n",
    "# Slack bus voltage\n",
    "vm_slack = net.ext_grid['vm_pu'][0] #initial voltage of the slack\n",
    "\n",
    "# Extract generator cost coefficients from net.poly_cost\n",
    "cost = net.poly_cost.drop([0])\n",
    "c2 = cost[\"cp2_eur_per_mw2\"].values   # Quadratic cost coefficients\n",
    "c1 = cost[\"cp1_eur_per_mw\"].values   # Linear cost coefficients\n",
    "c0 = cost[\"cp0_eur\"].values         # Constant cost coefficients\n",
    "\n",
    "# Ensure the cost coefficients have the correct size\n",
    "if len(c2) != len(gen_buses):\n",
    "    print(\"The number of generators does not match the number of cost coefficients\")\n",
    "elif len(c1) != len(gen_buses):\n",
    "    print(\"The number of generators does not match the number of cost coefficients\")\n",
    "elif len(c0) != len(gen_buses):\n",
    "    print(\"The number of generators does not match the number of cost coefficients\")\n",
    "else:\n",
    "    print(\"The number of generators matches the number of cost coefficients\")\n",
    "\n",
    "\n",
    "# # Make the cost matrix\n",
    "# C = np.zeros((n, n))\n",
    "# for i, gen_bus in enumerate(gen_buses):\n",
    "#     C[gen_bus, gen_bus] = c2[i]\n",
    "\n",
    "# # Print the cost matrix\n",
    "# np.set_printoptions(precision=10, suppress=True)\n",
    "# print(C)"
   ]
  },
  {
   "cell_type": "markdown",
   "metadata": {},
   "source": [
    "### Define Variables and the objective function\n",
    "The problem we are trying to solve in SDP OPF is\n",
    "$$min \\space \\space trCW$$\n",
    "subjected to $W \\succcurlyeq 0$ and other linear constraints, which are\n",
    "\n",
    "**Active Power Flow**\n",
    "$$p_{min, j} \\le tr (\\Phi_jW_B) \\le p_{max, j}$$\n",
    "where $\\Phi_j = \\frac{1}{2}(Y^H_j + Y_j)$\n",
    "\n",
    "**Reactive Power Flow**\n",
    "$$q_{min, j} \\le tr (\\Psi_jW_B) \\le q_{max, j}$$\n",
    "where $\\Psi_j = \\frac{1}{2i}(Y^H_j + Y_j)$\n",
    "\n",
    "**Voltage Magnitude Constraints**\n",
    "$$v_{min, j} \\le tr (J_jW_B) \\le v_{max, j}$$\n",
    "where J is the Hermitian matrix with a single 1 in the (j,j)th entry and zero everywhere else.\n",
    "\n",
    "Now, we won't directly use Low's objective function, $tr(CW)$, because while it is elegant, this form is linear in W, so it can only express linear objectives such as \n",
    "$$ \\sum_jc_{1j}Re(tr(\\phi_jW)) = Re(tr(CW)) $$\n",
    "But quadratic cost requires adding a coefficient to power squared, which means we have to find C such as \n",
    "$$(tr(\\phi_jW))^2 = tr(CW)$$\n",
    "Such C doesn't exist. Instead, we will use the following equivalent objective function:\n",
    "$$\\sum_{j \\in \\mathcal{G}} ( c_{2j} tr(\\Phi_j W)^2 + c_{1j} tr(\\Phi_j W))$$"
   ]
  },
  {
   "cell_type": "code",
   "execution_count": 81,
   "metadata": {},
   "outputs": [],
   "source": [
    "# Define an arbitrary n x n Hermitian W (Directly enforcing W= V V^+ will require X to be rank-1, which is too strict. We use the power balance, PSD and voltage constraints to guide this arbitrary X to X = VV^+)\n",
    "W = cp.Variable((n, n), hermitian=True)\n",
    "\n",
    "# Define phi and psi matrices for each bus as the constraints\n",
    "Phi = [] # Hermitian part of Y_j\n",
    "Psi = [] # Skewed Hermitian part of Y_j\n",
    "J = [] # Hermitian matrix with a single 1 in the (j,j)th entry and zero everywhere else.\n",
    "for j in range(n):\n",
    "    Y_j = np.zeros_like(Ybus,dtype=complex) #Y_j is the admittance matrix with only the j-th row, everything else is zero\n",
    "    Y_j[j,:] = Ybus[j,:]\n",
    "    Y_j_H = np.conj(Y_j).T #Hermitian of Y_j\n",
    "    \n",
    "    J_j= np.zeros_like(Ybus,dtype=complex)\n",
    "    J_j[j,j] = 1\n",
    "\n",
    "    Phi_j = 1/2 * (Y_j_H + Y_j) \n",
    "    Psi_j = 1/(2j) * (Y_j_H - Y_j)\n",
    "\n",
    "    Phi.append(Phi_j) \n",
    "    Psi.append(Psi_j)\n",
    "    J.append(J_j)\n",
    "\n",
    "# # Define the objective function, which is the sum of the costs of all generators\n",
    "# objective_terms = cp.sum([\n",
    "#     c2[i] * (cp.real(cp.trace(Phi[gen_buses[i]] @ W))*Sbase)**2 + \n",
    "#     c1[i] * cp.real(cp.trace(Phi[gen_buses[i]] @ W))*Sbase for i in range(len(gen_buses))])\n",
    "# objective = cp.Minimize(objective_terms)\n",
    "################################################################################\n",
    "# Define the objective function\n",
    "\n",
    "# Initialize \n",
    "C = []\n",
    "X = []\n",
    "\n",
    "for i in range(len(gen_buses)):\n",
    "    # Real power generation at generator i\n",
    "    a = cp.real(cp.trace(Phi[gen_buses[i]] @ W)) * Sbase\n",
    "\n",
    "    # Define the cost matrix for generator i\n",
    "    C_i = cp.Constant(np.array([[c2[i], 0], [0, c1[i]]]))\n",
    "    C.append(C_i)\n",
    "\n",
    "    # Define the variable matrix for generator i\n",
    "    X_i = cp.vstack([\n",
    "        cp.hstack([a**2, 0]),\n",
    "        cp.hstack([0, a])\n",
    "    ])\n",
    "    X.append(X_i)\n",
    "\n",
    "objective_terms = cp.sum([\n",
    "    cp.trace(C[i] @ X[i]) for i in range(len(gen_buses))\n",
    "])\n",
    "\n",
    "objective = cp.Minimize(objective_terms)\n",
    "\n",
    "# #######################################################\n",
    "\n",
    "# # Generator power injection vector\n",
    "# a = cp.Variable(n)\n",
    "\n",
    "# #Define the vector containing the quadratic coefficient\n",
    "# C2 = np.zeros((n, 1))\n",
    "# for i, gen_bus in enumerate(gen_buses):\n",
    "#      C2[gen_bus, 0] = c2[i]\n",
    "\n",
    "# # Define the vector containing the linear coefficient\n",
    "# C1 = np.zeros((n, 1))\n",
    "# for i, gen_bus in enumerate(gen_buses):\n",
    "#      C1[gen_bus, 0] = c1[i]\n",
    "\n",
    "# # Define the vector containing the constant\n",
    "# C0 = np.zeros((n, 1))\n",
    "# for i, gen_bus in enumerate(gen_buses):\n",
    "#      C0[gen_bus, 0] = c0[i]\n",
    "\n",
    "# zero = np.zeros((n, 1))\n",
    "# # Define the Cost Matrix\n",
    "# C = np.hstack([C2, zero, C0, C1])\n",
    "\n",
    "\n",
    "# # Define the Variable Matrix X\n",
    "# X = np.array([cp.matmul(cp.reshape(a, (n, 1)), cp.reshape(a, (1, n))), 1, np.zeros((1,n)), a])\n",
    "\n",
    "# # Define the objective function\n",
    "# objective = cp.Minimize(cp.trace(C @ X))\n",
    "# ############################################################################\n",
    "\n",
    "\n",
    "# # Define lifted matrix X = [[1, a^T], [a, a a^T]]\n",
    "# X = cp.bmat([\n",
    "#     [np.ones((1, 1)), cp.reshape(a, (1, n))],\n",
    "#     [cp.reshape(a, (n, 1)), cp.matmul(cp.reshape(a, (n, 1)), cp.reshape(a, (1, n)))]\n",
    "# ])\n",
    "\n",
    "# # Construct cost matrix C\n",
    "# C_upper = np.hstack([np.array([[np.sum(c0)]]), 0.5 * c1.reshape(1, -1)])  # shape (1, n+1)\n",
    "# C_lower = np.hstack([0.5 * c1.reshape(-1, 1), np.diag(c2)])               # shape (n, n+1)\n",
    "# C = C_upper.copy()\n",
    "# C = np.vstack([C_upper, C_lower])  # shape (n+1, n+1)\n",
    "# C = cp.Constant(C)  \n",
    "\n",
    "\n",
    "\n",
    "##############################################################################\n",
    "\n",
    "# Constraints\n",
    "constraints = []\n",
    "\n",
    "for j in range(n):\n",
    "    if j == 0:\n",
    "        # For the slack bus, we fix the voltage magnitude\n",
    "        constraints.append(cp.abs(cp.real(cp.trace(J[j] @ W))-(vm_slack)**2) <= 1e-5)\n",
    "    else:\n",
    "\n",
    "        # Voltage magnitude constraints\n",
    "        constraints.append(min_v_pu[j]<=cp.real(cp.trace(J[j] @ W)))\n",
    "        constraints.append(cp.real(cp.trace(J[j] @ W))<=max_v_pu[j])\n",
    "    \n",
    "    # #Change of variables\n",
    "    # constraints.append(a[j] == cp.real(cp.trace(Phi[j] @ W)))*Sbase\n",
    "\n",
    "    # Power balance equations (real and reactive)\n",
    "    Pin_j = cp.trace(Phi[j]@W)*Sbase\n",
    "    Qin_j = cp.trace(Psi[j]@W)*Sbase\n",
    "\n",
    "    # If bus is a generator bus, enforce generation limits\n",
    "    if j in gen_buses:\n",
    "        idx = np.where(gen_buses == j)[0][0]  # Get generator index\n",
    "        constraints.append(min_p_mw[idx] <= cp.real(Pin_j))\n",
    "        constraints.append(cp.real(Pin_j) <= max_p_mw[idx])\n",
    "        constraints.append(min_q_mw[idx] <= cp.real(Qin_j))\n",
    "        constraints.append(cp.real(Qin_j) <= max_q_mw[idx])\n",
    "    else:\n",
    "        # For non-generator buses, enforce power balance constraints\n",
    "        constraints.append(cp.real(Pin_j) == p_load[j])\n",
    "        constraints.append(cp.real(Qin_j) == q_load[j])\n",
    "\n",
    "# Positive semidefinite constraint\n",
    "constraints.append(W >> 0)"
   ]
  },
  {
   "cell_type": "markdown",
   "metadata": {},
   "source": [
    "### Solve using cvxpy's SDP solver"
   ]
  },
  {
   "cell_type": "code",
   "execution_count": 82,
   "metadata": {},
   "outputs": [
    {
     "name": "stderr",
     "output_type": "stream",
     "text": [
      "/home/catz0449/VSDP/env/lib/python3.12/site-packages/mosek/__init__.py:18617: UserWarning:\n",
      "\n",
      "Argument sub in putvarboundlist: Incorrect array format causing data to be copied\n",
      "\n",
      "/home/catz0449/VSDP/env/lib/python3.12/site-packages/mosek/__init__.py:18925: UserWarning:\n",
      "\n",
      "Argument subj in putclist: Incorrect array format causing data to be copied\n",
      "\n",
      "/home/catz0449/VSDP/env/lib/python3.12/site-packages/mosek/__init__.py:18349: UserWarning:\n",
      "\n",
      "Argument sub in putconboundlist: Incorrect array format causing data to be copied\n",
      "\n"
     ]
    },
    {
     "name": "stdout",
     "output_type": "stream",
     "text": [
      "p min (MW): [0. 0. 0. 0. 0. 0. 0. 0. 0. 0. 0. 0. 0. 0. 0. 0. 0. 0. 0. 0. 0. 0. 0. 0.\n",
      " 0. 0. 0. 0. 0. 0. 0. 0. 0. 0. 0. 0. 0. 0. 0. 0. 0. 0. 0. 0. 0. 0. 0. 0.\n",
      " 0. 0. 0. 0. 0.]\n",
      "p max:(MW) [100. 100. 100. 100. 550. 185. 100. 100. 100. 100. 320. 414. 100. 107.\n",
      " 100. 100. 100. 100. 100. 119. 304. 148. 100. 100. 255. 260. 100. 491.\n",
      " 492. 100. 100. 100. 100. 100. 100. 577. 100. 104. 707. 100. 100. 100.\n",
      " 100. 352. 140. 100. 100. 100. 100. 136. 100. 100. 100.]\n",
      "q min (MW): [   -5.  -300.   -13.  -300.  -147.   -35.   -10.   -16.    -8.  -300.\n",
      "   -47. -1000.  -300.  -300.   -14.    -8.    -8.  -300.  -300.  -100.\n",
      "   -85.  -300.    -8.    -8.   -60.  -100.   -20.   -67.   -67.   -10.\n",
      "  -100.  -100.    -6.    -8.   -20.  -165.    -8.  -100.  -210.  -300.\n",
      "  -100.    -3.  -100.   -50.   -15.    -8.    -8.  -200.    -8.  -100.\n",
      "  -100.  -100. -1000.]\n",
      "q max (MW): [  15.  300.   50.  300.  200.  120.   30.   50.   24.  300.  140. 1000.\n",
      "  300.  300.   42.   24.   24.  300.  300.  100.  210.  300.   23.   15.\n",
      "  180.  300.   20.  200.  200.   32.  100.  100.    9.   23.   70.  280.\n",
      "   23. 1000.  300.  300.  100.    9.  100.  155.   40.   23.   23.  200.\n",
      "   23. 1000. 1000.  200. 1000.]\n",
      "Problem Status: optimal\n",
      "Optimal cost EUR: 34717.17840031049\n",
      "Real power generation in MW (SDP OPF): [0.00010830307592968325, 99.99870551923192, 99.99968047081778, 0.00010245846562284555, 3.485469802223773, 0.00010675793284953272, 0.00010474704055241091, 0.0001038292852140188, 0.00010457680081898957, 9.750522806939443e-05, 9.19550009930752, 0.00010025478540259813, 95.2569880562584, 23.209268320030763, 9.887287131249423e-05, 0.00010148048534830423, 75.43588888439281, 75.45497500783567, 9.734457211418857e-05, 118.99952143212471, 181.7380280179271, 147.999673461262, 9.623443120165831e-05, 9.604250399419811e-05, 0.00010151694174176384, 0.00010343341454444044, 0.00010359970454842937, 0.00010252304195601525, 0.00010125703888697046, 99.99976017719577, 9.524345712108584e-05, 1.778688978219778, 99.99978470452358, 99.99975398442058, 0.00010958362910429287, 0.00010992754422289863, 0.00011881621766463013, 0.00012491270404146881, 136.2613504340885, 21.400490550622585, 0.00011188886617219396, 0.00011445462515524696, 0.00011485680326828174, 0.00011695124744193208, 46.90181906175361, 20.168563587727917, 0.00011842515830196021, 0.00012036927214964521, 0.00011714074457103152, 0.00011730667499598724, 0.00011728355104878574, 0.00010252058997295421, 0.00010354680544111261]\n",
      "Reactive power generation in MW (SDP OPF): [0.0, 1.7763568394002505e-13, -8.881784197001252e-14, 0.0, 0.0, 1.3322676295501878e-13, 1.7763568394002505e-13, 4.440892098500626e-14, 0.0, 0.0, -2.220446049250313e-14, 4.163336342344337e-15, 2.220446049250313e-14, 8.881784197001252e-14, 0.0, -1.7763568394002505e-13, 0.0, 0.0, -2.220446049250313e-14, 0.0, 8.881784197001252e-14, -4.9960036108132044e-14, 2.4424906541753444e-13, 8.881784197001252e-14, 4.440892098500626e-14, 0.0, 8.881784197001252e-14, 1.1102230246251565e-14, 4.440892098500626e-14, 3.7470027081099033e-14, 2.220446049250313e-14, 0.0, 4.440892098500626e-14, 0.0, -1.7763568394002505e-13, -1.7763568394002505e-13, 0.0, 0.0, -4.440892098500626e-14, -2.220446049250313e-14, 0.0, 0.0, -2.220446049250313e-14, 0.0, 0.0, 0.0, -8.881784197001252e-14, 2.220446049250313e-14, 8.881784197001252e-14, 0.0, 0.0, 0.0, 0.0]\n",
      "Voltage magnitudes in pu(SDP OPF): [1.0349998101730993, 1.0321608034283685, 1.03304098377348, 1.045075264573026, 1.0407316729946785, 1.0469069251228746, 1.0430125951662546, 1.035953954461729, 1.0554653002665588, 1.0354205466745179, 1.0331002199244959, 1.0381487188912388, 1.023232379874222, 1.0387781677730406, 1.0436407652843325, 1.033766838261498, 1.0468097657580835, 1.0451447660009037, 1.0440283721331278, 1.034592275393163, 1.0312526616101934, 1.035576140019228, 1.049068693639164, 1.0483285034182108, 1.0478711352413075, 1.0262378041498044, 1.0565516349698278, 1.0491491488716298, 1.048483714357944, 1.0218443952933862, 1.051221912138009, 1.0517672988203335, 1.0391190770963366, 1.0520814442671493, 1.0526764673708453, 1.0545526901034525, 1.050827765890846, 1.0017154339380125, 1.049595117876263, 1.058798237310018, 1.0519033048279953, 1.056786858306241, 1.042627396219427, 1.042914065096051, 1.0403072888118143, 1.0599897159348088, 1.0530821875023593, 1.056857992116172, 1.0549079242908148, 1.0506601364407406, 1.0419377180169873, 1.0387723345360425, 1.0422369690076327, 1.0592334846201776, 1.0569898972744611, 1.057365870665066, 1.0523388244828598, 1.0464798277620577, 1.045920314123576, 1.038392990110983, 1.0394524425562652, 1.039692495474272, 0.9975665674304826, 1.0010596019106281, 0.9923910394092263, 1.0456148316224965, 1.0374209347349377, 0.9851306330583586, 1.0431021853338678, 1.0534329256631265, 1.047384171317588, 1.0445690337047877, 1.0388239892007134, 1.0599967375796102, 1.0472536715517384, 1.0494507529389874, 1.0345967705164683, 1.0283691841134588, 1.027727771747896, 1.03845434775253, 0.9764443807013572, 1.0187477751312375, 1.0211156590632278, 1.0227137213290987, 1.0298902254794216, 1.0193832215330947, 1.0270137116187377, 1.0293651976382368, 1.0414407232708702, 1.0432864745012242, 1.0407729371841783, 1.0365822592741218, 1.022934049271214, 1.0174300006586654, 1.0061815253969921, 1.015237195740572, 1.0220419498049784, 1.028359529631401, 1.03446265148734, 1.0326223401051131, 1.0221019375975504, 1.031060646036865, 1.0365595556820748, 1.0357719573153437, 1.0352197824689124, 1.0263942356197733, 1.0293755295760039, 1.0339851211844988, 1.0335774436205092, 1.0357828379383858, 1.0338615452820548, 1.034332559487396, 1.047133214049063, 1.0492899887604241, 1.0492377861683757, 0.9851335159686032, 1.0230217259942824, 1.0424760471054242]\n"
     ]
    }
   ],
   "source": [
    "# Solve the SDP\n",
    "prob = cp.Problem(objective, constraints)\n",
    "prob.solve(solver=cp.MOSEK)\n",
    "\n",
    "# Print constraints\n",
    "print(\"p min (MW):\", min_p_mw)\n",
    "print(\"p max:(MW)\", max_p_mw)\n",
    "print(\"q min (MW):\", min_q_mw)\n",
    "print(\"q max (MW):\", max_q_mw)\n",
    "\n",
    "# Print results\n",
    "print(\"Problem Status:\", prob.status)\n",
    "print(\"Optimal cost EUR:\", prob.value)\n",
    "P_g_sdp = [cp.real(cp.trace(Phi[j] @ W)).value * Sbase for j in gen_buses]\n",
    "print(\"Real power generation in MW (SDP OPF):\", P_g_sdp)\n",
    "Q_g_sdp = [cp.imag(cp.trace(Psi[j] @ W)).value * Sbase for j in gen_buses]\n",
    "print(\"Reactive power generation in MW (SDP OPF):\", Q_g_sdp)\n",
    "V_sdp = [np.sqrt(cp.real(W[j, j]).value) for j in range(n)]\n",
    "print(\"Voltage magnitudes in pu(SDP OPF):\", V_sdp)"
   ]
  },
  {
   "cell_type": "markdown",
   "metadata": {},
   "source": [
    "### Check whether the solution is physically feasible\n",
    "The semidefinite relaxation makes OPF convex, but also opens the door to:\n",
    "\n",
    "1. Inexact solutions (i.e., WW is not rank-1)\n",
    "\n",
    "2. Unrealistically cheap solutions that cannot occur in real networks.\n",
    "\n",
    "Let's check our solution."
   ]
  },
  {
   "cell_type": "code",
   "execution_count": 83,
   "metadata": {},
   "outputs": [
    {
     "name": "stdout",
     "output_type": "stream",
     "text": [
      "Rank of W: 11\n",
      "Power balance at bus 10 does not match load.\n",
      "Power balance at bus 59 does not match load.\n",
      "Power balance at bus 77 does not match load.\n"
     ]
    }
   ],
   "source": [
    "#Check the rank of W\n",
    "eigvals = np.linalg.eigvalsh(W.value)\n",
    "rank_W = np.sum(eigvals > 1e-6)  # numerical rank threshold\n",
    "print(\"Rank of W:\", rank_W)\n",
    "\n",
    "# Check if the solution is feasible\n",
    "for i in range(len(P_g_sdp)):\n",
    "    if P_g_sdp[i] < min_p_mw[i]:\n",
    "        print(f\"Generation at bus {i} is below the minimum limit.\")\n",
    "    elif i > max_p_mw[i]:\n",
    "        print(f\"Generation at bus {i} is above the maximum limit.\")\n",
    "\n",
    "# Check if the voltage magnitudes are within limits\n",
    "for i in range(n):\n",
    "    if V_sdp[i]**2 < min_v_pu[i]:\n",
    "        print(f\"Voltage at bus {i} is below the minimum limit.\")\n",
    "    elif V_sdp[i]**2 > max_v_pu[i]:\n",
    "        print(f\"Voltage at bus {i} is above the maximum limit.\")\n",
    "\n",
    "# Check if the power balance equations are satisfied\n",
    "for j in range(n):\n",
    "    Pin_j = cp.trace(Phi[j] @ W).value * Sbase\n",
    "    Qin_j = cp.trace(Psi[j] @ W).value * Sbase\n",
    "    if j in gen_buses:\n",
    "        idx = np.where(gen_buses == j)[0][0]  # Get generator index\n",
    "        if Pin_j < min_p_mw[idx]:\n",
    "            print(f\"Power balance at bus {j} is below the minimum limit.\")\n",
    "        elif Pin_j > max_p_mw[idx]:\n",
    "            print(f\"Power balance at bus {j} is above the maximum limit.\")\n",
    "    # If bus is a load bus, check if the power balance is approximately equal to the load\n",
    "    elif abs(Pin_j - p_load[j]) > 1e-5:\n",
    "            print(f\"Power balance at bus {j} does not match load.\")\n",
    "\n"
   ]
  },
  {
   "cell_type": "markdown",
   "metadata": {},
   "source": [
    "### Benchmark using Classical OPF"
   ]
  },
  {
   "cell_type": "code",
   "execution_count": 84,
   "metadata": {},
   "outputs": [
    {
     "name": "stdout",
     "output_type": "stream",
     "text": [
      "OPF Cost ($/hr): 129695.10150252415\n",
      "OPF Real power generation (OPF): [ 26.4353040902   0.0000219744   0.0449970318   0.0000189601\n",
      " 401.8393239623  85.7867413315  20.8390182059  13.1945571148\n",
      "  21.5588758194   0.0000207196 193.8551611659 279.8009796915\n",
      "  10.0275054455   7.2488694653  14.9659279454   4.7270909968\n",
      "  10.5172891241  49.2773378732  41.0038603609  19.0408631863\n",
      " 193.2687244613  49.5340168912  31.9518182612  32.3860854051\n",
      " 149.5875320109 148.2812571228   0.000011375  351.8835633279\n",
      " 348.6227291725   0.0000583914   0.0000654045   0.0001014011\n",
      "  18.2694997587  24.0492705173   0.0000137048 430.6960785674\n",
      "   0.0000065342   3.6296055098 502.3448955481   0.0000085188\n",
      "   0.0000077696   0.0000060731   0.0000107193 231.3083012431\n",
      "  38.2505372496   0.0002479993   5.4435336918  29.2709131578\n",
      "   7.1651185598  35.2388595819  36.6689559846   0.0000722986\n",
      "   0.0000070931]\n",
      "OPF Reactive power generation (OPF): [  14.9999486342   71.2279200281   33.2527081855  -78.2540501187\n",
      " -100.0330489384   54.432730658    23.9603957877   30.5660340457\n",
      "   23.9663299878   -3.4863326619  -46.9998897528  -23.8990032131\n",
      "   25.4613108809   27.2155869665   21.7722665619   -7.8694421572\n",
      "   20.1369250265   28.9214154104   22.4664627607   -3.7447304235\n",
      "   22.2203104695   34.8851041694   19.9129952523   14.9131899547\n",
      "   93.4514109859   33.1229457687    3.5138012931  -35.5218403496\n",
      "  -66.9999155571   27.163867774    -5.0722699067   -2.1483701382\n",
      "    8.9999414797   22.9999690697   69.9991315973   -2.6179919038\n",
      "   22.9998349079    3.1844852751  -14.9700031313   47.0853295461\n",
      "    1.4263255604    8.9998632813   -3.1197593237   45.7963163456\n",
      "   11.7793404561   22.8913277352    9.5715910501    3.3489673692\n",
      "   19.7902867285   -0.2332665705   10.3032335275  -10.1665254661\n",
      "   63.2413886078]\n",
      "OPF Voltage magnitudes (OPF): [1.0331665414 1.0387949203 1.0380069406 1.0599997464 1.0574737957\n",
      " 1.0526988365 1.0510198591 1.0410976987 1.0599999777 1.0528636527\n",
      " 1.0460068679 1.0499541091 1.0344682522 1.0487950582 1.0485214593\n",
      " 1.04613634   1.0599996132 1.0502800632 1.0476530381 1.0355791896\n",
      " 1.0303821134 1.0332510859 1.0468332614 1.0424664367 1.0599999866\n",
      " 1.0277789828 1.0407532756 1.034298464  1.0348961575 1.0314692375\n",
      " 1.0380463872 1.0402359307 1.0461310477 1.05587288   1.0539976852\n",
      " 1.0542761745 1.0599996643 1.0154146004 1.0420249373 1.0418236688\n",
      " 1.0345741577 1.0391320143 1.0386013092 1.0276596485 1.0214108169\n",
      " 1.0329043958 1.0382950068 1.0435656021 1.0461840745 1.036192\n",
      " 1.0196289409 1.0141669232 1.014153478  1.0294013567 1.0294296777\n",
      " 1.029092859  1.0294249349 1.0215954479 1.0465083906 1.0469780989\n",
      " 1.0494213241 1.0453778051 1.0163396163 1.0239206561 1.0175434355\n",
      " 1.0599999879 1.0472741984 1.0133193425 1.035        1.0204380181\n",
      " 1.0219103999 1.0288465399 1.0207155815 1.0030480373 1.0054602629\n",
      " 0.9961364673 1.0362041019 1.0319455883 1.0341904634 1.053590503\n",
      " 1.0076290805 1.0308432642 1.0342551596 1.038788067  1.0474575076\n",
      " 1.0408029664 1.052875585  1.046886743  1.0599999864 1.0412768979\n",
      " 1.0446138719 1.0483264152 1.0369459188 1.0336505675 1.0218131478\n",
      " 1.029739769  1.0370439055 1.0463179289 1.0492724023 1.0543468684\n",
      " 1.0396846798 1.0446863488 1.0473267276 1.0385218854 1.0362782733\n",
      " 1.0301610224 1.0301278378 1.0352562626 1.0349511642 1.037408461\n",
      " 1.0451388014 1.0300784797 1.0552905838 1.0359209764 1.0355659514\n",
      " 1.0155341304 1.0350699182 0.9949512128]\n"
     ]
    }
   ],
   "source": [
    "pp.runopp(net)\n",
    "\n",
    "#Print results\n",
    "opf_cost = net.res_cost\n",
    "print(\"OPF Cost ($/hr):\", opf_cost)\n",
    "P_g_opf = net.res_gen[\"p_mw\"].values\n",
    "print(\"OPF Real power generation (OPF):\", P_g_opf)\n",
    "Q_g_opf = net.res_gen[\"q_mvar\"].values\n",
    "print(\"OPF Reactive power generation (OPF):\", Q_g_opf)\n",
    "V_opf = net.res_bus[\"vm_pu\"].values\n",
    "print(\"OPF Voltage magnitudes (OPF):\", V_opf)"
   ]
  },
  {
   "cell_type": "markdown",
   "metadata": {},
   "source": [
    "### Comparison"
   ]
  },
  {
   "cell_type": "code",
   "execution_count": 85,
   "metadata": {},
   "outputs": [
    {
     "name": "stdout",
     "output_type": "stream",
     "text": [
      "SDP OPF Optimal cost (EUR): 34717.17840031049\n",
      "OPF Cost (EUR): 112834.738307196\n"
     ]
    }
   ],
   "source": [
    "print(\"SDP OPF Optimal cost (EUR):\", prob.value)\n",
    "print(\"OPF Cost (EUR):\", opf_cost*0.87)"
   ]
  },
  {
   "cell_type": "code",
   "execution_count": 86,
   "metadata": {},
   "outputs": [
    {
     "data": {
      "application/vnd.plotly.v1+json": {
       "config": {
        "plotlyServerURL": "https://plot.ly"
       },
       "data": [
        {
         "mode": "markers",
         "name": "SDP OPF Gen (MW)",
         "type": "scatter",
         "x": {
          "bdata": "AAAAAAMAAAAFAAAABwAAAAkAAAALAAAADgAAABEAAAASAAAAFwAAABgAAAAZAAAAGgAAAB4AAAAfAAAAIQAAACMAAAAnAAAAKQAAAC0AAAAwAAAANQAAADYAAAA3AAAAOgAAADwAAAA9AAAAQAAAAEEAAABFAAAARwAAAEgAAABJAAAASwAAAEwAAABPAAAAVAAAAFYAAABYAAAAWQAAAFoAAABbAAAAYgAAAGMAAABmAAAAZwAAAGgAAABqAAAAbQAAAG4AAABvAAAAcAAAAHMAAAA=",
          "dtype": "u4"
         },
         "y": [
          0.00010830307592968325,
          99.99870551923192,
          99.99968047081778,
          0.00010245846562284555,
          3.485469802223773,
          0.00010675793284953272,
          0.00010474704055241091,
          0.0001038292852140188,
          0.00010457680081898957,
          0.00009750522806939443,
          9.19550009930752,
          0.00010025478540259813,
          95.2569880562584,
          23.209268320030763,
          0.00009887287131249423,
          0.00010148048534830423,
          75.43588888439281,
          75.45497500783567,
          0.00009734457211418857,
          118.99952143212471,
          181.7380280179271,
          147.999673461262,
          0.00009623443120165831,
          0.00009604250399419811,
          0.00010151694174176384,
          0.00010343341454444044,
          0.00010359970454842937,
          0.00010252304195601525,
          0.00010125703888697046,
          99.99976017719577,
          0.00009524345712108584,
          1.778688978219778,
          99.99978470452358,
          99.99975398442058,
          0.00010958362910429287,
          0.00010992754422289863,
          0.00011881621766463013,
          0.00012491270404146881,
          136.2613504340885,
          21.400490550622585,
          0.00011188886617219396,
          0.00011445462515524696,
          0.00011485680326828174,
          0.00011695124744193208,
          46.90181906175361,
          20.168563587727917,
          0.00011842515830196021,
          0.00012036927214964521,
          0.00011714074457103152,
          0.00011730667499598724,
          0.00011728355104878574,
          0.00010252058997295421,
          0.00010354680544111261
         ]
        },
        {
         "mode": "markers",
         "name": "OPF Gen (MW)",
         "type": "scatter",
         "x": {
          "bdata": "AAAAAAMAAAAFAAAABwAAAAkAAAALAAAADgAAABEAAAASAAAAFwAAABgAAAAZAAAAGgAAAB4AAAAfAAAAIQAAACMAAAAnAAAAKQAAAC0AAAAwAAAANQAAADYAAAA3AAAAOgAAADwAAAA9AAAAQAAAAEEAAABFAAAARwAAAEgAAABJAAAASwAAAEwAAABPAAAAVAAAAFYAAABYAAAAWQAAAFoAAABbAAAAYgAAAGMAAABmAAAAZwAAAGgAAABqAAAAbQAAAG4AAABvAAAAcAAAAHMAAAA=",
          "dtype": "u4"
         },
         "y": {
          "bdata": "uAy/FnBvOkAG5MR3tAr3PtKlPdjZCac/BtdnrI3h8z5rivbebR15QHFVUPhZclVAeeWq5cnWNEAr5nr9nGMqQBemVnwSjzVAklZRQd+59T4lDfN6XTtoQOu9FNDQfHFABAuaMRUOJEBwNRmj1/4cQDWLjxuO7i1APRLSioroEkDuyLwe2gglQHCds85/o0hAL9gNf36AREBO+4ACdgozQMqZCmSZKGhAxpddqlrESEATf49cqvM/QIRAHj9rMUBAnIXuD82yYkCEAPAOAIliQLA0LULp2uc+QdJMEyP+dUBAYN2y9sl1QLEXLVcpnQ4/ijx6FDglET+wUMh16ZQaP93uqe/9RDJAEVUc/pwMOEAAl4CsuL3sPhmoRyMj63pAADVGWRJo2z7sdRCdbgkNQOG7MbGEZX9AefpLwXrd4T5Y6Dj+Q0vgPnTOWfP0eNk+9KBCEOB65j5Ok5Ga3elsQOTNxpoRIENAVvWRsLxAMD+r/jOyLcYVQFX4kJBaRT1AxND41hSpHECHT2bzkp5BQCwvhlmgVUJA0vnZ+t/zEj88xGOILcDdPg==",
          "dtype": "f8"
         }
        }
       ],
       "layout": {
        "template": {
         "data": {
          "bar": [
           {
            "error_x": {
             "color": "#2a3f5f"
            },
            "error_y": {
             "color": "#2a3f5f"
            },
            "marker": {
             "line": {
              "color": "#E5ECF6",
              "width": 0.5
             },
             "pattern": {
              "fillmode": "overlay",
              "size": 10,
              "solidity": 0.2
             }
            },
            "type": "bar"
           }
          ],
          "barpolar": [
           {
            "marker": {
             "line": {
              "color": "#E5ECF6",
              "width": 0.5
             },
             "pattern": {
              "fillmode": "overlay",
              "size": 10,
              "solidity": 0.2
             }
            },
            "type": "barpolar"
           }
          ],
          "carpet": [
           {
            "aaxis": {
             "endlinecolor": "#2a3f5f",
             "gridcolor": "white",
             "linecolor": "white",
             "minorgridcolor": "white",
             "startlinecolor": "#2a3f5f"
            },
            "baxis": {
             "endlinecolor": "#2a3f5f",
             "gridcolor": "white",
             "linecolor": "white",
             "minorgridcolor": "white",
             "startlinecolor": "#2a3f5f"
            },
            "type": "carpet"
           }
          ],
          "choropleth": [
           {
            "colorbar": {
             "outlinewidth": 0,
             "ticks": ""
            },
            "type": "choropleth"
           }
          ],
          "contour": [
           {
            "colorbar": {
             "outlinewidth": 0,
             "ticks": ""
            },
            "colorscale": [
             [
              0,
              "#0d0887"
             ],
             [
              0.1111111111111111,
              "#46039f"
             ],
             [
              0.2222222222222222,
              "#7201a8"
             ],
             [
              0.3333333333333333,
              "#9c179e"
             ],
             [
              0.4444444444444444,
              "#bd3786"
             ],
             [
              0.5555555555555556,
              "#d8576b"
             ],
             [
              0.6666666666666666,
              "#ed7953"
             ],
             [
              0.7777777777777778,
              "#fb9f3a"
             ],
             [
              0.8888888888888888,
              "#fdca26"
             ],
             [
              1,
              "#f0f921"
             ]
            ],
            "type": "contour"
           }
          ],
          "contourcarpet": [
           {
            "colorbar": {
             "outlinewidth": 0,
             "ticks": ""
            },
            "type": "contourcarpet"
           }
          ],
          "heatmap": [
           {
            "colorbar": {
             "outlinewidth": 0,
             "ticks": ""
            },
            "colorscale": [
             [
              0,
              "#0d0887"
             ],
             [
              0.1111111111111111,
              "#46039f"
             ],
             [
              0.2222222222222222,
              "#7201a8"
             ],
             [
              0.3333333333333333,
              "#9c179e"
             ],
             [
              0.4444444444444444,
              "#bd3786"
             ],
             [
              0.5555555555555556,
              "#d8576b"
             ],
             [
              0.6666666666666666,
              "#ed7953"
             ],
             [
              0.7777777777777778,
              "#fb9f3a"
             ],
             [
              0.8888888888888888,
              "#fdca26"
             ],
             [
              1,
              "#f0f921"
             ]
            ],
            "type": "heatmap"
           }
          ],
          "histogram": [
           {
            "marker": {
             "pattern": {
              "fillmode": "overlay",
              "size": 10,
              "solidity": 0.2
             }
            },
            "type": "histogram"
           }
          ],
          "histogram2d": [
           {
            "colorbar": {
             "outlinewidth": 0,
             "ticks": ""
            },
            "colorscale": [
             [
              0,
              "#0d0887"
             ],
             [
              0.1111111111111111,
              "#46039f"
             ],
             [
              0.2222222222222222,
              "#7201a8"
             ],
             [
              0.3333333333333333,
              "#9c179e"
             ],
             [
              0.4444444444444444,
              "#bd3786"
             ],
             [
              0.5555555555555556,
              "#d8576b"
             ],
             [
              0.6666666666666666,
              "#ed7953"
             ],
             [
              0.7777777777777778,
              "#fb9f3a"
             ],
             [
              0.8888888888888888,
              "#fdca26"
             ],
             [
              1,
              "#f0f921"
             ]
            ],
            "type": "histogram2d"
           }
          ],
          "histogram2dcontour": [
           {
            "colorbar": {
             "outlinewidth": 0,
             "ticks": ""
            },
            "colorscale": [
             [
              0,
              "#0d0887"
             ],
             [
              0.1111111111111111,
              "#46039f"
             ],
             [
              0.2222222222222222,
              "#7201a8"
             ],
             [
              0.3333333333333333,
              "#9c179e"
             ],
             [
              0.4444444444444444,
              "#bd3786"
             ],
             [
              0.5555555555555556,
              "#d8576b"
             ],
             [
              0.6666666666666666,
              "#ed7953"
             ],
             [
              0.7777777777777778,
              "#fb9f3a"
             ],
             [
              0.8888888888888888,
              "#fdca26"
             ],
             [
              1,
              "#f0f921"
             ]
            ],
            "type": "histogram2dcontour"
           }
          ],
          "mesh3d": [
           {
            "colorbar": {
             "outlinewidth": 0,
             "ticks": ""
            },
            "type": "mesh3d"
           }
          ],
          "parcoords": [
           {
            "line": {
             "colorbar": {
              "outlinewidth": 0,
              "ticks": ""
             }
            },
            "type": "parcoords"
           }
          ],
          "pie": [
           {
            "automargin": true,
            "type": "pie"
           }
          ],
          "scatter": [
           {
            "fillpattern": {
             "fillmode": "overlay",
             "size": 10,
             "solidity": 0.2
            },
            "type": "scatter"
           }
          ],
          "scatter3d": [
           {
            "line": {
             "colorbar": {
              "outlinewidth": 0,
              "ticks": ""
             }
            },
            "marker": {
             "colorbar": {
              "outlinewidth": 0,
              "ticks": ""
             }
            },
            "type": "scatter3d"
           }
          ],
          "scattercarpet": [
           {
            "marker": {
             "colorbar": {
              "outlinewidth": 0,
              "ticks": ""
             }
            },
            "type": "scattercarpet"
           }
          ],
          "scattergeo": [
           {
            "marker": {
             "colorbar": {
              "outlinewidth": 0,
              "ticks": ""
             }
            },
            "type": "scattergeo"
           }
          ],
          "scattergl": [
           {
            "marker": {
             "colorbar": {
              "outlinewidth": 0,
              "ticks": ""
             }
            },
            "type": "scattergl"
           }
          ],
          "scattermap": [
           {
            "marker": {
             "colorbar": {
              "outlinewidth": 0,
              "ticks": ""
             }
            },
            "type": "scattermap"
           }
          ],
          "scattermapbox": [
           {
            "marker": {
             "colorbar": {
              "outlinewidth": 0,
              "ticks": ""
             }
            },
            "type": "scattermapbox"
           }
          ],
          "scatterpolar": [
           {
            "marker": {
             "colorbar": {
              "outlinewidth": 0,
              "ticks": ""
             }
            },
            "type": "scatterpolar"
           }
          ],
          "scatterpolargl": [
           {
            "marker": {
             "colorbar": {
              "outlinewidth": 0,
              "ticks": ""
             }
            },
            "type": "scatterpolargl"
           }
          ],
          "scatterternary": [
           {
            "marker": {
             "colorbar": {
              "outlinewidth": 0,
              "ticks": ""
             }
            },
            "type": "scatterternary"
           }
          ],
          "surface": [
           {
            "colorbar": {
             "outlinewidth": 0,
             "ticks": ""
            },
            "colorscale": [
             [
              0,
              "#0d0887"
             ],
             [
              0.1111111111111111,
              "#46039f"
             ],
             [
              0.2222222222222222,
              "#7201a8"
             ],
             [
              0.3333333333333333,
              "#9c179e"
             ],
             [
              0.4444444444444444,
              "#bd3786"
             ],
             [
              0.5555555555555556,
              "#d8576b"
             ],
             [
              0.6666666666666666,
              "#ed7953"
             ],
             [
              0.7777777777777778,
              "#fb9f3a"
             ],
             [
              0.8888888888888888,
              "#fdca26"
             ],
             [
              1,
              "#f0f921"
             ]
            ],
            "type": "surface"
           }
          ],
          "table": [
           {
            "cells": {
             "fill": {
              "color": "#EBF0F8"
             },
             "line": {
              "color": "white"
             }
            },
            "header": {
             "fill": {
              "color": "#C8D4E3"
             },
             "line": {
              "color": "white"
             }
            },
            "type": "table"
           }
          ]
         },
         "layout": {
          "annotationdefaults": {
           "arrowcolor": "#2a3f5f",
           "arrowhead": 0,
           "arrowwidth": 1
          },
          "autotypenumbers": "strict",
          "coloraxis": {
           "colorbar": {
            "outlinewidth": 0,
            "ticks": ""
           }
          },
          "colorscale": {
           "diverging": [
            [
             0,
             "#8e0152"
            ],
            [
             0.1,
             "#c51b7d"
            ],
            [
             0.2,
             "#de77ae"
            ],
            [
             0.3,
             "#f1b6da"
            ],
            [
             0.4,
             "#fde0ef"
            ],
            [
             0.5,
             "#f7f7f7"
            ],
            [
             0.6,
             "#e6f5d0"
            ],
            [
             0.7,
             "#b8e186"
            ],
            [
             0.8,
             "#7fbc41"
            ],
            [
             0.9,
             "#4d9221"
            ],
            [
             1,
             "#276419"
            ]
           ],
           "sequential": [
            [
             0,
             "#0d0887"
            ],
            [
             0.1111111111111111,
             "#46039f"
            ],
            [
             0.2222222222222222,
             "#7201a8"
            ],
            [
             0.3333333333333333,
             "#9c179e"
            ],
            [
             0.4444444444444444,
             "#bd3786"
            ],
            [
             0.5555555555555556,
             "#d8576b"
            ],
            [
             0.6666666666666666,
             "#ed7953"
            ],
            [
             0.7777777777777778,
             "#fb9f3a"
            ],
            [
             0.8888888888888888,
             "#fdca26"
            ],
            [
             1,
             "#f0f921"
            ]
           ],
           "sequentialminus": [
            [
             0,
             "#0d0887"
            ],
            [
             0.1111111111111111,
             "#46039f"
            ],
            [
             0.2222222222222222,
             "#7201a8"
            ],
            [
             0.3333333333333333,
             "#9c179e"
            ],
            [
             0.4444444444444444,
             "#bd3786"
            ],
            [
             0.5555555555555556,
             "#d8576b"
            ],
            [
             0.6666666666666666,
             "#ed7953"
            ],
            [
             0.7777777777777778,
             "#fb9f3a"
            ],
            [
             0.8888888888888888,
             "#fdca26"
            ],
            [
             1,
             "#f0f921"
            ]
           ]
          },
          "colorway": [
           "#636efa",
           "#EF553B",
           "#00cc96",
           "#ab63fa",
           "#FFA15A",
           "#19d3f3",
           "#FF6692",
           "#B6E880",
           "#FF97FF",
           "#FECB52"
          ],
          "font": {
           "color": "#2a3f5f"
          },
          "geo": {
           "bgcolor": "white",
           "lakecolor": "white",
           "landcolor": "#E5ECF6",
           "showlakes": true,
           "showland": true,
           "subunitcolor": "white"
          },
          "hoverlabel": {
           "align": "left"
          },
          "hovermode": "closest",
          "mapbox": {
           "style": "light"
          },
          "paper_bgcolor": "white",
          "plot_bgcolor": "#E5ECF6",
          "polar": {
           "angularaxis": {
            "gridcolor": "white",
            "linecolor": "white",
            "ticks": ""
           },
           "bgcolor": "#E5ECF6",
           "radialaxis": {
            "gridcolor": "white",
            "linecolor": "white",
            "ticks": ""
           }
          },
          "scene": {
           "xaxis": {
            "backgroundcolor": "#E5ECF6",
            "gridcolor": "white",
            "gridwidth": 2,
            "linecolor": "white",
            "showbackground": true,
            "ticks": "",
            "zerolinecolor": "white"
           },
           "yaxis": {
            "backgroundcolor": "#E5ECF6",
            "gridcolor": "white",
            "gridwidth": 2,
            "linecolor": "white",
            "showbackground": true,
            "ticks": "",
            "zerolinecolor": "white"
           },
           "zaxis": {
            "backgroundcolor": "#E5ECF6",
            "gridcolor": "white",
            "gridwidth": 2,
            "linecolor": "white",
            "showbackground": true,
            "ticks": "",
            "zerolinecolor": "white"
           }
          },
          "shapedefaults": {
           "line": {
            "color": "#2a3f5f"
           }
          },
          "ternary": {
           "aaxis": {
            "gridcolor": "white",
            "linecolor": "white",
            "ticks": ""
           },
           "baxis": {
            "gridcolor": "white",
            "linecolor": "white",
            "ticks": ""
           },
           "bgcolor": "#E5ECF6",
           "caxis": {
            "gridcolor": "white",
            "linecolor": "white",
            "ticks": ""
           }
          },
          "title": {
           "x": 0.05
          },
          "xaxis": {
           "automargin": true,
           "gridcolor": "white",
           "linecolor": "white",
           "ticks": "",
           "title": {
            "standoff": 15
           },
           "zerolinecolor": "white",
           "zerolinewidth": 2
          },
          "yaxis": {
           "automargin": true,
           "gridcolor": "white",
           "linecolor": "white",
           "ticks": "",
           "title": {
            "standoff": 15
           },
           "zerolinecolor": "white",
           "zerolinewidth": 2
          }
         }
        },
        "title": {
         "text": "Generator Real Power Comparison"
        },
        "xaxis": {
         "title": {
          "text": "Generator Bus"
         }
        },
        "yaxis": {
         "title": {
          "text": "P (MW)"
         }
        }
       }
      }
     },
     "metadata": {},
     "output_type": "display_data"
    }
   ],
   "source": [
    "import plotly.graph_objects as go\n",
    "\n",
    "# Generator power plot\n",
    "gen_fig = go.Figure()\n",
    "gen_fig.add_trace(go.Scatter(x=gen_buses, y=P_g_sdp, mode='markers', name='SDP OPF Gen (MW)'))\n",
    "gen_fig.add_trace(go.Scatter(x=gen_buses, y=P_g_opf, mode='markers', name='OPF Gen (MW)'))\n",
    "gen_fig.update_layout(title=\"Generator Real Power Comparison\", xaxis_title=\"Generator Bus\", yaxis_title=\"P (MW)\")\n",
    "gen_fig.show()"
   ]
  },
  {
   "cell_type": "code",
   "execution_count": 87,
   "metadata": {},
   "outputs": [
    {
     "data": {
      "application/vnd.plotly.v1+json": {
       "config": {
        "plotlyServerURL": "https://plot.ly"
       },
       "data": [
        {
         "mode": "markers+lines",
         "name": "SDP OPF V (pu)",
         "type": "scatter",
         "x": [
          0,
          1,
          2,
          3,
          4,
          5,
          6,
          7,
          8,
          9,
          10,
          11,
          12,
          13,
          14,
          15,
          16,
          17,
          18,
          19,
          20,
          21,
          22,
          23,
          24,
          25,
          26,
          27,
          28,
          29,
          30,
          31,
          32,
          33,
          34,
          35,
          36,
          37,
          38,
          39,
          40,
          41,
          42,
          43,
          44,
          45,
          46,
          47,
          48,
          49,
          50,
          51,
          52,
          53,
          54,
          55,
          56,
          57,
          58,
          59,
          60,
          61,
          62,
          63,
          64,
          65,
          66,
          67,
          68,
          69,
          70,
          71,
          72,
          73,
          74,
          75,
          76,
          77,
          78,
          79,
          80,
          81,
          82,
          83,
          84,
          85,
          86,
          87,
          88,
          89,
          90,
          91,
          92,
          93,
          94,
          95,
          96,
          97,
          98,
          99,
          100,
          101,
          102,
          103,
          104,
          105,
          106,
          107,
          108,
          109,
          110,
          111,
          112,
          113,
          114,
          115,
          116,
          117
         ],
         "y": [
          1.0349998101730993,
          1.0321608034283685,
          1.03304098377348,
          1.045075264573026,
          1.0407316729946785,
          1.0469069251228746,
          1.0430125951662546,
          1.035953954461729,
          1.0554653002665588,
          1.0354205466745179,
          1.0331002199244959,
          1.0381487188912388,
          1.023232379874222,
          1.0387781677730406,
          1.0436407652843325,
          1.033766838261498,
          1.0468097657580835,
          1.0451447660009037,
          1.0440283721331278,
          1.034592275393163,
          1.0312526616101934,
          1.035576140019228,
          1.049068693639164,
          1.0483285034182108,
          1.0478711352413075,
          1.0262378041498044,
          1.0565516349698278,
          1.0491491488716298,
          1.048483714357944,
          1.0218443952933862,
          1.051221912138009,
          1.0517672988203335,
          1.0391190770963366,
          1.0520814442671493,
          1.0526764673708453,
          1.0545526901034525,
          1.050827765890846,
          1.0017154339380125,
          1.049595117876263,
          1.058798237310018,
          1.0519033048279953,
          1.056786858306241,
          1.042627396219427,
          1.042914065096051,
          1.0403072888118143,
          1.0599897159348088,
          1.0530821875023593,
          1.056857992116172,
          1.0549079242908148,
          1.0506601364407406,
          1.0419377180169873,
          1.0387723345360425,
          1.0422369690076327,
          1.0592334846201776,
          1.0569898972744611,
          1.057365870665066,
          1.0523388244828598,
          1.0464798277620577,
          1.045920314123576,
          1.038392990110983,
          1.0394524425562652,
          1.039692495474272,
          0.9975665674304826,
          1.0010596019106281,
          0.9923910394092263,
          1.0456148316224965,
          1.0374209347349377,
          0.9851306330583586,
          1.0431021853338678,
          1.0534329256631265,
          1.047384171317588,
          1.0445690337047877,
          1.0388239892007134,
          1.0599967375796102,
          1.0472536715517384,
          1.0494507529389874,
          1.0345967705164683,
          1.0283691841134588,
          1.027727771747896,
          1.03845434775253,
          0.9764443807013572,
          1.0187477751312375,
          1.0211156590632278,
          1.0227137213290987,
          1.0298902254794216,
          1.0193832215330947,
          1.0270137116187377,
          1.0293651976382368,
          1.0414407232708702,
          1.0432864745012242,
          1.0407729371841783,
          1.0365822592741218,
          1.022934049271214,
          1.0174300006586654,
          1.0061815253969921,
          1.015237195740572,
          1.0220419498049784,
          1.028359529631401,
          1.03446265148734,
          1.0326223401051131,
          1.0221019375975504,
          1.031060646036865,
          1.0365595556820748,
          1.0357719573153437,
          1.0352197824689124,
          1.0263942356197733,
          1.0293755295760039,
          1.0339851211844988,
          1.0335774436205092,
          1.0357828379383858,
          1.0338615452820548,
          1.034332559487396,
          1.047133214049063,
          1.0492899887604241,
          1.0492377861683757,
          0.9851335159686032,
          1.0230217259942824,
          1.0424760471054242
         ]
        },
        {
         "mode": "markers+lines",
         "name": "OPF V (pu)",
         "type": "scatter",
         "x": [
          0,
          1,
          2,
          3,
          4,
          5,
          6,
          7,
          8,
          9,
          10,
          11,
          12,
          13,
          14,
          15,
          16,
          17,
          18,
          19,
          20,
          21,
          22,
          23,
          24,
          25,
          26,
          27,
          28,
          29,
          30,
          31,
          32,
          33,
          34,
          35,
          36,
          37,
          38,
          39,
          40,
          41,
          42,
          43,
          44,
          45,
          46,
          47,
          48,
          49,
          50,
          51,
          52,
          53,
          54,
          55,
          56,
          57,
          58,
          59,
          60,
          61,
          62,
          63,
          64,
          65,
          66,
          67,
          68,
          69,
          70,
          71,
          72,
          73,
          74,
          75,
          76,
          77,
          78,
          79,
          80,
          81,
          82,
          83,
          84,
          85,
          86,
          87,
          88,
          89,
          90,
          91,
          92,
          93,
          94,
          95,
          96,
          97,
          98,
          99,
          100,
          101,
          102,
          103,
          104,
          105,
          106,
          107,
          108,
          109,
          110,
          111,
          112,
          113,
          114,
          115,
          116,
          117
         ],
         "y": {
          "bdata": "OiKpo9mH8D8vpRxs557wP7Y9ayqtm/A/qRVLS8L18D8E2o2kaevwPx4JNLza1/A/D/4lM/rQ8D+LTXwPVqjwP1FLXonC9fA/5Ce6jofY8D/3UZKycbzwP9eKDq6czPA/XbwAlS6N8D+OoLVT3cfwP6XcEHC+xvA/wFB5dfm88D8uOIUnwvXwP24TsHfyzfA/8TgE1S/D8D/wk/57u5HwPzMKdvRxfPA/k01lSjKI8D9xd+Q71L/wP914SUnxrfA/4sfDi8L18D/qQ+lfyHHwP1V7IejspvA/35zPi3yM8D9O5/RF747wP9skIePlgPA/T65Nh9ab8D+2JGpuzqTwP0A11ujzvPA/le8H9trk8D97wj6tLN3wP5AnqbFQ3vA/93E+NcL18D8/NkxhIz/wPyDjNVcirPA/5YmcS0+r8D9HdMyhnY3wP0JTG+RIoPA/NLYLaBye8D+fw1w+S3HwP/HTaN6yV/A/tcV7wsaG8D+NJKA525zwP3y3Q9hxsvA/2cIbgyu98D/YNAQQPpTwP6zes29mUPA/h1Z+GAc68D+TKU//+DnwPzOzlI5tePA/O1vzQIt48D/nPNwSKnfwP1gu0keGePA/Pfjnd3RY8D8dwwiVf77wP9lfZhtswPA/6rOoA27K8D/dHdET3rnwP0lpWlTtQvA/B885oPph8D8nlB2g20fwP1KLGozC9fA/JOX/lqLB8D8ef8ZXjjbwP4re9Chcj/A/duu10LZT8D8ZEC64vlnwPw64FMondvA/LleT3NlU8D8ZrkYZfAzwP0v0KIBdFvA/tdKulVng7z8v/JfASpTwPz0cj2DZgvA/AqWhTAuM8D8T9x63gdvwP0j5sKs/H/A/umuugVV+8D8Rd2YjT4zwP8FHdjzgnvA/gE2yzWLC8D+1teICIafwP2CywhGU2PA/66g7UAzA8D86ZLaLwvXwPybb6fYRqfA/aqINCb228D86BU7r8cXwP8kajZpUl/A/qC9wLdWJ8D/3REe+WFnwP633dGjQefA/lyKtWbuX8D+0nV3et73wP9FwxdvRyfA/23Rk0pre8D/5Qx5njKLwP8PZaQgJt/A/LpS0q9nB8D9DnuAfyZ3wP5+v1YaYlPA/G0jKH4p78D9dz+BTZ3vwP3y77d5okPA/KsOz8yiP8D+4f0ydOZnwP5VKv3bjuPA/TwxqkjN78D+z5BRheOLwP+Qsrd8hk/A/jtVkmq2R8D9cHGK3oD/wPzflenmlj/A/VOQI7aPW7z8=",
          "dtype": "f8"
         }
        }
       ],
       "layout": {
        "template": {
         "data": {
          "bar": [
           {
            "error_x": {
             "color": "#2a3f5f"
            },
            "error_y": {
             "color": "#2a3f5f"
            },
            "marker": {
             "line": {
              "color": "#E5ECF6",
              "width": 0.5
             },
             "pattern": {
              "fillmode": "overlay",
              "size": 10,
              "solidity": 0.2
             }
            },
            "type": "bar"
           }
          ],
          "barpolar": [
           {
            "marker": {
             "line": {
              "color": "#E5ECF6",
              "width": 0.5
             },
             "pattern": {
              "fillmode": "overlay",
              "size": 10,
              "solidity": 0.2
             }
            },
            "type": "barpolar"
           }
          ],
          "carpet": [
           {
            "aaxis": {
             "endlinecolor": "#2a3f5f",
             "gridcolor": "white",
             "linecolor": "white",
             "minorgridcolor": "white",
             "startlinecolor": "#2a3f5f"
            },
            "baxis": {
             "endlinecolor": "#2a3f5f",
             "gridcolor": "white",
             "linecolor": "white",
             "minorgridcolor": "white",
             "startlinecolor": "#2a3f5f"
            },
            "type": "carpet"
           }
          ],
          "choropleth": [
           {
            "colorbar": {
             "outlinewidth": 0,
             "ticks": ""
            },
            "type": "choropleth"
           }
          ],
          "contour": [
           {
            "colorbar": {
             "outlinewidth": 0,
             "ticks": ""
            },
            "colorscale": [
             [
              0,
              "#0d0887"
             ],
             [
              0.1111111111111111,
              "#46039f"
             ],
             [
              0.2222222222222222,
              "#7201a8"
             ],
             [
              0.3333333333333333,
              "#9c179e"
             ],
             [
              0.4444444444444444,
              "#bd3786"
             ],
             [
              0.5555555555555556,
              "#d8576b"
             ],
             [
              0.6666666666666666,
              "#ed7953"
             ],
             [
              0.7777777777777778,
              "#fb9f3a"
             ],
             [
              0.8888888888888888,
              "#fdca26"
             ],
             [
              1,
              "#f0f921"
             ]
            ],
            "type": "contour"
           }
          ],
          "contourcarpet": [
           {
            "colorbar": {
             "outlinewidth": 0,
             "ticks": ""
            },
            "type": "contourcarpet"
           }
          ],
          "heatmap": [
           {
            "colorbar": {
             "outlinewidth": 0,
             "ticks": ""
            },
            "colorscale": [
             [
              0,
              "#0d0887"
             ],
             [
              0.1111111111111111,
              "#46039f"
             ],
             [
              0.2222222222222222,
              "#7201a8"
             ],
             [
              0.3333333333333333,
              "#9c179e"
             ],
             [
              0.4444444444444444,
              "#bd3786"
             ],
             [
              0.5555555555555556,
              "#d8576b"
             ],
             [
              0.6666666666666666,
              "#ed7953"
             ],
             [
              0.7777777777777778,
              "#fb9f3a"
             ],
             [
              0.8888888888888888,
              "#fdca26"
             ],
             [
              1,
              "#f0f921"
             ]
            ],
            "type": "heatmap"
           }
          ],
          "histogram": [
           {
            "marker": {
             "pattern": {
              "fillmode": "overlay",
              "size": 10,
              "solidity": 0.2
             }
            },
            "type": "histogram"
           }
          ],
          "histogram2d": [
           {
            "colorbar": {
             "outlinewidth": 0,
             "ticks": ""
            },
            "colorscale": [
             [
              0,
              "#0d0887"
             ],
             [
              0.1111111111111111,
              "#46039f"
             ],
             [
              0.2222222222222222,
              "#7201a8"
             ],
             [
              0.3333333333333333,
              "#9c179e"
             ],
             [
              0.4444444444444444,
              "#bd3786"
             ],
             [
              0.5555555555555556,
              "#d8576b"
             ],
             [
              0.6666666666666666,
              "#ed7953"
             ],
             [
              0.7777777777777778,
              "#fb9f3a"
             ],
             [
              0.8888888888888888,
              "#fdca26"
             ],
             [
              1,
              "#f0f921"
             ]
            ],
            "type": "histogram2d"
           }
          ],
          "histogram2dcontour": [
           {
            "colorbar": {
             "outlinewidth": 0,
             "ticks": ""
            },
            "colorscale": [
             [
              0,
              "#0d0887"
             ],
             [
              0.1111111111111111,
              "#46039f"
             ],
             [
              0.2222222222222222,
              "#7201a8"
             ],
             [
              0.3333333333333333,
              "#9c179e"
             ],
             [
              0.4444444444444444,
              "#bd3786"
             ],
             [
              0.5555555555555556,
              "#d8576b"
             ],
             [
              0.6666666666666666,
              "#ed7953"
             ],
             [
              0.7777777777777778,
              "#fb9f3a"
             ],
             [
              0.8888888888888888,
              "#fdca26"
             ],
             [
              1,
              "#f0f921"
             ]
            ],
            "type": "histogram2dcontour"
           }
          ],
          "mesh3d": [
           {
            "colorbar": {
             "outlinewidth": 0,
             "ticks": ""
            },
            "type": "mesh3d"
           }
          ],
          "parcoords": [
           {
            "line": {
             "colorbar": {
              "outlinewidth": 0,
              "ticks": ""
             }
            },
            "type": "parcoords"
           }
          ],
          "pie": [
           {
            "automargin": true,
            "type": "pie"
           }
          ],
          "scatter": [
           {
            "fillpattern": {
             "fillmode": "overlay",
             "size": 10,
             "solidity": 0.2
            },
            "type": "scatter"
           }
          ],
          "scatter3d": [
           {
            "line": {
             "colorbar": {
              "outlinewidth": 0,
              "ticks": ""
             }
            },
            "marker": {
             "colorbar": {
              "outlinewidth": 0,
              "ticks": ""
             }
            },
            "type": "scatter3d"
           }
          ],
          "scattercarpet": [
           {
            "marker": {
             "colorbar": {
              "outlinewidth": 0,
              "ticks": ""
             }
            },
            "type": "scattercarpet"
           }
          ],
          "scattergeo": [
           {
            "marker": {
             "colorbar": {
              "outlinewidth": 0,
              "ticks": ""
             }
            },
            "type": "scattergeo"
           }
          ],
          "scattergl": [
           {
            "marker": {
             "colorbar": {
              "outlinewidth": 0,
              "ticks": ""
             }
            },
            "type": "scattergl"
           }
          ],
          "scattermap": [
           {
            "marker": {
             "colorbar": {
              "outlinewidth": 0,
              "ticks": ""
             }
            },
            "type": "scattermap"
           }
          ],
          "scattermapbox": [
           {
            "marker": {
             "colorbar": {
              "outlinewidth": 0,
              "ticks": ""
             }
            },
            "type": "scattermapbox"
           }
          ],
          "scatterpolar": [
           {
            "marker": {
             "colorbar": {
              "outlinewidth": 0,
              "ticks": ""
             }
            },
            "type": "scatterpolar"
           }
          ],
          "scatterpolargl": [
           {
            "marker": {
             "colorbar": {
              "outlinewidth": 0,
              "ticks": ""
             }
            },
            "type": "scatterpolargl"
           }
          ],
          "scatterternary": [
           {
            "marker": {
             "colorbar": {
              "outlinewidth": 0,
              "ticks": ""
             }
            },
            "type": "scatterternary"
           }
          ],
          "surface": [
           {
            "colorbar": {
             "outlinewidth": 0,
             "ticks": ""
            },
            "colorscale": [
             [
              0,
              "#0d0887"
             ],
             [
              0.1111111111111111,
              "#46039f"
             ],
             [
              0.2222222222222222,
              "#7201a8"
             ],
             [
              0.3333333333333333,
              "#9c179e"
             ],
             [
              0.4444444444444444,
              "#bd3786"
             ],
             [
              0.5555555555555556,
              "#d8576b"
             ],
             [
              0.6666666666666666,
              "#ed7953"
             ],
             [
              0.7777777777777778,
              "#fb9f3a"
             ],
             [
              0.8888888888888888,
              "#fdca26"
             ],
             [
              1,
              "#f0f921"
             ]
            ],
            "type": "surface"
           }
          ],
          "table": [
           {
            "cells": {
             "fill": {
              "color": "#EBF0F8"
             },
             "line": {
              "color": "white"
             }
            },
            "header": {
             "fill": {
              "color": "#C8D4E3"
             },
             "line": {
              "color": "white"
             }
            },
            "type": "table"
           }
          ]
         },
         "layout": {
          "annotationdefaults": {
           "arrowcolor": "#2a3f5f",
           "arrowhead": 0,
           "arrowwidth": 1
          },
          "autotypenumbers": "strict",
          "coloraxis": {
           "colorbar": {
            "outlinewidth": 0,
            "ticks": ""
           }
          },
          "colorscale": {
           "diverging": [
            [
             0,
             "#8e0152"
            ],
            [
             0.1,
             "#c51b7d"
            ],
            [
             0.2,
             "#de77ae"
            ],
            [
             0.3,
             "#f1b6da"
            ],
            [
             0.4,
             "#fde0ef"
            ],
            [
             0.5,
             "#f7f7f7"
            ],
            [
             0.6,
             "#e6f5d0"
            ],
            [
             0.7,
             "#b8e186"
            ],
            [
             0.8,
             "#7fbc41"
            ],
            [
             0.9,
             "#4d9221"
            ],
            [
             1,
             "#276419"
            ]
           ],
           "sequential": [
            [
             0,
             "#0d0887"
            ],
            [
             0.1111111111111111,
             "#46039f"
            ],
            [
             0.2222222222222222,
             "#7201a8"
            ],
            [
             0.3333333333333333,
             "#9c179e"
            ],
            [
             0.4444444444444444,
             "#bd3786"
            ],
            [
             0.5555555555555556,
             "#d8576b"
            ],
            [
             0.6666666666666666,
             "#ed7953"
            ],
            [
             0.7777777777777778,
             "#fb9f3a"
            ],
            [
             0.8888888888888888,
             "#fdca26"
            ],
            [
             1,
             "#f0f921"
            ]
           ],
           "sequentialminus": [
            [
             0,
             "#0d0887"
            ],
            [
             0.1111111111111111,
             "#46039f"
            ],
            [
             0.2222222222222222,
             "#7201a8"
            ],
            [
             0.3333333333333333,
             "#9c179e"
            ],
            [
             0.4444444444444444,
             "#bd3786"
            ],
            [
             0.5555555555555556,
             "#d8576b"
            ],
            [
             0.6666666666666666,
             "#ed7953"
            ],
            [
             0.7777777777777778,
             "#fb9f3a"
            ],
            [
             0.8888888888888888,
             "#fdca26"
            ],
            [
             1,
             "#f0f921"
            ]
           ]
          },
          "colorway": [
           "#636efa",
           "#EF553B",
           "#00cc96",
           "#ab63fa",
           "#FFA15A",
           "#19d3f3",
           "#FF6692",
           "#B6E880",
           "#FF97FF",
           "#FECB52"
          ],
          "font": {
           "color": "#2a3f5f"
          },
          "geo": {
           "bgcolor": "white",
           "lakecolor": "white",
           "landcolor": "#E5ECF6",
           "showlakes": true,
           "showland": true,
           "subunitcolor": "white"
          },
          "hoverlabel": {
           "align": "left"
          },
          "hovermode": "closest",
          "mapbox": {
           "style": "light"
          },
          "paper_bgcolor": "white",
          "plot_bgcolor": "#E5ECF6",
          "polar": {
           "angularaxis": {
            "gridcolor": "white",
            "linecolor": "white",
            "ticks": ""
           },
           "bgcolor": "#E5ECF6",
           "radialaxis": {
            "gridcolor": "white",
            "linecolor": "white",
            "ticks": ""
           }
          },
          "scene": {
           "xaxis": {
            "backgroundcolor": "#E5ECF6",
            "gridcolor": "white",
            "gridwidth": 2,
            "linecolor": "white",
            "showbackground": true,
            "ticks": "",
            "zerolinecolor": "white"
           },
           "yaxis": {
            "backgroundcolor": "#E5ECF6",
            "gridcolor": "white",
            "gridwidth": 2,
            "linecolor": "white",
            "showbackground": true,
            "ticks": "",
            "zerolinecolor": "white"
           },
           "zaxis": {
            "backgroundcolor": "#E5ECF6",
            "gridcolor": "white",
            "gridwidth": 2,
            "linecolor": "white",
            "showbackground": true,
            "ticks": "",
            "zerolinecolor": "white"
           }
          },
          "shapedefaults": {
           "line": {
            "color": "#2a3f5f"
           }
          },
          "ternary": {
           "aaxis": {
            "gridcolor": "white",
            "linecolor": "white",
            "ticks": ""
           },
           "baxis": {
            "gridcolor": "white",
            "linecolor": "white",
            "ticks": ""
           },
           "bgcolor": "#E5ECF6",
           "caxis": {
            "gridcolor": "white",
            "linecolor": "white",
            "ticks": ""
           }
          },
          "title": {
           "x": 0.05
          },
          "xaxis": {
           "automargin": true,
           "gridcolor": "white",
           "linecolor": "white",
           "ticks": "",
           "title": {
            "standoff": 15
           },
           "zerolinecolor": "white",
           "zerolinewidth": 2
          },
          "yaxis": {
           "automargin": true,
           "gridcolor": "white",
           "linecolor": "white",
           "ticks": "",
           "title": {
            "standoff": 15
           },
           "zerolinecolor": "white",
           "zerolinewidth": 2
          }
         }
        },
        "title": {
         "text": "Voltage Magnitude Comparison"
        },
        "xaxis": {
         "title": {
          "text": "Bus"
         }
        },
        "yaxis": {
         "title": {
          "text": "V (pu)"
         }
        }
       }
      }
     },
     "metadata": {},
     "output_type": "display_data"
    }
   ],
   "source": [
    "# Voltage Magnitude plot\n",
    "gen_fig = go.Figure()\n",
    "gen_fig.add_trace(go.Scatter(x=list(range(n)), y=V_sdp, mode='markers+lines', name='SDP OPF V (pu)'))\n",
    "gen_fig.add_trace(go.Scatter(x=list(range(n)), y=V_opf, mode='markers+lines', name='OPF V (pu)'))\n",
    "gen_fig.update_layout(title=\"Voltage Magnitude Comparison\", xaxis_title=\"Bus\", yaxis_title=\"V (pu)\")\n",
    "gen_fig.show()"
   ]
  },
  {
   "cell_type": "code",
   "execution_count": null,
   "metadata": {},
   "outputs": [],
   "source": []
  }
 ],
 "metadata": {
  "kernelspec": {
   "display_name": "env",
   "language": "python",
   "name": "python3"
  },
  "language_info": {
   "codemirror_mode": {
    "name": "ipython",
    "version": 3
   },
   "file_extension": ".py",
   "mimetype": "text/x-python",
   "name": "python",
   "nbconvert_exporter": "python",
   "pygments_lexer": "ipython3",
   "version": "3.12.3"
  }
 },
 "nbformat": 4,
 "nbformat_minor": 2
}
